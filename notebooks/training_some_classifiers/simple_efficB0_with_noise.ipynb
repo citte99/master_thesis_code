{
 "cells": [
  {
   "cell_type": "code",
   "execution_count": 1,
   "metadata": {},
   "outputs": [
    {
     "name": "stdout",
     "output_type": "stream",
     "text": [
      "Loading pytorch/gpu-cuda-12.1/2.2.0\n",
      "  Loading requirement: cuda/12.1 cudnn/8.9.2\n"
     ]
    }
   ],
   "source": [
    "module('load', 'pytorch/gpu-cuda-12.1/2.2.0')\n"
   ]
  },
  {
   "cell_type": "code",
   "execution_count": 2,
   "metadata": {},
   "outputs": [
    {
     "name": "stdout",
     "output_type": "stream",
     "text": [
      "cuda\n",
      "{\n",
      "    \"classifier_name\": \"test_classifier2\",\n",
      "    \"NN_model\": \"ResNet50\",\n",
      "    \"NN_config\": {},\n",
      "    \"active_val_cats_live\": [\n",
      "        [\n",
      "            \"SIS_10e9_sub_test\",\n",
      "            \"NoNoiseDataset\",\n",
      "            {\n",
      "                \"grid_width_arcsec\": 6.0,\n",
      "                \"grid_pixel_side\": 100\n",
      "            }\n",
      "        ],\n",
      "        [\n",
      "            \"SIS_10e8_sub_test\",\n",
      "            \"NoNoiseDataset\",\n",
      "            {\n",
      "                \"grid_width_arcsec\": 6.0,\n",
      "                \"grid_pixel_side\": 100\n",
      "            }\n",
      "        ]\n",
      "    ]\n",
      "}\n"
     ]
    }
   ],
   "source": [
    "from substructure_classifier.substructure_classifier_development import SubstructureClassifier\n",
    "import json\n",
    "example_config=SubstructureClassifier.get_example_classifier_config()\n",
    "print(json.dumps(example_config, indent=4))\n",
    "\n",
    "example_config[\"classifier_name\"]=\"EfficientNetB0_low_res4\"\n",
    "\n",
    "example_config[\"active_val_cats_live\"]=[]\n",
    "\n",
    "\n",
    "example_config[\"NN_model\"]=\"EfficientNetB0\"\n",
    "\n",
    "example_config[\"NN_config\"]={\n",
    "        \"num_classes\": 2,\n",
    "        \"in_channels\": 1,\n",
    "        \"target_size\":224,\n",
    "        \"pretrained\": True\n",
    "    #loading the weights should be handled by stage...\n",
    "    \n",
    "}\n",
    "\n",
    "# def EfficientNetB0(\n",
    "#     num_classes: int = 2,\n",
    "#     in_channels: int = 1,\n",
    "#     target_size: int | tuple[int, int] = 224,\n",
    "#     pretrained: bool = True,\n",
    "#     resize_mode: str = \"bilinear\",\n",
    "# ):\n",
    "\n",
    "\n",
    "\n",
    "my_classifier = SubstructureClassifier(\"EfficientNetB0_low_res3\", config_dict=example_config)\n"
   ]
  },
  {
   "cell_type": "code",
   "execution_count": null,
   "metadata": {},
   "outputs": [],
   "source": [
    "\n"
   ]
  },
  {
   "cell_type": "code",
   "execution_count": 3,
   "metadata": {},
   "outputs": [
    {
     "name": "stdout",
     "output_type": "stream",
     "text": [
      "doneStage1\n",
      "doneStage2\n",
      "doneStage3\n",
      "doneStage4\n",
      "doneStage5\n",
      "load_stage1\n",
      "load_stage2\n",
      "load_stage2.1\n",
      "load_stage2.2\n",
      "load_stage3\n",
      "load_stage4\n",
      "load_stage5\n",
      "load_stage6\n",
      "doneStage6\n",
      "doneStage7\n",
      "load_stage1\n",
      "load_stage2\n",
      "load_stage2.1\n",
      "load_stage2.2\n",
      "load_stage3\n",
      "load_stage4\n",
      "load_stage5\n",
      "load_stage6\n",
      "forcing only one entry per catalog in add activ val cat live, substructure classifier dev\n",
      "Catalog conor_train_gauss_source_10e8_6_resample_theta_train_2 already exists in active validation catalogs.\n",
      "should have updated the classifier config file\n",
      "forcing only one entry per catalog in add activ val cat live, substructure classifier dev\n",
      "Catalog conor_train_gauss_source_10e8_6_resample_theta_val_2 already exists in active validation catalogs.\n",
      "should have updated the classifier config file\n",
      "load_stage1\n",
      "load_stage2\n",
      "load_stage2.1\n",
      "load_stage2.2\n",
      "load_stage3\n",
      "load_stage4\n",
      "load_stage5\n",
      "load_stage6\n",
      "Implement the device compatibility check in _check_ready_to_train, util.py\n",
      "Using device: cuda\n",
      "Using broadcasting mode\n",
      "Using device: cuda\n",
      "Currently this dataloader is calculating the images in float32\n",
      "1000000\n",
      "EfficientNetB0 is implemented to reshape whatever input size to the arbument target_size. Default 224\n",
      "[DEBUG] parent_stage_id = '3ed5cb4e80dedc9454def449541f6d93c5e785fd2c01176b83968f4cf8c06b4d'\n",
      "[DEBUG] loading checkpoint from '/raven/u/fcitterio/master_thesis_code/trained_classifiers/EfficientNetB0_low_res4/stages/3ed5cb4e80dedc9454def449541f6d93c5e785fd2c01176b83968f4cf8c06b4d/trained_params.pth'\n",
      "[DEBUG] before load: ‖_orig_mod.backbone.features.0.0.weight‖ = 6.566824\n",
      "[DEBUG] after load:  ‖_orig_mod.backbone.features.0.0.weight‖ = 1.436194\n",
      "Using device: cuda\n",
      "Using broadcasting mode\n",
      "Using device: cuda\n",
      "Currently this dataloader is calculating the images in float32\n",
      "4000\n",
      "Using device: cuda\n",
      "Using broadcasting mode\n",
      "Using device: cuda\n",
      "Currently this dataloader is calculating the images in float32\n",
      "4000\n",
      "Using device: cuda\n",
      "Using broadcasting mode\n",
      "Using device: cuda\n",
      "Currently this dataloader is calculating the images in float32\n",
      "4000\n",
      "Using device: cuda\n",
      "Using broadcasting mode\n",
      "Using device: cuda\n",
      "Currently this dataloader is calculating the images in float32\n",
      "4000\n",
      "Using device: cuda\n",
      "Using broadcasting mode\n",
      "Using device: cuda\n",
      "Currently this dataloader is calculating the images in float32\n",
      "4000\n",
      "Using device: cuda\n",
      "Using broadcasting mode\n",
      "Using device: cuda\n",
      "Currently this dataloader is calculating the images in float32\n",
      "4000\n",
      "Using device: cuda\n",
      "Using broadcasting mode\n",
      "Using device: cuda\n",
      "Currently this dataloader is calculating the images in float32\n",
      "4000\n",
      "Using device: cuda\n",
      "Using broadcasting mode\n",
      "Using device: cuda\n",
      "Currently this dataloader is calculating the images in float32\n",
      "4000\n",
      "hardcoding lr_best\n"
     ]
    },
    {
     "name": "stderr",
     "output_type": "stream",
     "text": [
      "2025/07/01 10:22:01 INFO handleInformInit: received streamId=17bavncs id=127.0.0.1:57408\n",
      "2025/07/01 10:22:01 INFO handleInformInit: stream started streamId=17bavncs id=127.0.0.1:57408\n"
     ]
    },
    {
     "data": {
      "text/html": [
       "Tracking run with wandb version 0.19.11"
      ],
      "text/plain": [
       "<IPython.core.display.HTML object>"
      ]
     },
     "metadata": {},
     "output_type": "display_data"
    },
    {
     "data": {
      "text/html": [
       "Run data is saved locally in <code>/raven/u/fcitterio/master_thesis_code/notebooks/training_some_classifiers/wandb/run-20250701_102201-17bavncs</code>"
      ],
      "text/plain": [
       "<IPython.core.display.HTML object>"
      ]
     },
     "metadata": {},
     "output_type": "display_data"
    },
    {
     "data": {
      "text/html": [
       "Syncing run <strong><a href='https://wandb.ai/francescocitterio99-max-planck-society/EfficientNetB0_low_res4/runs/17bavncs' target=\"_blank\">visionary-bee-7</a></strong> to <a href='https://wandb.ai/francescocitterio99-max-planck-society/EfficientNetB0_low_res4' target=\"_blank\">Weights & Biases</a> (<a href='https://wandb.me/developer-guide' target=\"_blank\">docs</a>)<br>"
      ],
      "text/plain": [
       "<IPython.core.display.HTML object>"
      ]
     },
     "metadata": {},
     "output_type": "display_data"
    },
    {
     "data": {
      "text/html": [
       " View project at <a href='https://wandb.ai/francescocitterio99-max-planck-society/EfficientNetB0_low_res4' target=\"_blank\">https://wandb.ai/francescocitterio99-max-planck-society/EfficientNetB0_low_res4</a>"
      ],
      "text/plain": [
       "<IPython.core.display.HTML object>"
      ]
     },
     "metadata": {},
     "output_type": "display_data"
    },
    {
     "data": {
      "text/html": [
       " View run at <a href='https://wandb.ai/francescocitterio99-max-planck-society/EfficientNetB0_low_res4/runs/17bavncs' target=\"_blank\">https://wandb.ai/francescocitterio99-max-planck-society/EfficientNetB0_low_res4/runs/17bavncs</a>"
      ],
      "text/plain": [
       "<IPython.core.display.HTML object>"
      ]
     },
     "metadata": {},
     "output_type": "display_data"
    },
    {
     "name": "stdout",
     "output_type": "stream",
     "text": [
      "Tracked catalogs: ['conor_train_gauss_source_10e11_resample_theta_train_2', 'conor_train_gauss_source_10e11_resample_theta_val_2', 'conor_train_gauss_source_10e10_resample_theta_train_2', 'conor_train_gauss_source_10e10_resample_theta_val_2', 'conor_train_gauss_source_10e9_resample_theta_train_2', 'conor_train_gauss_source_10e9_resample_theta_val_2', 'conor_train_gauss_source_10e8_6_resample_theta_train_2', 'conor_train_gauss_source_10e8_6_resample_theta_val_2']\n"
     ]
    },
    {
     "data": {
      "application/vnd.jupyter.widget-view+json": {
       "model_id": "2cb94b1dc0a44765b2caf014477bfca4",
       "version_major": 2,
       "version_minor": 0
      },
      "text/plain": [
       "Epoch 1/10000:   0%|          | 0/3907 [00:00<?, ?batch/s]"
      ]
     },
     "metadata": {},
     "output_type": "display_data"
    },
    {
     "name": "stdout",
     "output_type": "stream",
     "text": [
      "Training_loss= 0.5962830185890198, Validation_loss=0.6104150776863098\n",
      "New best validation loss: 0.610415\n",
      "🚨 Non-finite inputs in batch 35; skipping this batch.\n",
      "Training_loss= 0.611634219288826, Validation_loss=0.607267153263092\n",
      "New best validation loss: 0.607267\n",
      "Training_loss= 0.6106732380390167, Validation_loss=0.6099537601470947\n",
      "Training_loss= 0.6136099454760552, Validation_loss=0.6075081386566162\n",
      "Training_loss= 0.6087673220038414, Validation_loss=0.6060443243980408\n",
      "New best validation loss: 0.606044\n",
      "🚨 Non-finite inputs in batch 1366; skipping this batch.\n",
      "Training_loss= 0.6106876826286316, Validation_loss=0.6050749173164368\n",
      "New best validation loss: 0.605075\n",
      "Training_loss= 0.6098228204250336, Validation_loss=0.6090041036605836\n",
      "Training_loss= 0.6080395534634591, Validation_loss=0.6057621803283691\n",
      "🚨 Non-finite inputs in batch 2159; skipping this batch.\n",
      "Training_loss= 0.6094719702005387, Validation_loss=0.6091382293701172\n",
      "Training_loss= 0.6087619346380234, Validation_loss=0.6078509984016418\n",
      "Training_loss= 0.6101557925343514, Validation_loss=0.612017876625061\n",
      "🚨 Non-finite inputs in batch 3149; skipping this batch.\n",
      "Training_loss= 0.6092250707745552, Validation_loss=0.6089474911689758\n",
      "Training_loss= 0.6105433705449105, Validation_loss=0.6107415332794189\n",
      "Training_loss= 0.6055409821867943, Validation_loss=0.6066117429733277\n"
     ]
    },
    {
     "data": {
      "application/vnd.jupyter.widget-view+json": {
       "model_id": "53a6b81560eb419eab4b99ea8f669330",
       "version_major": 2,
       "version_minor": 0
      },
      "text/plain": [
       "Epoch 2/10000:   0%|          | 0/3907 [00:00<?, ?batch/s]"
      ]
     },
     "metadata": {},
     "output_type": "display_data"
    },
    {
     "name": "stdout",
     "output_type": "stream",
     "text": [
      "Training_loss= 0.6053499475121498, Validation_loss=0.6081583690643311\n",
      "Training_loss= 0.6064546483755112, Validation_loss=0.6033577008247375\n",
      "New best validation loss: 0.603358\n",
      "Training_loss= 0.6083917135000229, Validation_loss=0.6018045139312744\n",
      "New best validation loss: 0.601805\n",
      "Training_loss= 0.606085829436779, Validation_loss=0.6036982226371765\n",
      "Training_loss= 0.6049417662620544, Validation_loss=0.6059621810913086\n",
      "🚨 Non-finite inputs in batch 1328; skipping this batch.\n",
      "Training_loss= 0.6055472648143768, Validation_loss=0.607032826423645\n",
      "Training_loss= 0.6052284729480744, Validation_loss=0.6042780637741089\n",
      "Training_loss= 0.6054412198066711, Validation_loss=0.6034955844879151\n",
      "Training_loss= 0.6066948184370995, Validation_loss=0.6060965676307678\n",
      "Training_loss= 0.6085492399334907, Validation_loss=0.6036313548088074\n",
      "Training_loss= 0.603233118057251, Validation_loss=0.6089256372451782\n",
      "Training_loss= 0.6042951813340187, Validation_loss=0.6066625475883484\n",
      "Training_loss= 0.6062621113657951, Validation_loss=0.6041968793869018\n",
      "🚨 Non-finite inputs in batch 3615; skipping this batch.\n",
      "Training_loss= 0.6048128339648247, Validation_loss=0.6064047422409058\n"
     ]
    },
    {
     "data": {
      "application/vnd.jupyter.widget-view+json": {
       "model_id": "a6d5521be48143ee839ef1d8e63a8dc6",
       "version_major": 2,
       "version_minor": 0
      },
      "text/plain": [
       "Epoch 3/10000:   0%|          | 0/3907 [00:00<?, ?batch/s]"
      ]
     },
     "metadata": {},
     "output_type": "display_data"
    },
    {
     "name": "stdout",
     "output_type": "stream",
     "text": [
      "Training_loss= 0.6050586146116257, Validation_loss=0.6014778804779053\n",
      "New best validation loss: 0.601478\n",
      "🚨 Non-finite inputs in batch 7; skipping this batch.\n",
      "Training_loss= 0.60501813352108, Validation_loss=0.6034385843276977\n",
      "Training_loss= 0.6054910999536515, Validation_loss=0.6021978869438172\n",
      "Training_loss= 0.6042327034473419, Validation_loss=0.605092354297638\n",
      "Training_loss= 0.605852693617344, Validation_loss=0.604819375038147\n",
      "Training_loss= 0.6028988009691238, Validation_loss=0.6028815660476684\n",
      "Training_loss= 0.6036343586444854, Validation_loss=0.6024215378761292\n",
      "Training_loss= 0.6047945463657379, Validation_loss=0.6016524887084961\n",
      "🚨 Non-finite inputs in batch 2295; skipping this batch.\n",
      "Training_loss= 0.6059105712175369, Validation_loss=0.6062899870872498\n",
      "Training_loss= 0.606633568406105, Validation_loss=0.6042708358764648\n",
      "Training_loss= 0.6040971124172211, Validation_loss=0.6040389585494995\n",
      "Training_loss= 0.6055231428146363, Validation_loss=0.6025115723609924\n",
      "Training_loss= 0.6063379791378974, Validation_loss=0.6006080484390259\n",
      "New best validation loss: 0.600608\n",
      "Training_loss= 0.6023832896351814, Validation_loss=0.6011371741294861\n"
     ]
    },
    {
     "data": {
      "application/vnd.jupyter.widget-view+json": {
       "model_id": "b9fa2eb2e46446f688c6e3ea778e855c",
       "version_major": 2,
       "version_minor": 0
      },
      "text/plain": [
       "Epoch 4/10000:   0%|          | 0/3907 [00:00<?, ?batch/s]"
      ]
     },
     "metadata": {},
     "output_type": "display_data"
    },
    {
     "name": "stdout",
     "output_type": "stream",
     "text": [
      "Training_loss= 0.6021726548671722, Validation_loss=0.6055324077606201\n",
      "Training_loss= 0.6062778115272522, Validation_loss=0.6011372156143189\n",
      "Training_loss= 0.6040577593445778, Validation_loss=0.6027670726776123\n",
      "Training_loss= 0.6057389795780181, Validation_loss=0.6032713150978088\n",
      "Training_loss= 0.6031630676984787, Validation_loss=0.6033028273582458\n",
      "🚨 Non-finite inputs in batch 1273; skipping this batch.\n",
      "Training_loss= 0.6024990060925484, Validation_loss=0.6063284487724304\n",
      "🚨 Non-finite inputs in batch 1581; skipping this batch.\n",
      "Training_loss= 0.6018744635581971, Validation_loss=0.6037945828437805\n",
      "Training_loss= 0.6039417925477027, Validation_loss=0.6078042407035827\n",
      "Training_loss= 0.6050772053003312, Validation_loss=0.6065007691383362\n",
      "Training_loss= 0.6057243132591248, Validation_loss=0.6030547728538513\n",
      "🚨 Non-finite inputs in batch 2732; skipping this batch.\n",
      "Training_loss= 0.603731330037117, Validation_loss=0.6027899732589722\n",
      "🚨 Non-finite inputs in batch 3083; skipping this batch.\n",
      "Training_loss= 0.6059540861845016, Validation_loss=0.604750880241394\n",
      "🚨 Non-finite inputs in batch 3482; skipping this batch.\n",
      "🚨 Non-finite inputs in batch 3585; skipping this batch.\n",
      "Training_loss= 0.6050240209698677, Validation_loss=0.6021525330543518\n",
      "🚨 Non-finite inputs in batch 3863; skipping this batch.\n",
      "Training_loss= 0.6043763202428818, Validation_loss=0.6022733945846558\n"
     ]
    },
    {
     "data": {
      "application/vnd.jupyter.widget-view+json": {
       "model_id": "d75de4e03aa94dcab37a84bcc02ca8df",
       "version_major": 2,
       "version_minor": 0
      },
      "text/plain": [
       "Epoch 5/10000:   0%|          | 0/3907 [00:00<?, ?batch/s]"
      ]
     },
     "metadata": {},
     "output_type": "display_data"
    },
    {
     "name": "stdout",
     "output_type": "stream",
     "text": [
      "Training_loss= 0.6050973474979401, Validation_loss=0.6043482599258423\n",
      "🚨 Non-finite inputs in batch 11; skipping this batch.\n",
      "🚨 Non-finite inputs in batch 157; skipping this batch.\n",
      "Training_loss= 0.6023165744543075, Validation_loss=0.6037646551132202\n",
      "🚨 Non-finite inputs in batch 600; skipping this batch.\n",
      "Training_loss= 0.6041656932234765, Validation_loss=0.6060323529243469\n",
      "🚨 Non-finite inputs in batch 920; skipping this batch.\n",
      "Training_loss= 0.606645397245884, Validation_loss=0.6056614408493042\n",
      "Training_loss= 0.6034469366073608, Validation_loss=0.6046731634140015\n",
      "Early stopping at epoch 4, batch 1500\n",
      "Implement the device compatibility check in _check_ready_to_train, util.py\n"
     ]
    },
    {
     "data": {
      "image/png": "[encoded data removed]",
      "text/plain": [
       "<Figure size 640x480 with 1 Axes>"
      ]
     },
     "metadata": {},
     "output_type": "display_data"
    },
    {
     "data": {
      "image/png": "[encoded data removed]",
      "text/plain": [
       "<Figure size 640x480 with 1 Axes>"
      ]
     },
     "metadata": {},
     "output_type": "display_data"
    },
    {
     "name": "stdout",
     "output_type": "stream",
     "text": [
      "Model parameters saved to /raven/u/fcitterio/master_thesis_code/trained_classifiers/EfficientNetB0_low_res4/stages/24d1e83d9f0f2f9e004ebe00547854f5111c909eea0a9efc97f9dee5644bc506/trained_params.pth\n"
     ]
    },
    {
     "data": {
      "text/html": [],
      "text/plain": [
       "<IPython.core.display.HTML object>"
      ]
     },
     "metadata": {},
     "output_type": "display_data"
    },
    {
     "data": {
      "text/html": [
       "<br>    <style><br>        .wandb-row {<br>            display: flex;<br>            flex-direction: row;<br>            flex-wrap: wrap;<br>            justify-content: flex-start;<br>            width: 100%;<br>        }<br>        .wandb-col {<br>            display: flex;<br>            flex-direction: column;<br>            flex-basis: 100%;<br>            flex: 1;<br>            padding: 10px;<br>        }<br>    </style><br><div class=\"wandb-row\"><div class=\"wandb-col\"><h3>Run history:</h3><br/><table class=\"wandb\"><tr><td>Validation loss</td><td>█▆▇▅▅▇█▅▆▃▅▅▄▅▃▅▃▅▂▃▄▂▂▅▄▂▁▁▄▁▃▅▃▅▃▂▂▄▃▄</td></tr><tr><td>accuracy/conor_train_gauss_source_10e10_resample_theta_train_2</td><td>▇▅▅▄▅▅▄▁▃▄▅▇▅▅▅▆▆▆▇▆▄▅█▆█▆▆▆▆▅▅▄▅▆▆▆▆▆▆▆</td></tr><tr><td>accuracy/conor_train_gauss_source_10e10_resample_theta_val_2</td><td>▃▃▂▃▁▄▁▁▄▃▄▆▅▄▄▄▃▅▆▅▇▄▄▆▅▅▅▆▆▆▆▅▅▆▄▅▅█▆▅</td></tr><tr><td>accuracy/conor_train_gauss_source_10e11_resample_theta_train_2</td><td>█▃▄▄▅▃▄▁▁▅▄▆▆▇▆▇▆▆▅▆▇▇▇▅▆▇▆▆▆▆▇▇▆▇▅▆▆▇▆▆</td></tr><tr><td>accuracy/conor_train_gauss_source_10e11_resample_theta_val_2</td><td>▃▃▂▃▁▄▁▃▄▆▆▆▇▆▆▆▆▆▅▅▆▅▅▅▅▅▅▇▇▆▆█▆▆▆▆▇▆▇▆</td></tr><tr><td>accuracy/conor_train_gauss_source_10e8_6_resample_theta_train_2</td><td>▅▃▃▄▃▄▃▄▄▁▆▇▆▄▄▅▃▄▅▇▃▆▇█▅█▅▅█▇██▇▆▄█▆▅▄▇</td></tr><tr><td>accuracy/conor_train_gauss_source_10e8_6_resample_theta_val_2</td><td>▅▂▃▅▃▄▁▁▂▃▆▄▃▂▄▂▅▄▄▃▇▆▄█▅▃▅▆▆▃▅▅▃▅▆▄▅▅▆▄</td></tr><tr><td>accuracy/conor_train_gauss_source_10e9_resample_theta_train_2</td><td>▆▁▂▅▃▁▃▅▂▅▇▅▅▃▆▄▅▅▄▅▄▅▇▅▅▆▇▇▇▆▅▇▆▅█▇▄▅▆▅</td></tr><tr><td>accuracy/conor_train_gauss_source_10e9_resample_theta_val_2</td><td>▇▇▁▅▂▁▄▂▆▄▅▄▆▅▅▃▅▃▅▄▇█▄▃▆▅▇▅▆▇▆▆▄▃▃▃▆▆▅▄</td></tr><tr><td>f1/conor_train_gauss_source_10e10_resample_theta_train_2</td><td>▇▄▃▄▄▁▃▆▅▃▄▆▄▆▄▆▅▅▇▆▃▅█▆█▆▅▅▆▄▄▄▄▆▆▅▅▄▆▅</td></tr><tr><td>f1/conor_train_gauss_source_10e10_resample_theta_val_2</td><td>▅▁▂▂▄▃▂▅▆▄▄▄▃▇▆▆▂▅▆▄▇▄█▆▄▇▇▇█▄▇▆▆▄▅▆▆▆▅▄</td></tr><tr><td>f1/conor_train_gauss_source_10e11_resample_theta_train_2</td><td>█▂▄▃▅▃▄▁▁▄▆▅▆▅▅▇▆▆▅▅▆▇▇▅▅▆▇▅▆▆▇▆▇▅▅▆▇▆▇▆</td></tr><tr><td>f1/conor_train_gauss_source_10e11_resample_theta_val_2</td><td>█▄▄▃▄▁▃▄▁▃▇▅▇▅▆▇▆▇▅▆▆▅▆▆▅▇█▆▅▇▆▇▆▆▇▇█▆▆▇</td></tr><tr><td>f1/conor_train_gauss_source_10e8_6_resample_theta_train_2</td><td>▃▅▄▅▆█▅▄▃▅▅▃▃▅▁▅▅▅▅▅▄▃▄▅▅▅▄▅▆▇▆▆▃▄▆▄▃▃▃▅</td></tr><tr><td>f1/conor_train_gauss_source_10e8_6_resample_theta_val_2</td><td>▅▅▅▆▄▅▆▆█▃▄▄▃▆▃▁▆▄▄▃▆▅▄▅▄▅▅▆▆▇▄▅▅▂▃▆▄▅▅▅</td></tr><tr><td>f1/conor_train_gauss_source_10e9_resample_theta_train_2</td><td>▃▃▁▁▇▃▄▄▃▇▆▄▆▅▂▆▂▂▆▄▂▄▅▄▆▇▅▃▅█▂▅█▄▅▅▂▅▅▃</td></tr><tr><td>f1/conor_train_gauss_source_10e9_resample_theta_val_2</td><td>█▄▇▅▃▅▄▄▅▂▃▃▅▄▄▁▄▂▄▃▆▃▃▄▄▂▇▄▃▅▂▅▄▃▂▅▆▄▅▃</td></tr><tr><td>learning_rate</td><td>███████████▂▂▂▂▁▁▁▁▁▁▁▁▁▁▁▁▁▁▁▁▁▁▁▁▁▁▁▁▁</td></tr><tr><td>loss</td><td>▃▄▆▆▅▃▄▂▄▅▄▄▄▄▁▅▃▁▂▃▅▄▄▆▅█▆▂▅▂▆▄▅▃▃▃▃▅▃▃</td></tr><tr><td>loss/conor_train_gauss_source_10e10_resample_theta_train_2</td><td>▄▄▅▃▆█▆▅▆▅▄▃▃▃▃▃▄▂▄▄▁▂▃▂▂▃▃▃▂▃▃▃▃▃▂▂▃▃▂▂</td></tr><tr><td>loss/conor_train_gauss_source_10e10_resample_theta_val_2</td><td>▁▅▇▅▇▇█▇█▅▅▄▅▄▄▄▅▄▄▄▄▄▃▃▄▄▃▂▃▄▄▅▃▂▄▃▃▃▃▃</td></tr><tr><td>loss/conor_train_gauss_source_10e11_resample_theta_train_2</td><td>▁▆▆▅▆▇█▅▇▆▆▅▅▅▅▅▅▅▅▆▅▅▅▅▅▄▅▅▅▅▅▅▄▅▆▅▅▄▅▅</td></tr><tr><td>loss/conor_train_gauss_source_10e11_resample_theta_val_2</td><td>▁▆▆▇▆▇█▇▆▇▆▆▆▅▅▆▄▆▅▅▆▅▆▅▅▅▅▆▆▅▆▅▅▆▆▅▅▅▅▅</td></tr><tr><td>loss/conor_train_gauss_source_10e8_6_resample_theta_train_2</td><td>█▅▅█▅▇▅█▇▇▄▄▄▅▄▄▅▅▃▄▁▃▄▄▂▃▄▂▅▃▄▅▃▃▄▂▃▃▅▅</td></tr><tr><td>loss/conor_train_gauss_source_10e8_6_resample_theta_val_2</td><td>▇▅▇▄▄▄▆▅█▆▅▄▅▄▃▅▃▅▂▃▄▄▂▂▂▃▂▁▁▄▃▅▅▂▄▂▃▃▄▂</td></tr><tr><td>loss/conor_train_gauss_source_10e9_resample_theta_train_2</td><td>▃▆█▅▇▅▄▆▄▃▄▅▄▄▃▃▄▄▃▅▂▂▄▄▃▃▁▄▄▃▃▃▃▃▃▃▃▃▄▃</td></tr><tr><td>loss/conor_train_gauss_source_10e9_resample_theta_val_2</td><td>▁▃▆▄▆█▆▆▅▆▇▃▃▄▃▃▄▄▃▄▃▁▅▂▃▂▃▂▂▂▂▃▂▃▁▂▄▂▅▂</td></tr><tr><td>precision/conor_train_gauss_source_10e10_resample_theta_train_2</td><td>▇▅▅▅▅▁▃▅▄▇▆▇▇▆▆▇▆▇▇▇█▆▆▇█▇▇▇▇▇▇▇▆▆▇▇▇▇██</td></tr><tr><td>precision/conor_train_gauss_source_10e10_resample_theta_val_2</td><td>▆▅▆▃▆▁▃▅▅▇▇▇▆▅█▅▇▇▆▆▇▆▇▆▆▇▇██▇▆▇▇▆▇▇█▇██</td></tr><tr><td>precision/conor_train_gauss_source_10e11_resample_theta_train_2</td><td>▁▂▁▅▃▂▃▇▇█▆▇▇▅▇▄▇▆▆▅▇█▅▇▇▆█▆█▆██▇▇▄▅▆▇▆▇</td></tr><tr><td>precision/conor_train_gauss_source_10e11_resample_theta_val_2</td><td>▇▄▄▃▃▄▁▁▅▂▇▆▄▇▇▇▆▆▇▆▇▇▅▅▅▇▇▆▇▆▇▇█▇▆▆▆█▆▇</td></tr><tr><td>precision/conor_train_gauss_source_10e8_6_resample_theta_train_2</td><td>▆▃▄▅▃▄▁▂▄▆▆▅▆▇▇▆▆▇▇▆▇▆▇▆██▇▇▇█▇▆▆█▆▇▇▅▇▇</td></tr><tr><td>precision/conor_train_gauss_source_10e8_6_resample_theta_val_2</td><td>▆▃▅▄▄▁▃▄▄▄▆▅▅▅█▅▅▆▅▆▇▆▅█▇▅▅▆▆▇▅▆▆▆▅▅▆▇▆▇</td></tr><tr><td>precision/conor_train_gauss_source_10e9_resample_theta_train_2</td><td>▂▄▃▅▃▁▁▄▄▄▇▆▆▆▆▆▇▇▆▆▇▇▆▆▆▇▇▇▆▆▆█▇█▆▆▇█▇▅</td></tr><tr><td>precision/conor_train_gauss_source_10e9_resample_theta_val_2</td><td>▅▃▅▅▅▁▁▆▆█▆▅▅▇▆▅█▅▇▆▇▆▆▆▇▇▆▆▆▆▅▆▇▅▆▆▇▅█▇</td></tr><tr><td>recall/conor_train_gauss_source_10e10_resample_theta_train_2</td><td>▆▅▂▅▇██▅▂▄▅▂▆▂▁▄▄▇▅▃▅▄▇▇▅▃▃▂▅▂▂▃▃█▄▄▁▄▆▂</td></tr><tr><td>recall/conor_train_gauss_source_10e10_resample_theta_val_2</td><td>▃▆▅▃▃▅▄█▅▇▆▄▄█▄▆▁▄▄▆▃▇▅▃▇▆▇▇▃▅▆▅▆▃▅▅▅█▅▅</td></tr><tr><td>recall/conor_train_gauss_source_10e11_resample_theta_train_2</td><td>█▃▅▆▄▆▄▄▄▃▄▅▄▅▆▄▅▄▁▄▃▅▆▃▃▅▃▄▆▃▆▅▄▄▃▃▅▅▆▆</td></tr><tr><td>recall/conor_train_gauss_source_10e11_resample_theta_val_2</td><td>▅▃▃▂▅▃▅█▂▃▃▂▂▅▅▂▃▄▄▄▄▄▅▃▂▄▂▁▄▆▂▄▂▄▄▄▄▃▃▂</td></tr><tr><td>recall/conor_train_gauss_source_10e8_6_resample_theta_train_2</td><td>▂▅▄▄▅▄██▄▅▅▃▃▄▂▂▄▁▁▄▄▃▃▃▃▃▃▃▃▃▄▃▄▃▂▂▂▃▂▄</td></tr><tr><td>recall/conor_train_gauss_source_10e8_6_resample_theta_val_2</td><td>▄▅▅▄▅██▃▅▃▅▅▃▁▅▅▂▂▃▃▃▅▃▃▄▄▄▄▄▂▄▃▁▂▅▃▄▃▆▅</td></tr><tr><td>recall/conor_train_gauss_source_10e9_resample_theta_train_2</td><td>▆▅▃▃▇▄██▃▆▅▄▂▃▆▁▆▄▁▄▂▂▄▅▄▆▆▂▆▄▂▄▃▃▅▅▃▂▅▂</td></tr><tr><td>recall/conor_train_gauss_source_10e9_resample_theta_val_2</td><td>▃▇▅▆▁█▆▄▅▄▂▄▄▅▂▃▃▃▄▅▄▃▃▅▂▅▄▃▄▃▅▄▂▄▃▄▅▄▃▄</td></tr><tr><td>samples_seen</td><td>▁▁▁▁▂▂▂▂▂▂▃▃▃▃▃▄▄▄▄▄▅▅▅▅▅▅▆▆▆▆▆▆▇▇▇▇▇███</td></tr><tr><td>total_norm</td><td>▇▆▄▃▃▃▄▂▃▄▃▃▂▂▁▁▅▄▆█▃▃▃▅▃▃▆▂▄▅▃▃▂▆▃▃▁▁▄▅</td></tr></table><br/></div><div class=\"wandb-col\"><h3>Run summary:</h3><br/><table class=\"wandb\"><tr><td>Validation loss</td><td>0.60467</td></tr><tr><td>accuracy/conor_train_gauss_source_10e10_resample_theta_train_2</td><td>0.81025</td></tr><tr><td>accuracy/conor_train_gauss_source_10e10_resample_theta_val_2</td><td>0.804</td></tr><tr><td>accuracy/conor_train_gauss_source_10e11_resample_theta_train_2</td><td>0.936</td></tr><tr><td>accuracy/conor_train_gauss_source_10e11_resample_theta_val_2</td><td>0.93425</td></tr><tr><td>accuracy/conor_train_gauss_source_10e8_6_resample_theta_train_2</td><td>0.64725</td></tr><tr><td>accuracy/conor_train_gauss_source_10e8_6_resample_theta_val_2</td><td>0.6435</td></tr><tr><td>accuracy/conor_train_gauss_source_10e9_resample_theta_train_2</td><td>0.67175</td></tr><tr><td>accuracy/conor_train_gauss_source_10e9_resample_theta_val_2</td><td>0.6865</td></tr><tr><td>f1/conor_train_gauss_source_10e10_resample_theta_train_2</td><td>0.78431</td></tr><tr><td>f1/conor_train_gauss_source_10e10_resample_theta_val_2</td><td>0.77419</td></tr><tr><td>f1/conor_train_gauss_source_10e11_resample_theta_train_2</td><td>0.9359</td></tr><tr><td>f1/conor_train_gauss_source_10e11_resample_theta_val_2</td><td>0.93701</td></tr><tr><td>f1/conor_train_gauss_source_10e8_6_resample_theta_train_2</td><td>0.52411</td></tr><tr><td>f1/conor_train_gauss_source_10e8_6_resample_theta_val_2</td><td>0.51595</td></tr><tr><td>f1/conor_train_gauss_source_10e9_resample_theta_train_2</td><td>0.58038</td></tr><tr><td>f1/conor_train_gauss_source_10e9_resample_theta_val_2</td><td>0.5918</td></tr><tr><td>learning_rate</td><td>0.0</td></tr><tr><td>loss</td><td>0.61427</td></tr><tr><td>loss/conor_train_gauss_source_10e10_resample_theta_train_2</td><td>0.4471</td></tr><tr><td>loss/conor_train_gauss_source_10e10_resample_theta_val_2</td><td>0.4544</td></tr><tr><td>loss/conor_train_gauss_source_10e11_resample_theta_train_2</td><td>0.31062</td></tr><tr><td>loss/conor_train_gauss_source_10e11_resample_theta_val_2</td><td>0.30018</td></tr><tr><td>loss/conor_train_gauss_source_10e8_6_resample_theta_train_2</td><td>0.60224</td></tr><tr><td>loss/conor_train_gauss_source_10e8_6_resample_theta_val_2</td><td>0.60289</td></tr><tr><td>loss/conor_train_gauss_source_10e9_resample_theta_train_2</td><td>0.571</td></tr><tr><td>loss/conor_train_gauss_source_10e9_resample_theta_val_2</td><td>0.56804</td></tr><tr><td>precision/conor_train_gauss_source_10e10_resample_theta_train_2</td><td>0.89785</td></tr><tr><td>precision/conor_train_gauss_source_10e10_resample_theta_val_2</td><td>0.89125</td></tr><tr><td>precision/conor_train_gauss_source_10e11_resample_theta_train_2</td><td>0.91843</td></tr><tr><td>precision/conor_train_gauss_source_10e11_resample_theta_val_2</td><td>0.91745</td></tr><tr><td>precision/conor_train_gauss_source_10e8_6_resample_theta_train_2</td><td>0.82836</td></tr><tr><td>precision/conor_train_gauss_source_10e8_6_resample_theta_val_2</td><td>0.82879</td></tr><tr><td>precision/conor_train_gauss_source_10e9_resample_theta_train_2</td><td>0.82246</td></tr><tr><td>precision/conor_train_gauss_source_10e9_resample_theta_val_2</td><td>0.8309</td></tr><tr><td>recall/conor_train_gauss_source_10e10_resample_theta_train_2</td><td>0.69627</td></tr><tr><td>recall/conor_train_gauss_source_10e10_resample_theta_val_2</td><td>0.68432</td></tr><tr><td>recall/conor_train_gauss_source_10e11_resample_theta_train_2</td><td>0.95406</td></tr><tr><td>recall/conor_train_gauss_source_10e11_resample_theta_val_2</td><td>0.95742</td></tr><tr><td>recall/conor_train_gauss_source_10e8_6_resample_theta_train_2</td><td>0.38333</td></tr><tr><td>recall/conor_train_gauss_source_10e8_6_resample_theta_val_2</td><td>0.37457</td></tr><tr><td>recall/conor_train_gauss_source_10e9_resample_theta_train_2</td><td>0.4484</td></tr><tr><td>recall/conor_train_gauss_source_10e9_resample_theta_val_2</td><td>0.45956</td></tr><tr><td>samples_seen</td><td>4384000</td></tr><tr><td>total_norm</td><td>3.73022</td></tr></table><br/></div></div>"
      ],
      "text/plain": [
       "<IPython.core.display.HTML object>"
      ]
     },
     "metadata": {},
     "output_type": "display_data"
    },
    {
     "data": {
      "text/html": [
       " View run <strong style=\"color:#cdcd00\">visionary-bee-7</strong> at: <a href='https://wandb.ai/francescocitterio99-max-planck-society/EfficientNetB0_low_res4/runs/17bavncs' target=\"_blank\">https://wandb.ai/francescocitterio99-max-planck-society/EfficientNetB0_low_res4/runs/17bavncs</a><br> View project at: <a href='https://wandb.ai/francescocitterio99-max-planck-society/EfficientNetB0_low_res4' target=\"_blank\">https://wandb.ai/francescocitterio99-max-planck-society/EfficientNetB0_low_res4</a><br>Synced 5 W&B file(s), 496 media file(s), 982 artifact file(s) and 0 other file(s)"
      ],
      "text/plain": [
       "<IPython.core.display.HTML object>"
      ]
     },
     "metadata": {},
     "output_type": "display_data"
    },
    {
     "data": {
      "text/html": [
       "Find logs at: <code>./wandb/run-20250701_102201-17bavncs/logs</code>"
      ],
      "text/plain": [
       "<IPython.core.display.HTML object>"
      ]
     },
     "metadata": {},
     "output_type": "display_data"
    },
    {
     "name": "stderr",
     "output_type": "stream",
     "text": [
      "2025/07/01 14:53:23 INFO handleInformFinish: finish message received streamId=17bavncs id=127.0.0.1:57408\n",
      "2025/07/01 14:53:23 INFO handleInformFinish: stream closed streamId=17bavncs id=127.0.0.1:57408\n"
     ]
    },
    {
     "name": "stdout",
     "output_type": "stream",
     "text": [
      "should have updated the classifier config file\n",
      "Implement the device compatibility check in _check_ready_to_train, util.py\n",
      "Live metrics saved.\n",
      "EfficientNetB0 is implemented to reshape whatever input size to the arbument target_size. Default 224\n",
      "Loading paramters of the current stage, not the parent. This mode is intended for using an already trained stage for some evaluations\n",
      "Training completed metrics saved to /raven/u/fcitterio/master_thesis_code/trained_classifiers/EfficientNetB0_low_res4/stages/24d1e83d9f0f2f9e004ebe00547854f5111c909eea0a9efc97f9dee5644bc506/training_completed_metrics.json\n"
     ]
    },
    {
     "data": {
      "text/plain": [
       "TrainingCompletedMetrics(accuracy={}, f1_score={}, precision={}, recall={})"
      ]
     },
     "execution_count": 3,
     "metadata": {},
     "output_type": "execute_result"
    }
   ],
   "source": [
    "from substructure_classifier.training_stage_development import Stage\n",
    "from substructure_classifier.substructure_classifier_development import SubstructureClassifier\n",
    "#!pip install onnx onnxscript onnxruntime-gpu\n",
    "import torch\n",
    "\n",
    "torch.set_float32_matmul_precision('high')\n",
    "\n",
    "example_config=Stage.get_example_config(return_config=True)\n",
    "my_classifier=SubstructureClassifier(\"EfficientNetB0_low_res4\")\n",
    "\n",
    "# example_config[\"training_catalog\"]=\"conor_train_gauss_source_10e11_resample_theta_train_2\"\n",
    "\n",
    "# example_config[\"validation_like_train_catalog\"]=\"conor_train_gauss_source_10e11_resample_theta_val_2\"\n",
    "# example_config[\"dataset_class_str\"]=\"SingleTelescopeNoiseDataset\"\n",
    "# example_config[\"dataset_config\"]={\n",
    "#             \"grid_width_arcsec\":8.0,\n",
    "#             \"grid_pixel_side\":100,\n",
    "#             \"upscaling\":5,\n",
    "#             \"broadcasting\":True,\n",
    "#             \"sky_level\":0.4,\n",
    "#             \"kernel_size\":5,\n",
    "#             \"kernel_sigma\":1.0,\n",
    "#             \"gain_interval\": [500, 1e6],\n",
    "#             \"final_transform\": False\n",
    "# }\n",
    "\n",
    "# example_config[\"samples_used_for_training\"]=1000000#1000000\n",
    "# example_config[\"samples_used_for_validation\"]=4000\n",
    "# example_config[\"batch_size\"]=256\n",
    "# example_config[\"jump_batch_val\"]=300\n",
    "# example_config[\"learning_rate\"]=0.0001\n",
    "# example_config[\"epochs\"]=100000\n",
    "# my_stage=Stage(classifier_instance=my_classifier, config=example_config, device=\"cuda\")\n",
    "\n",
    "# my_stage.train(train_ready=True, early_stopping=True)\n",
    "\n",
    "\n",
    "# example_config=Stage.get_example_config(return_config=True)\n",
    "# my_classifier=SubstructureClassifier(\"EfficientNetB0_low_res3\")\n",
    "\n",
    "\n",
    "# example_config[\"training_catalog\"]=\"conor_train_gauss_source_10e10_resample_theta_train_2\"\n",
    "\n",
    "# example_config[\"validation_like_train_catalog\"]=\"conor_train_gauss_source_10e10_resample_theta_val_2\"\n",
    "# example_config[\"dataset_class_str\"]=\"SingleTelescopeNoiseDataset\"\n",
    "# example_config[\"dataset_config\"]={\n",
    "#             \"grid_width_arcsec\":8.0,\n",
    "#             \"grid_pixel_side\":100,\n",
    "#             \"upscaling\":5,\n",
    "#             \"broadcasting\":True,\n",
    "#             \"sky_level\":0.4,\n",
    "#             \"kernel_size\":5,\n",
    "#             \"kernel_sigma\":1.0,\n",
    "#             \"gain_interval\": [500, 1e6],\n",
    "#             \"final_transform\": False\n",
    "# }\n",
    "\n",
    "\n",
    "# example_config[\"samples_used_for_training\"]=1000000#1000000\n",
    "# example_config[\"samples_used_for_validation\"]=4000\n",
    "# example_config[\"batch_size\"]=256\n",
    "# example_config[\"jump_batch_val\"]=300\n",
    "# example_config[\"learning_rate\"]=0.00001\n",
    "# example_config[\"epochs\"]=100000\n",
    "# my_stage=Stage(classifier_instance=my_classifier, config=example_config, device=\"cuda\")\n",
    "\n",
    "# my_stage.train(train_ready=True, early_stopping=True)\n",
    "\n",
    "\n",
    "\n",
    "# example_config[\"training_catalog\"]=\"conor_train_gauss_source_10e9_resample_theta_train_2\"\n",
    "\n",
    "# example_config[\"validation_like_train_catalog\"]=\"conor_train_gauss_source_10e9_resample_theta_val_2\"\n",
    "# example_config[\"dataset_class_str\"]=\"SingleTelescopeNoiseDataset\"\n",
    "# example_config[\"dataset_config\"]={\n",
    "#             \"grid_width_arcsec\":8.0,\n",
    "#             \"grid_pixel_side\":100,\n",
    "#             \"upscaling\":5,\n",
    "#             \"broadcasting\":True,\n",
    "#             \"sky_level\":0.4,\n",
    "#             \"kernel_size\":5,\n",
    "#             \"kernel_sigma\":1.0,\n",
    "#             \"gain_interval\": [500, 1e6],\n",
    "#             \"final_transform\": False\n",
    "# }\n",
    "\n",
    "\n",
    "# example_config[\"samples_used_for_training\"]=1000000#1000000\n",
    "# example_config[\"samples_used_for_validation\"]=4000\n",
    "# example_config[\"batch_size\"]=256\n",
    "# example_config[\"jump_batch_val\"]=300\n",
    "# example_config[\"learning_rate\"]=0.00001\n",
    "# example_config[\"epochs\"]=100000\n",
    "# my_stage=Stage(classifier_instance=my_classifier, config=example_config, device=\"cuda\")\n",
    "\n",
    "# my_stage.train(train_ready=True, early_stopping=True)\n",
    "\n",
    "\n",
    "example_config[\"training_catalog\"]=\"conor_train_gauss_source_10e8_6_resample_theta_train_2\"\n",
    "\n",
    "example_config[\"validation_like_train_catalog\"]=\"conor_train_gauss_source_10e8_6_resample_theta_val_2\"\n",
    "example_config[\"dataset_class_str\"]=\"SingleTelescopeNoiseDataset\"\n",
    "example_config[\"dataset_config\"]={\n",
    "            \"grid_width_arcsec\":8.0,\n",
    "            \"grid_pixel_side\":100,\n",
    "            \"upscaling\":5,\n",
    "            \"broadcasting\":True,\n",
    "            \"sky_level\":0.4,\n",
    "            \"kernel_size\":5,\n",
    "            \"kernel_sigma\":1.0,\n",
    "            \"gain_interval\": [500, 1e6],\n",
    "            \"final_transform\": False\n",
    "}\n",
    "\n",
    "\n",
    "example_config[\"samples_used_for_training\"]=1000000#1000000\n",
    "example_config[\"samples_used_for_validation\"]=4000\n",
    "example_config[\"batch_size\"]=256\n",
    "example_config[\"jump_batch_val\"]=300\n",
    "example_config[\"learning_rate\"]=0.00001\n",
    "example_config[\"epochs\"]=10000\n",
    "my_stage=Stage(classifier_instance=my_classifier, config=example_config, device=\"cuda\")\n",
    "\n",
    "my_stage.train(train_ready=True, early_stopping=True)"
   ]
  },
  {
   "cell_type": "code",
   "execution_count": null,
   "metadata": {},
   "outputs": [],
   "source": [
    "from substructure_classifier.training_stage_development import Stage\n",
    "from substructure_classifier.substructure_classifier_development import SubstructureClassifier\n",
    "\n",
    "\n",
    "\n",
    "example_config=Stage.get_example_config(return_config=True)\n",
    "my_classifier=SubstructureClassifier(\"EfficientNetB0_3\")\n",
    "\n",
    "example_config[\"training_catalog\"]=\"conor_similar_cat_min_10e11_train_small.json\"\n",
    "example_config[\"validation_like_train_catalog\"]=\"conor_similar_cat_min_10e11_val.json\"\n",
    "example_config[\"dataset_class_str\"]=\"SingleTelescopeNoiseDataset\"\n",
    "example_config[\"dataset_config\"]={\n",
    "        \"grid_width_arcsec\":6.0,\n",
    "        \"grid_pixel_side\":100,\n",
    "        \"broadcasting\":False,\n",
    "        \"sky_level\":0.05,\n",
    "        \"kernel_size\":5,\n",
    "        \"kernel_sigma\":1.0,\n",
    "        \"gain\":100.0,\n",
    "        \"final_transform\": True\n",
    "}\n",
    "\n",
    "\n",
    "example_config[\"samples_used_for_training\"]=100000\n",
    "example_config[\"samples_used_for_validation\"]=3000\n",
    "example_config[\"batch_size\"]=1024\n",
    "example_config[\"jump_batch_val\"]=50\n",
    "example_config[\"learning_rate\"]=0.00001\n",
    "example_config[\"epochs\"]=5\n",
    "my_stage=Stage(classifier_instance=my_classifier, config=example_config, device=\"cuda\")\n",
    "\n",
    "my_stage.train(train_ready=True, early_stopping=True)"
   ]
  },
  {
   "cell_type": "code",
   "execution_count": null,
   "metadata": {},
   "outputs": [],
   "source": [
    "example_config=Stage.get_example_config(return_config=True)\n",
    "my_classifier=SubstructureClassifier(\"EfficientNetB0_3\")\n",
    "\n",
    "example_config[\"training_catalog\"]=\"conor_similar_cat_min_10e10_train_small.json\"\n",
    "example_config[\"validation_like_train_catalog\"]=\"conor_similar_cat_min_10e10_val.json\"\n",
    "example_config[\"dataset_class_str\"]=\"SingleTelescopeNoiseDataset\"\n",
    "example_config[\"dataset_config\"]={\n",
    "        \"grid_width_arcsec\":6.0,\n",
    "        \"grid_pixel_side\":100,\n",
    "        \"broadcasting\":False,\n",
    "        \"sky_level\":0.05,\n",
    "        \"kernel_size\":5,\n",
    "        \"kernel_sigma\":1.0,\n",
    "        \"gain\":100.0,\n",
    "        \"final_transform\": True\n",
    "}\n",
    "\n",
    "\n",
    "example_config[\"samples_used_for_training\"]=100000\n",
    "example_config[\"samples_used_for_validation\"]=3000\n",
    "example_config[\"batch_size\"]=1024\n",
    "example_config[\"jump_batch_val\"]=50\n",
    "example_config[\"learning_rate\"]=0.0003\n",
    "example_config[\"epochs\"]=5\n",
    "my_stage=Stage(classifier_instance=my_classifier, config=example_config, device=\"cuda\")\n",
    "\n",
    "my_stage.train(train_ready=True, early_stopping=True)"
   ]
  },
  {
   "cell_type": "code",
   "execution_count": null,
   "metadata": {},
   "outputs": [],
   "source": [
    "example_config=Stage.get_example_config(return_config=True)\n",
    "my_classifier=SubstructureClassifier(\"EfficientNetB0_3\")\n",
    "\n",
    "example_config[\"training_catalog\"]=\"conor_similar_cat_min_10e10_train_small.json\"\n",
    "example_config[\"validation_like_train_catalog\"]=\"conor_similar_cat_min_10e10_val.json\"\n",
    "example_config[\"dataset_class_str\"]=\"SingleTelescopeNoiseDataset\"\n",
    "example_config[\"dataset_config\"]={\n",
    "        \"grid_width_arcsec\":6.0,\n",
    "        \"grid_pixel_side\":100,\n",
    "        \"broadcasting\":False,\n",
    "        \"sky_level\":0.05,\n",
    "        \"kernel_size\":5,\n",
    "        \"kernel_sigma\":1.0,\n",
    "        \"gain\":100.0,\n",
    "        \"final_transform\": True\n",
    "}\n",
    "\n",
    "\n",
    "example_config[\"samples_used_for_training\"]=100000\n",
    "example_config[\"samples_used_for_validation\"]=3000\n",
    "example_config[\"batch_size\"]=1024\n",
    "example_config[\"jump_batch_val\"]=50\n",
    "example_config[\"learning_rate\"]=0.00001\n",
    "example_config[\"epochs\"]=5\n",
    "my_stage=Stage(classifier_instance=my_classifier, config=example_config, device=\"cuda\")\n",
    "\n",
    "my_stage.train(train_ready=True, early_stopping=True)"
   ]
  },
  {
   "cell_type": "code",
   "execution_count": null,
   "metadata": {},
   "outputs": [],
   "source": [
    "example_config=Stage.get_example_config(return_config=True)\n",
    "my_classifier=SubstructureClassifier(\"EfficientNetB0_3\")\n",
    "\n",
    "example_config[\"training_catalog\"]=\"conor_similar_cat_min_10e10_train_small.json\"\n",
    "example_config[\"validation_like_train_catalog\"]=\"conor_similar_cat_min_10e10_val.json\"\n",
    "example_config[\"dataset_class_str\"]=\"SingleTelescopeNoiseDataset\"\n",
    "example_config[\"dataset_config\"]={\n",
    "        \"grid_width_arcsec\":6.0,\n",
    "        \"grid_pixel_side\":100,\n",
    "        \"broadcasting\":False,\n",
    "        \"sky_level\":0.05,\n",
    "        \"kernel_size\":5,\n",
    "        \"kernel_sigma\":1.0,\n",
    "        \"gain\":100.0,\n",
    "        \"final_transform\": True\n",
    "}\n",
    "\n",
    "\n",
    "example_config[\"samples_used_for_training\"]=100000\n",
    "example_config[\"samples_used_for_validation\"]=3000\n",
    "example_config[\"batch_size\"]=1024\n",
    "example_config[\"jump_batch_val\"]=50\n",
    "example_config[\"learning_rate\"]=0.000001\n",
    "example_config[\"epochs\"]=5\n",
    "my_stage=Stage(classifier_instance=my_classifier, config=example_config, device=\"cuda\")\n",
    "\n",
    "my_stage.train(train_ready=True, early_stopping=True)"
   ]
  },
  {
   "cell_type": "code",
   "execution_count": null,
   "metadata": {},
   "outputs": [],
   "source": [
    "example_config=Stage.get_example_config(return_config=True)\n",
    "my_classifier=SubstructureClassifier(\"EfficientNetB0_3\")\n",
    "\n",
    "example_config[\"training_catalog\"]=\"conor_similar_cat_min_10e9_train_small.json\"\n",
    "example_config[\"validation_like_train_catalog\"]=\"conor_similar_cat_min_10e9_val.json\"\n",
    "example_config[\"dataset_class_str\"]=\"SingleTelescopeNoiseDataset\"\n",
    "example_config[\"dataset_config\"]={\n",
    "        \"grid_width_arcsec\":6.0,\n",
    "        \"grid_pixel_side\":100,\n",
    "        \"broadcasting\":False,\n",
    "        \"sky_level\":0.05,\n",
    "        \"kernel_size\":5,\n",
    "        \"kernel_sigma\":1.0,\n",
    "        \"gain\":100.0,\n",
    "        \"final_transform\": True\n",
    "}\n",
    "\n",
    "\n",
    "example_config[\"samples_used_for_training\"]=100000\n",
    "example_config[\"samples_used_for_validation\"]=3000\n",
    "example_config[\"batch_size\"]=1024\n",
    "example_config[\"jump_batch_val\"]=50\n",
    "example_config[\"learning_rate\"]=0.0001\n",
    "example_config[\"epochs\"]=5\n",
    "my_stage=Stage(classifier_instance=my_classifier, config=example_config, device=\"cuda\")\n",
    "\n",
    "my_stage.train(train_ready=True, early_stopping=True)\n",
    "\n",
    "example_config=Stage.get_example_config(return_config=True)\n",
    "\n",
    "my_classifier=SubstructureClassifier(\"SimpleResnetWithNoise1\")\n",
    "\n",
    "example_config[\"training_catalog\"]=\"conor_similar_cat_min_10e9_train_small.json\"\n",
    "example_config[\"validation_like_train_catalog\"]=\"conor_similar_cat_min_10e9_val.json\"\n",
    "example_config[\"dataset_class_str\"]=\"SingleTelescopeNoiseDataset\"\n",
    "example_config[\"dataset_config\"]={\n",
    "        \"grid_width_arcsec\":6.0,\n",
    "        \"grid_pixel_side\":100,\n",
    "        \"broadcasting\":False,\n",
    "        \"sky_level\":0.05,\n",
    "        \"kernel_size\":5,\n",
    "        \"kernel_sigma\":1.0,\n",
    "        \"gain\":100.0,\n",
    "        \"final_transform\": True\n",
    "}\n",
    "\n",
    "\n",
    "example_config[\"samples_used_for_training\"]=100000\n",
    "example_config[\"samples_used_for_validation\"]=1000\n",
    "example_config[\"batch_size\"]=1024\n",
    "example_config[\"jump_batch_val\"]=50\n",
    "example_config[\"learning_rate\"]=0.00001\n",
    "example_config[\"epochs\"]=5\n",
    "my_stage=Stage(classifier_instance=my_classifier, config=example_config, device=\"cuda\")\n",
    "\n",
    "my_stage.train(train_ready=True, early_stopping=True)"
   ]
  },
  {
   "cell_type": "code",
   "execution_count": null,
   "metadata": {},
   "outputs": [],
   "source": [
    "example_config=Stage.get_example_config(return_config=True)\n",
    "my_classifier=SubstructureClassifier(\"EfficientNetB0_3\")\n",
    "\n",
    "example_config[\"training_catalog\"]=\"conor_similar_cat_train_small\"\n",
    "example_config[\"validation_like_train_catalog\"]=\"conor_similar_cat_val\"\n",
    "example_config[\"dataset_class_str\"]=\"SingleTelescopeNoiseDataset\"\n",
    "example_config[\"dataset_config\"]={\n",
    "        \"grid_width_arcsec\":6.0,\n",
    "        \"grid_pixel_side\":100,\n",
    "        \"broadcasting\":False,\n",
    "        \"sky_level\":0.05,\n",
    "        \"kernel_size\":5,\n",
    "        \"kernel_sigma\":1.0,\n",
    "        \"gain\":100.0,\n",
    "        \"final_transform\": True\n",
    "}\n",
    "\n",
    "\n",
    "example_config[\"samples_used_for_training\"]=100000\n",
    "example_config[\"samples_used_for_validation\"]=3000\n",
    "example_config[\"batch_size\"]=1024\n",
    "example_config[\"jump_batch_val\"]=50\n",
    "example_config[\"learning_rate\"]=0.0001\n",
    "example_config[\"epochs\"]=5\n",
    "my_stage=Stage(classifier_instance=my_classifier, config=example_config, device=\"cuda\")\n",
    "\n",
    "my_stage.train(train_ready=True, early_stopping=True)"
   ]
  },
  {
   "cell_type": "code",
   "execution_count": 3,
   "metadata": {},
   "outputs": [
    {
     "name": "stdout",
     "output_type": "stream",
     "text": [
      "forcing only one entry per catalog in add activ val cat live, substructure classifier dev\n",
      "Catalog conor_similar_cat_min_10e9_train_small.json already exists in active validation catalogs.\n",
      "should have updated the classifier config file\n",
      "forcing only one entry per catalog in add activ val cat live, substructure classifier dev\n",
      "Catalog conor_similar_cat_min_10e9_val.json already exists in active validation catalogs.\n",
      "should have updated the classifier config file\n",
      "Implement the device compatibility check in _check_ready_to_train, util.py\n",
      "Using device: cuda\n"
     ]
    },
    {
     "ename": "KeyboardInterrupt",
     "evalue": "",
     "output_type": "error",
     "traceback": [
      "\u001b[0;31m---------------------------------------------------------------------------\u001b[0m",
      "\u001b[0;31mTypeError\u001b[0m                                 Traceback (most recent call last)",
      "\u001b[0;32m/raven/u/fcitterio/master_thesis_code/src/shared_utils/util.py\u001b[0m in \u001b[0;36mrecursive_to_tensor\u001b[0;34m(value, device, datatype)\u001b[0m\n\u001b[1;32m     24\u001b[0m         \u001b[0;32mtry\u001b[0m\u001b[0;34m:\u001b[0m\u001b[0;34m\u001b[0m\u001b[0;34m\u001b[0m\u001b[0m\n\u001b[0;32m---> 25\u001b[0;31m             \u001b[0;32mreturn\u001b[0m \u001b[0mtorch\u001b[0m\u001b[0;34m.\u001b[0m\u001b[0mas_tensor\u001b[0m\u001b[0;34m(\u001b[0m\u001b[0mvalue\u001b[0m\u001b[0;34m,\u001b[0m \u001b[0mdevice\u001b[0m\u001b[0;34m=\u001b[0m\u001b[0mdevice\u001b[0m\u001b[0;34m,\u001b[0m \u001b[0mdtype\u001b[0m\u001b[0;34m=\u001b[0m\u001b[0mdatatype\u001b[0m\u001b[0;34m)\u001b[0m\u001b[0;34m\u001b[0m\u001b[0;34m\u001b[0m\u001b[0m\n\u001b[0m\u001b[1;32m     26\u001b[0m         \u001b[0;32mexcept\u001b[0m \u001b[0mException\u001b[0m\u001b[0;34m:\u001b[0m\u001b[0;34m\u001b[0m\u001b[0;34m\u001b[0m\u001b[0m\n",
      "\u001b[0;31mTypeError\u001b[0m: new(): invalid data type 'str'",
      "\nDuring handling of the above exception, another exception occurred:\n",
      "\u001b[0;31mKeyboardInterrupt\u001b[0m                         Traceback (most recent call last)",
      "\u001b[0;32m/tmp/ipykernel_3585/1437770333.py\u001b[0m in \u001b[0;36m<module>\u001b[0;34m\u001b[0m\n\u001b[1;32m     30\u001b[0m \u001b[0mmy_stage\u001b[0m\u001b[0;34m=\u001b[0m\u001b[0mStage\u001b[0m\u001b[0;34m(\u001b[0m\u001b[0mclassifier_instance\u001b[0m\u001b[0;34m=\u001b[0m\u001b[0mmy_classifier\u001b[0m\u001b[0;34m,\u001b[0m \u001b[0mconfig\u001b[0m\u001b[0;34m=\u001b[0m\u001b[0mexample_config\u001b[0m\u001b[0;34m,\u001b[0m \u001b[0mdevice\u001b[0m\u001b[0;34m=\u001b[0m\u001b[0;34m\"cuda\"\u001b[0m\u001b[0;34m)\u001b[0m\u001b[0;34m\u001b[0m\u001b[0;34m\u001b[0m\u001b[0m\n\u001b[1;32m     31\u001b[0m \u001b[0;34m\u001b[0m\u001b[0m\n\u001b[0;32m---> 32\u001b[0;31m \u001b[0mmy_stage\u001b[0m\u001b[0;34m.\u001b[0m\u001b[0mtrain\u001b[0m\u001b[0;34m(\u001b[0m\u001b[0mtrain_ready\u001b[0m\u001b[0;34m=\u001b[0m\u001b[0;32mTrue\u001b[0m\u001b[0;34m,\u001b[0m \u001b[0mearly_stopping\u001b[0m\u001b[0;34m=\u001b[0m\u001b[0;32mTrue\u001b[0m\u001b[0;34m)\u001b[0m\u001b[0;34m\u001b[0m\u001b[0;34m\u001b[0m\u001b[0m\n\u001b[0m",
      "\u001b[0;32m/raven/u/fcitterio/master_thesis_code/src/substructure_classifier/training_stage_development.py\u001b[0m in \u001b[0;36mtrain\u001b[0;34m(self, train_ready, early_stopping)\u001b[0m\n\u001b[1;32m    615\u001b[0m \u001b[0;34m\u001b[0m\u001b[0m\n\u001b[1;32m    616\u001b[0m         \u001b[0;31m# Build train dataloader and model (load_parent uses parent_stage_id set earlier)\u001b[0m\u001b[0;34m\u001b[0m\u001b[0;34m\u001b[0m\u001b[0m\n\u001b[0;32m--> 617\u001b[0;31m         train_loader = self._load_dataloader(\n\u001b[0m\u001b[1;32m    618\u001b[0m             \u001b[0mcatalog_name\u001b[0m\u001b[0;34m=\u001b[0m\u001b[0mtraining_catalog\u001b[0m\u001b[0;34m,\u001b[0m\u001b[0;34m\u001b[0m\u001b[0;34m\u001b[0m\u001b[0m\n\u001b[1;32m    619\u001b[0m             \u001b[0mdataset_class_str\u001b[0m\u001b[0;34m=\u001b[0m\u001b[0mdataset_class_str\u001b[0m\u001b[0;34m,\u001b[0m\u001b[0;34m\u001b[0m\u001b[0;34m\u001b[0m\u001b[0m\n",
      "\u001b[0;32m/raven/u/fcitterio/master_thesis_code/src/substructure_classifier/training_stage_development.py\u001b[0m in \u001b[0;36m_load_dataloader\u001b[0;34m(self, catalog_name, dataset_class_str, dataset_config, val)\u001b[0m\n\u001b[1;32m    274\u001b[0m         \u001b[0;32melse\u001b[0m\u001b[0;34m:\u001b[0m\u001b[0;34m\u001b[0m\u001b[0;34m\u001b[0m\u001b[0m\n\u001b[1;32m    275\u001b[0m             \u001b[0mdataset_config_temp\u001b[0m\u001b[0;34m[\u001b[0m\u001b[0;34m\"samples_used\"\u001b[0m\u001b[0;34m]\u001b[0m \u001b[0;34m=\u001b[0m \u001b[0mself\u001b[0m\u001b[0;34m.\u001b[0m\u001b[0mstage_properties\u001b[0m\u001b[0;34m.\u001b[0m\u001b[0msamples_used_for_training\u001b[0m\u001b[0;34m\u001b[0m\u001b[0;34m\u001b[0m\u001b[0m\n\u001b[0;32m--> 276\u001b[0;31m         \u001b[0mdataset\u001b[0m \u001b[0;34m=\u001b[0m \u001b[0mDATASET_REGISTRY\u001b[0m\u001b[0;34m.\u001b[0m\u001b[0mget\u001b[0m\u001b[0;34m(\u001b[0m\u001b[0mdataset_class_str\u001b[0m\u001b[0;34m)\u001b[0m\u001b[0;34m(\u001b[0m\u001b[0;34m**\u001b[0m\u001b[0mdataset_config_temp\u001b[0m\u001b[0;34m)\u001b[0m\u001b[0;34m\u001b[0m\u001b[0;34m\u001b[0m\u001b[0m\n\u001b[0m\u001b[1;32m    277\u001b[0m         \u001b[0;32mif\u001b[0m \u001b[0mval\u001b[0m\u001b[0;34m:\u001b[0m\u001b[0;34m\u001b[0m\u001b[0;34m\u001b[0m\u001b[0m\n\u001b[1;32m    278\u001b[0m             \u001b[0;32mreturn\u001b[0m \u001b[0mcustom_dataloader\u001b[0m\u001b[0;34m(\u001b[0m\u001b[0mdataset\u001b[0m\u001b[0;34m=\u001b[0m\u001b[0mdataset\u001b[0m\u001b[0;34m,\u001b[0m \u001b[0mbatch_size\u001b[0m\u001b[0;34m=\u001b[0m\u001b[0mself\u001b[0m\u001b[0;34m.\u001b[0m\u001b[0mstage_properties\u001b[0m\u001b[0;34m.\u001b[0m\u001b[0mbatch_size\u001b[0m\u001b[0;34m,\u001b[0m \u001b[0mshuffle\u001b[0m\u001b[0;34m=\u001b[0m\u001b[0;32mFalse\u001b[0m\u001b[0;34m)\u001b[0m\u001b[0;34m\u001b[0m\u001b[0;34m\u001b[0m\u001b[0m\n",
      "\u001b[0;32m/raven/u/fcitterio/master_thesis_code/src/deep_learning/NN_datasets/custom_datasets/single_telescope_noise_dataset.py\u001b[0m in \u001b[0;36m__init__\u001b[0;34m(self, catalog_name, catalog_dict, samples_used, image_data_type, grid_width_arcsec, grid_pixel_side, final_transform, broadcasting, sky_level, kernel_size, kernel_sigma, gain, device)\u001b[0m\n\u001b[1;32m     37\u001b[0m         \u001b[0mself\u001b[0m\u001b[0;34m.\u001b[0m\u001b[0mbroadcasting\u001b[0m \u001b[0;34m=\u001b[0m \u001b[0mbroadcasting\u001b[0m\u001b[0;34m\u001b[0m\u001b[0;34m\u001b[0m\u001b[0m\n\u001b[1;32m     38\u001b[0m         \u001b[0mprint\u001b[0m\u001b[0;34m(\u001b[0m\u001b[0;34mf\"Using device: {self.device}\"\u001b[0m\u001b[0;34m)\u001b[0m\u001b[0;34m\u001b[0m\u001b[0;34m\u001b[0m\u001b[0m\n\u001b[0;32m---> 39\u001b[0;31m         \u001b[0mself\u001b[0m\u001b[0;34m.\u001b[0m\u001b[0mcatalog\u001b[0m \u001b[0;34m=\u001b[0m \u001b[0mrecursive_to_tensor\u001b[0m\u001b[0;34m(\u001b[0m\u001b[0mself\u001b[0m\u001b[0;34m.\u001b[0m\u001b[0mcatalog\u001b[0m\u001b[0;34m,\u001b[0m \u001b[0mself\u001b[0m\u001b[0;34m.\u001b[0m\u001b[0mdevice\u001b[0m\u001b[0;34m)\u001b[0m\u001b[0;34m\u001b[0m\u001b[0;34m\u001b[0m\u001b[0m\n\u001b[0m\u001b[1;32m     40\u001b[0m \u001b[0;34m\u001b[0m\u001b[0m\n\u001b[1;32m     41\u001b[0m         \u001b[0mprint\u001b[0m\u001b[0;34m(\u001b[0m\u001b[0;34m\"Currently this dataloader is calculating the images in float32\"\u001b[0m\u001b[0;34m)\u001b[0m\u001b[0;34m\u001b[0m\u001b[0;34m\u001b[0m\u001b[0m\n",
      "\u001b[0;32m/raven/u/fcitterio/master_thesis_code/src/shared_utils/util.py\u001b[0m in \u001b[0;36mrecursive_to_tensor\u001b[0;34m(value, device, datatype)\u001b[0m\n\u001b[1;32m      5\u001b[0m     \u001b[0;31m# If value is a dictionary, process each key/value pair recursively.\u001b[0m\u001b[0;34m\u001b[0m\u001b[0;34m\u001b[0m\u001b[0m\n\u001b[1;32m      6\u001b[0m     \u001b[0;32mif\u001b[0m \u001b[0misinstance\u001b[0m\u001b[0;34m(\u001b[0m\u001b[0mvalue\u001b[0m\u001b[0;34m,\u001b[0m \u001b[0mdict\u001b[0m\u001b[0;34m)\u001b[0m\u001b[0;34m:\u001b[0m\u001b[0;34m\u001b[0m\u001b[0;34m\u001b[0m\u001b[0m\n\u001b[0;32m----> 7\u001b[0;31m         \u001b[0;32mreturn\u001b[0m \u001b[0;34m{\u001b[0m\u001b[0mk\u001b[0m\u001b[0;34m:\u001b[0m \u001b[0mrecursive_to_tensor\u001b[0m\u001b[0;34m(\u001b[0m\u001b[0mv\u001b[0m\u001b[0;34m,\u001b[0m \u001b[0mdevice\u001b[0m\u001b[0;34m)\u001b[0m \u001b[0;32mfor\u001b[0m \u001b[0mk\u001b[0m\u001b[0;34m,\u001b[0m \u001b[0mv\u001b[0m \u001b[0;32min\u001b[0m \u001b[0mvalue\u001b[0m\u001b[0;34m.\u001b[0m\u001b[0mitems\u001b[0m\u001b[0;34m(\u001b[0m\u001b[0;34m)\u001b[0m\u001b[0;34m}\u001b[0m\u001b[0;34m\u001b[0m\u001b[0;34m\u001b[0m\u001b[0m\n\u001b[0m\u001b[1;32m      8\u001b[0m \u001b[0;34m\u001b[0m\u001b[0m\n\u001b[1;32m      9\u001b[0m     \u001b[0;31m# If value is a list:\u001b[0m\u001b[0;34m\u001b[0m\u001b[0;34m\u001b[0m\u001b[0m\n",
      "\u001b[0;32m/raven/u/fcitterio/master_thesis_code/src/shared_utils/util.py\u001b[0m in \u001b[0;36m<dictcomp>\u001b[0;34m(.0)\u001b[0m\n\u001b[1;32m      5\u001b[0m     \u001b[0;31m# If value is a dictionary, process each key/value pair recursively.\u001b[0m\u001b[0;34m\u001b[0m\u001b[0;34m\u001b[0m\u001b[0m\n\u001b[1;32m      6\u001b[0m     \u001b[0;32mif\u001b[0m \u001b[0misinstance\u001b[0m\u001b[0;34m(\u001b[0m\u001b[0mvalue\u001b[0m\u001b[0;34m,\u001b[0m \u001b[0mdict\u001b[0m\u001b[0;34m)\u001b[0m\u001b[0;34m:\u001b[0m\u001b[0;34m\u001b[0m\u001b[0;34m\u001b[0m\u001b[0m\n\u001b[0;32m----> 7\u001b[0;31m         \u001b[0;32mreturn\u001b[0m \u001b[0;34m{\u001b[0m\u001b[0mk\u001b[0m\u001b[0;34m:\u001b[0m \u001b[0mrecursive_to_tensor\u001b[0m\u001b[0;34m(\u001b[0m\u001b[0mv\u001b[0m\u001b[0;34m,\u001b[0m \u001b[0mdevice\u001b[0m\u001b[0;34m)\u001b[0m \u001b[0;32mfor\u001b[0m \u001b[0mk\u001b[0m\u001b[0;34m,\u001b[0m \u001b[0mv\u001b[0m \u001b[0;32min\u001b[0m \u001b[0mvalue\u001b[0m\u001b[0;34m.\u001b[0m\u001b[0mitems\u001b[0m\u001b[0;34m(\u001b[0m\u001b[0;34m)\u001b[0m\u001b[0;34m}\u001b[0m\u001b[0;34m\u001b[0m\u001b[0;34m\u001b[0m\u001b[0m\n\u001b[0m\u001b[1;32m      8\u001b[0m \u001b[0;34m\u001b[0m\u001b[0m\n\u001b[1;32m      9\u001b[0m     \u001b[0;31m# If value is a list:\u001b[0m\u001b[0;34m\u001b[0m\u001b[0;34m\u001b[0m\u001b[0m\n",
      "\u001b[0;32m/raven/u/fcitterio/master_thesis_code/src/shared_utils/util.py\u001b[0m in \u001b[0;36mrecursive_to_tensor\u001b[0;34m(value, device, datatype)\u001b[0m\n\u001b[1;32m     14\u001b[0m         \u001b[0;32melse\u001b[0m\u001b[0;34m:\u001b[0m\u001b[0;34m\u001b[0m\u001b[0;34m\u001b[0m\u001b[0m\n\u001b[1;32m     15\u001b[0m             \u001b[0;31m# Otherwise, process each element recursively.\u001b[0m\u001b[0;34m\u001b[0m\u001b[0;34m\u001b[0m\u001b[0m\n\u001b[0;32m---> 16\u001b[0;31m             \u001b[0;32mreturn\u001b[0m \u001b[0;34m[\u001b[0m\u001b[0mrecursive_to_tensor\u001b[0m\u001b[0;34m(\u001b[0m\u001b[0mitem\u001b[0m\u001b[0;34m,\u001b[0m \u001b[0mdevice\u001b[0m\u001b[0;34m)\u001b[0m \u001b[0;32mfor\u001b[0m \u001b[0mitem\u001b[0m \u001b[0;32min\u001b[0m \u001b[0mvalue\u001b[0m\u001b[0;34m]\u001b[0m\u001b[0;34m\u001b[0m\u001b[0;34m\u001b[0m\u001b[0m\n\u001b[0m\u001b[1;32m     17\u001b[0m \u001b[0;34m\u001b[0m\u001b[0m\n\u001b[1;32m     18\u001b[0m     \u001b[0;31m# If value is a tuple, process each element recursively and return a tuple.\u001b[0m\u001b[0;34m\u001b[0m\u001b[0;34m\u001b[0m\u001b[0m\n",
      "\u001b[0;32m/raven/u/fcitterio/master_thesis_code/src/shared_utils/util.py\u001b[0m in \u001b[0;36m<listcomp>\u001b[0;34m(.0)\u001b[0m\n\u001b[1;32m     14\u001b[0m         \u001b[0;32melse\u001b[0m\u001b[0;34m:\u001b[0m\u001b[0;34m\u001b[0m\u001b[0;34m\u001b[0m\u001b[0m\n\u001b[1;32m     15\u001b[0m             \u001b[0;31m# Otherwise, process each element recursively.\u001b[0m\u001b[0;34m\u001b[0m\u001b[0;34m\u001b[0m\u001b[0m\n\u001b[0;32m---> 16\u001b[0;31m             \u001b[0;32mreturn\u001b[0m \u001b[0;34m[\u001b[0m\u001b[0mrecursive_to_tensor\u001b[0m\u001b[0;34m(\u001b[0m\u001b[0mitem\u001b[0m\u001b[0;34m,\u001b[0m \u001b[0mdevice\u001b[0m\u001b[0;34m)\u001b[0m \u001b[0;32mfor\u001b[0m \u001b[0mitem\u001b[0m \u001b[0;32min\u001b[0m \u001b[0mvalue\u001b[0m\u001b[0;34m]\u001b[0m\u001b[0;34m\u001b[0m\u001b[0;34m\u001b[0m\u001b[0m\n\u001b[0m\u001b[1;32m     17\u001b[0m \u001b[0;34m\u001b[0m\u001b[0m\n\u001b[1;32m     18\u001b[0m     \u001b[0;31m# If value is a tuple, process each element recursively and return a tuple.\u001b[0m\u001b[0;34m\u001b[0m\u001b[0;34m\u001b[0m\u001b[0m\n",
      "\u001b[0;32m/raven/u/fcitterio/master_thesis_code/src/shared_utils/util.py\u001b[0m in \u001b[0;36mrecursive_to_tensor\u001b[0;34m(value, device, datatype)\u001b[0m\n\u001b[1;32m      5\u001b[0m     \u001b[0;31m# If value is a dictionary, process each key/value pair recursively.\u001b[0m\u001b[0;34m\u001b[0m\u001b[0;34m\u001b[0m\u001b[0m\n\u001b[1;32m      6\u001b[0m     \u001b[0;32mif\u001b[0m \u001b[0misinstance\u001b[0m\u001b[0;34m(\u001b[0m\u001b[0mvalue\u001b[0m\u001b[0;34m,\u001b[0m \u001b[0mdict\u001b[0m\u001b[0;34m)\u001b[0m\u001b[0;34m:\u001b[0m\u001b[0;34m\u001b[0m\u001b[0;34m\u001b[0m\u001b[0m\n\u001b[0;32m----> 7\u001b[0;31m         \u001b[0;32mreturn\u001b[0m \u001b[0;34m{\u001b[0m\u001b[0mk\u001b[0m\u001b[0;34m:\u001b[0m \u001b[0mrecursive_to_tensor\u001b[0m\u001b[0;34m(\u001b[0m\u001b[0mv\u001b[0m\u001b[0;34m,\u001b[0m \u001b[0mdevice\u001b[0m\u001b[0;34m)\u001b[0m \u001b[0;32mfor\u001b[0m \u001b[0mk\u001b[0m\u001b[0;34m,\u001b[0m \u001b[0mv\u001b[0m \u001b[0;32min\u001b[0m \u001b[0mvalue\u001b[0m\u001b[0;34m.\u001b[0m\u001b[0mitems\u001b[0m\u001b[0;34m(\u001b[0m\u001b[0;34m)\u001b[0m\u001b[0;34m}\u001b[0m\u001b[0;34m\u001b[0m\u001b[0;34m\u001b[0m\u001b[0m\n\u001b[0m\u001b[1;32m      8\u001b[0m \u001b[0;34m\u001b[0m\u001b[0m\n\u001b[1;32m      9\u001b[0m     \u001b[0;31m# If value is a list:\u001b[0m\u001b[0;34m\u001b[0m\u001b[0;34m\u001b[0m\u001b[0m\n",
      "\u001b[0;32m/raven/u/fcitterio/master_thesis_code/src/shared_utils/util.py\u001b[0m in \u001b[0;36m<dictcomp>\u001b[0;34m(.0)\u001b[0m\n\u001b[1;32m      5\u001b[0m     \u001b[0;31m# If value is a dictionary, process each key/value pair recursively.\u001b[0m\u001b[0;34m\u001b[0m\u001b[0;34m\u001b[0m\u001b[0m\n\u001b[1;32m      6\u001b[0m     \u001b[0;32mif\u001b[0m \u001b[0misinstance\u001b[0m\u001b[0;34m(\u001b[0m\u001b[0mvalue\u001b[0m\u001b[0;34m,\u001b[0m \u001b[0mdict\u001b[0m\u001b[0;34m)\u001b[0m\u001b[0;34m:\u001b[0m\u001b[0;34m\u001b[0m\u001b[0;34m\u001b[0m\u001b[0m\n\u001b[0;32m----> 7\u001b[0;31m         \u001b[0;32mreturn\u001b[0m \u001b[0;34m{\u001b[0m\u001b[0mk\u001b[0m\u001b[0;34m:\u001b[0m \u001b[0mrecursive_to_tensor\u001b[0m\u001b[0;34m(\u001b[0m\u001b[0mv\u001b[0m\u001b[0;34m,\u001b[0m \u001b[0mdevice\u001b[0m\u001b[0;34m)\u001b[0m \u001b[0;32mfor\u001b[0m \u001b[0mk\u001b[0m\u001b[0;34m,\u001b[0m \u001b[0mv\u001b[0m \u001b[0;32min\u001b[0m \u001b[0mvalue\u001b[0m\u001b[0;34m.\u001b[0m\u001b[0mitems\u001b[0m\u001b[0;34m(\u001b[0m\u001b[0;34m)\u001b[0m\u001b[0;34m}\u001b[0m\u001b[0;34m\u001b[0m\u001b[0;34m\u001b[0m\u001b[0m\n\u001b[0m\u001b[1;32m      8\u001b[0m \u001b[0;34m\u001b[0m\u001b[0m\n\u001b[1;32m      9\u001b[0m     \u001b[0;31m# If value is a list:\u001b[0m\u001b[0;34m\u001b[0m\u001b[0;34m\u001b[0m\u001b[0m\n",
      "\u001b[0;32m/raven/u/fcitterio/master_thesis_code/src/shared_utils/util.py\u001b[0m in \u001b[0;36mrecursive_to_tensor\u001b[0;34m(value, device, datatype)\u001b[0m\n\u001b[1;32m      5\u001b[0m     \u001b[0;31m# If value is a dictionary, process each key/value pair recursively.\u001b[0m\u001b[0;34m\u001b[0m\u001b[0;34m\u001b[0m\u001b[0m\n\u001b[1;32m      6\u001b[0m     \u001b[0;32mif\u001b[0m \u001b[0misinstance\u001b[0m\u001b[0;34m(\u001b[0m\u001b[0mvalue\u001b[0m\u001b[0;34m,\u001b[0m \u001b[0mdict\u001b[0m\u001b[0;34m)\u001b[0m\u001b[0;34m:\u001b[0m\u001b[0;34m\u001b[0m\u001b[0;34m\u001b[0m\u001b[0m\n\u001b[0;32m----> 7\u001b[0;31m         \u001b[0;32mreturn\u001b[0m \u001b[0;34m{\u001b[0m\u001b[0mk\u001b[0m\u001b[0;34m:\u001b[0m \u001b[0mrecursive_to_tensor\u001b[0m\u001b[0;34m(\u001b[0m\u001b[0mv\u001b[0m\u001b[0;34m,\u001b[0m \u001b[0mdevice\u001b[0m\u001b[0;34m)\u001b[0m \u001b[0;32mfor\u001b[0m \u001b[0mk\u001b[0m\u001b[0;34m,\u001b[0m \u001b[0mv\u001b[0m \u001b[0;32min\u001b[0m \u001b[0mvalue\u001b[0m\u001b[0;34m.\u001b[0m\u001b[0mitems\u001b[0m\u001b[0;34m(\u001b[0m\u001b[0;34m)\u001b[0m\u001b[0;34m}\u001b[0m\u001b[0;34m\u001b[0m\u001b[0;34m\u001b[0m\u001b[0m\n\u001b[0m\u001b[1;32m      8\u001b[0m \u001b[0;34m\u001b[0m\u001b[0m\n\u001b[1;32m      9\u001b[0m     \u001b[0;31m# If value is a list:\u001b[0m\u001b[0;34m\u001b[0m\u001b[0;34m\u001b[0m\u001b[0m\n",
      "\u001b[0;32m/raven/u/fcitterio/master_thesis_code/src/shared_utils/util.py\u001b[0m in \u001b[0;36m<dictcomp>\u001b[0;34m(.0)\u001b[0m\n\u001b[1;32m      5\u001b[0m     \u001b[0;31m# If value is a dictionary, process each key/value pair recursively.\u001b[0m\u001b[0;34m\u001b[0m\u001b[0;34m\u001b[0m\u001b[0m\n\u001b[1;32m      6\u001b[0m     \u001b[0;32mif\u001b[0m \u001b[0misinstance\u001b[0m\u001b[0;34m(\u001b[0m\u001b[0mvalue\u001b[0m\u001b[0;34m,\u001b[0m \u001b[0mdict\u001b[0m\u001b[0;34m)\u001b[0m\u001b[0;34m:\u001b[0m\u001b[0;34m\u001b[0m\u001b[0;34m\u001b[0m\u001b[0m\n\u001b[0;32m----> 7\u001b[0;31m         \u001b[0;32mreturn\u001b[0m \u001b[0;34m{\u001b[0m\u001b[0mk\u001b[0m\u001b[0;34m:\u001b[0m \u001b[0mrecursive_to_tensor\u001b[0m\u001b[0;34m(\u001b[0m\u001b[0mv\u001b[0m\u001b[0;34m,\u001b[0m \u001b[0mdevice\u001b[0m\u001b[0;34m)\u001b[0m \u001b[0;32mfor\u001b[0m \u001b[0mk\u001b[0m\u001b[0;34m,\u001b[0m \u001b[0mv\u001b[0m \u001b[0;32min\u001b[0m \u001b[0mvalue\u001b[0m\u001b[0;34m.\u001b[0m\u001b[0mitems\u001b[0m\u001b[0;34m(\u001b[0m\u001b[0;34m)\u001b[0m\u001b[0;34m}\u001b[0m\u001b[0;34m\u001b[0m\u001b[0;34m\u001b[0m\u001b[0m\n\u001b[0m\u001b[1;32m      8\u001b[0m \u001b[0;34m\u001b[0m\u001b[0m\n\u001b[1;32m      9\u001b[0m     \u001b[0;31m# If value is a list:\u001b[0m\u001b[0;34m\u001b[0m\u001b[0;34m\u001b[0m\u001b[0m\n",
      "\u001b[0;32m/raven/u/fcitterio/master_thesis_code/src/shared_utils/util.py\u001b[0m in \u001b[0;36mrecursive_to_tensor\u001b[0;34m(value, device, datatype)\u001b[0m\n\u001b[1;32m     14\u001b[0m         \u001b[0;32melse\u001b[0m\u001b[0;34m:\u001b[0m\u001b[0;34m\u001b[0m\u001b[0;34m\u001b[0m\u001b[0m\n\u001b[1;32m     15\u001b[0m             \u001b[0;31m# Otherwise, process each element recursively.\u001b[0m\u001b[0;34m\u001b[0m\u001b[0;34m\u001b[0m\u001b[0m\n\u001b[0;32m---> 16\u001b[0;31m             \u001b[0;32mreturn\u001b[0m \u001b[0;34m[\u001b[0m\u001b[0mrecursive_to_tensor\u001b[0m\u001b[0;34m(\u001b[0m\u001b[0mitem\u001b[0m\u001b[0;34m,\u001b[0m \u001b[0mdevice\u001b[0m\u001b[0;34m)\u001b[0m \u001b[0;32mfor\u001b[0m \u001b[0mitem\u001b[0m \u001b[0;32min\u001b[0m \u001b[0mvalue\u001b[0m\u001b[0;34m]\u001b[0m\u001b[0;34m\u001b[0m\u001b[0;34m\u001b[0m\u001b[0m\n\u001b[0m\u001b[1;32m     17\u001b[0m \u001b[0;34m\u001b[0m\u001b[0m\n\u001b[1;32m     18\u001b[0m     \u001b[0;31m# If value is a tuple, process each element recursively and return a tuple.\u001b[0m\u001b[0;34m\u001b[0m\u001b[0;34m\u001b[0m\u001b[0m\n",
      "\u001b[0;32m/raven/u/fcitterio/master_thesis_code/src/shared_utils/util.py\u001b[0m in \u001b[0;36m<listcomp>\u001b[0;34m(.0)\u001b[0m\n\u001b[1;32m     14\u001b[0m         \u001b[0;32melse\u001b[0m\u001b[0;34m:\u001b[0m\u001b[0;34m\u001b[0m\u001b[0;34m\u001b[0m\u001b[0m\n\u001b[1;32m     15\u001b[0m             \u001b[0;31m# Otherwise, process each element recursively.\u001b[0m\u001b[0;34m\u001b[0m\u001b[0;34m\u001b[0m\u001b[0m\n\u001b[0;32m---> 16\u001b[0;31m             \u001b[0;32mreturn\u001b[0m \u001b[0;34m[\u001b[0m\u001b[0mrecursive_to_tensor\u001b[0m\u001b[0;34m(\u001b[0m\u001b[0mitem\u001b[0m\u001b[0;34m,\u001b[0m \u001b[0mdevice\u001b[0m\u001b[0;34m)\u001b[0m \u001b[0;32mfor\u001b[0m \u001b[0mitem\u001b[0m \u001b[0;32min\u001b[0m \u001b[0mvalue\u001b[0m\u001b[0;34m]\u001b[0m\u001b[0;34m\u001b[0m\u001b[0;34m\u001b[0m\u001b[0m\n\u001b[0m\u001b[1;32m     17\u001b[0m \u001b[0;34m\u001b[0m\u001b[0m\n\u001b[1;32m     18\u001b[0m     \u001b[0;31m# If value is a tuple, process each element recursively and return a tuple.\u001b[0m\u001b[0;34m\u001b[0m\u001b[0;34m\u001b[0m\u001b[0m\n",
      "\u001b[0;32m/raven/u/fcitterio/master_thesis_code/src/shared_utils/util.py\u001b[0m in \u001b[0;36mrecursive_to_tensor\u001b[0;34m(value, device, datatype)\u001b[0m\n\u001b[1;32m      5\u001b[0m     \u001b[0;31m# If value is a dictionary, process each key/value pair recursively.\u001b[0m\u001b[0;34m\u001b[0m\u001b[0;34m\u001b[0m\u001b[0m\n\u001b[1;32m      6\u001b[0m     \u001b[0;32mif\u001b[0m \u001b[0misinstance\u001b[0m\u001b[0;34m(\u001b[0m\u001b[0mvalue\u001b[0m\u001b[0;34m,\u001b[0m \u001b[0mdict\u001b[0m\u001b[0;34m)\u001b[0m\u001b[0;34m:\u001b[0m\u001b[0;34m\u001b[0m\u001b[0;34m\u001b[0m\u001b[0m\n\u001b[0;32m----> 7\u001b[0;31m         \u001b[0;32mreturn\u001b[0m \u001b[0;34m{\u001b[0m\u001b[0mk\u001b[0m\u001b[0;34m:\u001b[0m \u001b[0mrecursive_to_tensor\u001b[0m\u001b[0;34m(\u001b[0m\u001b[0mv\u001b[0m\u001b[0;34m,\u001b[0m \u001b[0mdevice\u001b[0m\u001b[0;34m)\u001b[0m \u001b[0;32mfor\u001b[0m \u001b[0mk\u001b[0m\u001b[0;34m,\u001b[0m \u001b[0mv\u001b[0m \u001b[0;32min\u001b[0m \u001b[0mvalue\u001b[0m\u001b[0;34m.\u001b[0m\u001b[0mitems\u001b[0m\u001b[0;34m(\u001b[0m\u001b[0;34m)\u001b[0m\u001b[0;34m}\u001b[0m\u001b[0;34m\u001b[0m\u001b[0;34m\u001b[0m\u001b[0m\n\u001b[0m\u001b[1;32m      8\u001b[0m \u001b[0;34m\u001b[0m\u001b[0m\n\u001b[1;32m      9\u001b[0m     \u001b[0;31m# If value is a list:\u001b[0m\u001b[0;34m\u001b[0m\u001b[0;34m\u001b[0m\u001b[0m\n",
      "\u001b[0;32m/raven/u/fcitterio/master_thesis_code/src/shared_utils/util.py\u001b[0m in \u001b[0;36m<dictcomp>\u001b[0;34m(.0)\u001b[0m\n\u001b[1;32m      5\u001b[0m     \u001b[0;31m# If value is a dictionary, process each key/value pair recursively.\u001b[0m\u001b[0;34m\u001b[0m\u001b[0;34m\u001b[0m\u001b[0m\n\u001b[1;32m      6\u001b[0m     \u001b[0;32mif\u001b[0m \u001b[0misinstance\u001b[0m\u001b[0;34m(\u001b[0m\u001b[0mvalue\u001b[0m\u001b[0;34m,\u001b[0m \u001b[0mdict\u001b[0m\u001b[0;34m)\u001b[0m\u001b[0;34m:\u001b[0m\u001b[0;34m\u001b[0m\u001b[0;34m\u001b[0m\u001b[0m\n\u001b[0;32m----> 7\u001b[0;31m         \u001b[0;32mreturn\u001b[0m \u001b[0;34m{\u001b[0m\u001b[0mk\u001b[0m\u001b[0;34m:\u001b[0m \u001b[0mrecursive_to_tensor\u001b[0m\u001b[0;34m(\u001b[0m\u001b[0mv\u001b[0m\u001b[0;34m,\u001b[0m \u001b[0mdevice\u001b[0m\u001b[0;34m)\u001b[0m \u001b[0;32mfor\u001b[0m \u001b[0mk\u001b[0m\u001b[0;34m,\u001b[0m \u001b[0mv\u001b[0m \u001b[0;32min\u001b[0m \u001b[0mvalue\u001b[0m\u001b[0;34m.\u001b[0m\u001b[0mitems\u001b[0m\u001b[0;34m(\u001b[0m\u001b[0;34m)\u001b[0m\u001b[0;34m}\u001b[0m\u001b[0;34m\u001b[0m\u001b[0;34m\u001b[0m\u001b[0m\n\u001b[0m\u001b[1;32m      8\u001b[0m \u001b[0;34m\u001b[0m\u001b[0m\n\u001b[1;32m      9\u001b[0m     \u001b[0;31m# If value is a list:\u001b[0m\u001b[0;34m\u001b[0m\u001b[0;34m\u001b[0m\u001b[0m\n",
      "\u001b[0;32m/raven/u/fcitterio/master_thesis_code/src/shared_utils/util.py\u001b[0m in \u001b[0;36mrecursive_to_tensor\u001b[0;34m(value, device, datatype)\u001b[0m\n\u001b[1;32m     23\u001b[0m     \u001b[0;32melse\u001b[0m\u001b[0;34m:\u001b[0m\u001b[0;34m\u001b[0m\u001b[0;34m\u001b[0m\u001b[0m\n\u001b[1;32m     24\u001b[0m         \u001b[0;32mtry\u001b[0m\u001b[0;34m:\u001b[0m\u001b[0;34m\u001b[0m\u001b[0;34m\u001b[0m\u001b[0m\n\u001b[0;32m---> 25\u001b[0;31m             \u001b[0;32mreturn\u001b[0m \u001b[0mtorch\u001b[0m\u001b[0;34m.\u001b[0m\u001b[0mas_tensor\u001b[0m\u001b[0;34m(\u001b[0m\u001b[0mvalue\u001b[0m\u001b[0;34m,\u001b[0m \u001b[0mdevice\u001b[0m\u001b[0;34m=\u001b[0m\u001b[0mdevice\u001b[0m\u001b[0;34m,\u001b[0m \u001b[0mdtype\u001b[0m\u001b[0;34m=\u001b[0m\u001b[0mdatatype\u001b[0m\u001b[0;34m)\u001b[0m\u001b[0;34m\u001b[0m\u001b[0;34m\u001b[0m\u001b[0m\n\u001b[0m\u001b[1;32m     26\u001b[0m         \u001b[0;32mexcept\u001b[0m \u001b[0mException\u001b[0m\u001b[0;34m:\u001b[0m\u001b[0;34m\u001b[0m\u001b[0;34m\u001b[0m\u001b[0m\n\u001b[1;32m     27\u001b[0m             \u001b[0;32mreturn\u001b[0m \u001b[0mvalue\u001b[0m\u001b[0;34m\u001b[0m\u001b[0;34m\u001b[0m\u001b[0m\n",
      "\u001b[0;31mKeyboardInterrupt\u001b[0m: "
     ]
    }
   ],
   "source": [
    "from substructure_classifier.training_stage_development import Stage\n",
    "from substructure_classifier.substructure_classifier_development import SubstructureClassifier\n",
    "\n",
    "example_config=Stage.get_example_config(return_config=True)\n",
    "\n",
    "my_classifier=SubstructureClassifier(\"EfficientNetB0_3\")\n",
    "\n",
    "example_config[\"training_catalog\"]=\"conor_similar_cat_min_10e9_train_small.json\"\n",
    "example_config[\"validation_like_train_catalog\"]=\"conor_similar_cat_min_10e9_val.json\"\n",
    "example_config[\"dataset_class_str\"]=\"SingleTelescopeNoiseDataset\"\n",
    "example_config[\"dataset_config\"]={\n",
    "        \"grid_width_arcsec\":6.0,\n",
    "        \"grid_pixel_side\":100,\n",
    "        \"broadcasting\":False,\n",
    "        \"sky_level\":0.01,\n",
    "        \"kernel_size\":5,\n",
    "        \"kernel_sigma\":0.8,\n",
    "        \"gain\":1000.0,\n",
    "        \"final_transform\": True,\n",
    "        \"broadcasting\":True\n",
    "}\n",
    "\n",
    "\n",
    "example_config[\"samples_used_for_training\"]=100000\n",
    "example_config[\"samples_used_for_validation\"]=2000\n",
    "example_config[\"batch_size\"]=1024\n",
    "example_config[\"jump_batch_val\"]=10\n",
    "example_config[\"learning_rate\"]=0.000001\n",
    "example_config[\"epochs\"]=5\n",
    "my_stage=Stage(classifier_instance=my_classifier, config=example_config, device=\"cuda\")\n",
    "\n",
    "my_stage.train(train_ready=True, early_stopping=True)"
   ]
  },
  {
   "cell_type": "code",
   "execution_count": null,
   "metadata": {},
   "outputs": [],
   "source": []
  },
  {
   "cell_type": "code",
   "execution_count": null,
   "metadata": {},
   "outputs": [],
   "source": []
  }
 ],
 "metadata": {
  "kernelspec": {
   "display_name": "torch_new_2",
   "language": "python",
   "name": "torch_new"
  },
  "language_info": {
   "codemirror_mode": {
    "name": "ipython",
    "version": 3
   },
   "file_extension": ".py",
   "mimetype": "text/x-python",
   "name": "python",
   "nbconvert_exporter": "python",
   "pygments_lexer": "ipython3",
   "version": "3.10.9"
  }
 },
 "nbformat": 4,
 "nbformat_minor": 4
}

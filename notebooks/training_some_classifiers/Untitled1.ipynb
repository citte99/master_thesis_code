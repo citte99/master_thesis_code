{
 "cells": [
  {
   "cell_type": "code",
   "execution_count": 1,
   "id": "62d84258-b4b9-4658-923b-5879708157a3",
   "metadata": {},
   "outputs": [
    {
     "name": "stdout",
     "output_type": "stream",
     "text": [
      "🔧 Using device: cuda\n",
      "Downloading https://www.cs.toronto.edu/~kriz/cifar-10-python.tar.gz to ./data/cifar-10-python.tar.gz\n"
     ]
    },
    {
     "data": {
      "application/vnd.jupyter.widget-view+json": {
       "model_id": "e2a1cb9f805d4638ab3e225970348709",
       "version_major": 2,
       "version_minor": 0
      },
      "text/plain": [
       "  0%|          | 0/170498071 [00:00<?, ?it/s]"
      ]
     },
     "metadata": {},
     "output_type": "display_data"
    },
    {
     "name": "stdout",
     "output_type": "stream",
     "text": [
      "Extracting ./data/cifar-10-python.tar.gz to ./data\n",
      "Files already downloaded and verified\n",
      "▶️  Running LR-Finder …\n"
     ]
    },
    {
     "data": {
      "application/vnd.jupyter.widget-view+json": {
       "model_id": "9ae99d827b1f433a8c9dc9636dfde3ad",
       "version_major": 2,
       "version_minor": 0
      },
      "text/plain": [
       "  0%|          | 0/100 [00:00<?, ?it/s]"
      ]
     },
     "metadata": {},
     "output_type": "display_data"
    },
    {
     "name": "stdout",
     "output_type": "stream",
     "text": [
      "Stopping early, the loss has diverged\n",
      "Learning rate search finished. See the graph with {finder_name}.plot()\n",
      "📈  Suggested max_lr (lr_peak) ≈ 3.13e-02\n",
      "▶️  Training with One-Cycle …\n",
      "Epoch 01/20 | train_loss=1.7811 | val_loss=1.5613 | val_acc=42.61% | lr=3.26e-03\n",
      "Epoch 02/20 | train_loss=1.4974 | val_loss=1.4084 | val_acc=49.73% | lr=8.76e-03\n",
      "Epoch 03/20 | train_loss=1.2936 | val_loss=1.2421 | val_acc=58.29% | lr=1.63e-02\n",
      "Epoch 04/20 | train_loss=1.1244 | val_loss=1.0588 | val_acc=63.06% | lr=2.38e-02\n",
      "Epoch 05/20 | train_loss=1.0049 | val_loss=0.9930 | val_acc=65.57% | lr=2.93e-02\n",
      "Epoch 06/20 | train_loss=0.9248 | val_loss=0.9796 | val_acc=66.32% | lr=3.13e-02\n",
      "Epoch 07/20 | train_loss=0.8556 | val_loss=0.8469 | val_acc=70.71% | lr=3.09e-02\n",
      "Epoch 08/20 | train_loss=0.7990 | val_loss=0.8146 | val_acc=72.12% | lr=2.97e-02\n",
      "Epoch 09/20 | train_loss=0.7554 | val_loss=0.7906 | val_acc=73.29% | lr=2.78e-02\n",
      "Epoch 10/20 | train_loss=0.7157 | val_loss=0.7070 | val_acc=75.73% | lr=2.54e-02\n",
      "Epoch 11/20 | train_loss=0.6826 | val_loss=0.7384 | val_acc=74.82% | lr=2.24e-02\n",
      "Epoch 12/20 | train_loss=0.6437 | val_loss=0.6698 | val_acc=77.06% | lr=1.91e-02\n",
      "Epoch 13/20 | train_loss=0.6132 | val_loss=0.7022 | val_acc=75.97% | lr=1.56e-02\n",
      "Epoch 14/20 | train_loss=0.5812 | val_loss=0.6346 | val_acc=77.98% | lr=1.21e-02\n",
      "Epoch 15/20 | train_loss=0.5485 | val_loss=0.6208 | val_acc=78.86% | lr=8.84e-03\n",
      "Epoch 16/20 | train_loss=0.5080 | val_loss=0.5772 | val_acc=80.44% | lr=5.88e-03\n",
      "Epoch 17/20 | train_loss=0.4670 | val_loss=0.5475 | val_acc=81.12% | lr=3.40e-03\n",
      "Epoch 18/20 | train_loss=0.4243 | val_loss=0.5296 | val_acc=82.38% | lr=1.54e-03\n",
      "Epoch 19/20 | train_loss=0.3873 | val_loss=0.5071 | val_acc=82.96% | lr=3.90e-04\n",
      "Epoch 20/20 | train_loss=0.3692 | val_loss=0.5047 | val_acc=82.99% | lr=1.28e-07\n",
      "\n",
      "✅  Done!  Best val_acc = 82.99 %  (model saved to best_model.pt)\n"
     ]
    },
    {
     "data": {
      "image/png": "[encoded data removed]",
      "text/plain": [
       "<Figure size 432x288 with 1 Axes>"
      ]
     },
     "metadata": {
      "needs_background": "light"
     },
     "output_type": "display_data"
    },
    {
     "data": {
      "image/png": "[encoded data removed]",
      "text/plain": [
       "<Figure size 432x288 with 1 Axes>"
      ]
     },
     "metadata": {
      "needs_background": "light"
     },
     "output_type": "display_data"
    }
   ],
   "source": [
    "# %% [markdown]\n",
    "# LR-Finder ➜ One-Cycle on CIFAR-10 (all-in-one Jupyter cell)\n",
    "# ----------------------------------------------------------\n",
    "# - Requires PyTorch ≥ 1.13 and Torchvision\n",
    "# - Auto-installs torch-lr-finder if missing\n",
    "# - Works on CPU or GPU (CUDA if available)\n",
    "# ----------------------------------------------------------\n",
    "\n",
    "# %% Install/Imports\n",
    "import subprocess, sys, math, os, torch, torch.nn as nn, torch.optim as optim\n",
    "from torch.optim.lr_scheduler import OneCycleLR\n",
    "from torch.utils.data import DataLoader\n",
    "from torchvision import datasets, transforms, models\n",
    "import matplotlib.pyplot as plt\n",
    "\n",
    "try:\n",
    "    from torch_lr_finder import LRFinder          # optional package\n",
    "except ImportError:\n",
    "    print(\"⏳ Installing torch-lr-finder …\")\n",
    "    subprocess.check_call([sys.executable, \"-m\", \"pip\", \"install\", \"-q\", \"torch-lr-finder\"])\n",
    "    from torch_lr_finder import LRFinder\n",
    "\n",
    "# %% Hyper-parameters (tweak here)\n",
    "EPOCHS              = 20\n",
    "BATCH_SIZE          = 128\n",
    "LR_FINDER_START_LR  = 1e-7\n",
    "LR_FINDER_END_LR    = 10\n",
    "LR_FINDER_ITERS     = 100          # mini-batches\n",
    "DIV_FACTOR          = 25.0         # base_lr  = max_lr / DIV_FACTOR\n",
    "FINAL_DIV_FACTOR    = 1e4          # final_lr = base_lr / FINAL_DIV_FACTOR\n",
    "PCT_START           = 0.3          # % of steps for upward LR ramp\n",
    "DEVICE              = torch.device(\"cuda\" if torch.cuda.is_available() else \"cpu\")\n",
    "\n",
    "print(f\"🔧 Using device: {DEVICE}\")\n",
    "\n",
    "# %% Data\n",
    "mean, std = (0.4914, 0.4822, 0.4465), (0.2023, 0.1994, 0.2010)\n",
    "train_tfms = transforms.Compose([\n",
    "    transforms.RandomCrop(32, padding=4),\n",
    "    transforms.RandomHorizontalFlip(),\n",
    "    transforms.ToTensor(), transforms.Normalize(mean, std),\n",
    "])\n",
    "val_tfms = transforms.Compose([transforms.ToTensor(), transforms.Normalize(mean, std)])\n",
    "\n",
    "train_ds = datasets.CIFAR10(\"./data\", train=True, transform=train_tfms, download=True)\n",
    "val_ds   = datasets.CIFAR10(\"./data\", train=False, transform=val_tfms , download=True)\n",
    "train_loader = DataLoader(train_ds, batch_size=BATCH_SIZE, shuffle=True,  num_workers=4, pin_memory=True)\n",
    "val_loader   = DataLoader(val_ds,   batch_size=BATCH_SIZE, shuffle=False, num_workers=4, pin_memory=True)\n",
    "\n",
    "# %% Model, criterion\n",
    "model = models.resnet18(num_classes=10).to(DEVICE)\n",
    "criterion = nn.CrossEntropyLoss()\n",
    "\n",
    "# %% ---- 1️⃣  LR-Finder -------------------------------------------------------\n",
    "base_opt = optim.SGD(model.parameters(), lr=LR_FINDER_START_LR, momentum=0.9, weight_decay=5e-4)\n",
    "lr_finder = LRFinder(model, base_opt, criterion, device=DEVICE)\n",
    "\n",
    "print(\"▶️  Running LR-Finder …\")\n",
    "lr_finder.range_test(train_loader,\n",
    "                     end_lr=LR_FINDER_END_LR,\n",
    "                     num_iter=min(LR_FINDER_ITERS, len(train_loader)),\n",
    "                     step_mode=\"exp\")\n",
    "# Plot LR-Finder curve\n",
    "fig, ax = plt.subplots()\n",
    "ax.plot(lr_finder.history[\"lr\"], lr_finder.history[\"loss\"])\n",
    "ax.set_xscale(\"log\"); ax.set_xlabel(\"learning-rate\"); ax.set_ylabel(\"loss\"); ax.set_title(\"LR-Finder curve\")\n",
    "\n",
    "# Heuristic choice: LR just before the loss minimum\n",
    "losses = torch.tensor(lr_finder.history[\"loss\"])\n",
    "lrs    = torch.tensor(lr_finder.history[\"lr\"])\n",
    "best_i = int(torch.argmin(losses))\n",
    "lr_peak = float(lrs[best_i])\n",
    "print(f\"📈  Suggested max_lr (lr_peak) ≈ {lr_peak:.2e}\")\n",
    "\n",
    "lr_finder.reset()      # restores initial weights\n",
    "\n",
    "# %% ---- 2️⃣  One-Cycle training ---------------------------------------------\n",
    "base_lr = lr_peak / DIV_FACTOR\n",
    "optimizer = optim.SGD(model.parameters(), lr=base_lr, momentum=0.9, weight_decay=5e-4)\n",
    "scheduler = OneCycleLR(optimizer,\n",
    "                       max_lr=lr_peak,\n",
    "                       epochs=EPOCHS,\n",
    "                       steps_per_epoch=len(train_loader),\n",
    "                       pct_start=PCT_START,\n",
    "                       anneal_strategy=\"cos\",\n",
    "                       div_factor=DIV_FACTOR,\n",
    "                       final_div_factor=FINAL_DIV_FACTOR)\n",
    "\n",
    "def evaluate(net):\n",
    "    net.eval(); loss_sum = correct = total = 0\n",
    "    with torch.no_grad():\n",
    "        for xb, yb in val_loader:\n",
    "            xb, yb = xb.to(DEVICE), yb.to(DEVICE)\n",
    "            out = net(xb)\n",
    "            loss_sum += criterion(out, yb).item() * xb.size(0)\n",
    "            correct  += out.argmax(1).eq(yb).sum().item()\n",
    "            total    += xb.size(0)\n",
    "    return loss_sum / total, correct / total\n",
    "\n",
    "best_acc = 0\n",
    "lr_history = []\n",
    "\n",
    "print(\"▶️  Training with One-Cycle …\")\n",
    "for epoch in range(1, EPOCHS + 1):\n",
    "    model.train(); running_loss = 0\n",
    "    for xb, yb in train_loader:\n",
    "        xb, yb = xb.to(DEVICE), yb.to(DEVICE)\n",
    "        optimizer.zero_grad()\n",
    "        loss = criterion(model(xb), yb)\n",
    "        loss.backward()\n",
    "        optimizer.step()\n",
    "        scheduler.step()\n",
    "        running_loss += loss.item() * xb.size(0)\n",
    "        lr_history.append(scheduler.get_last_lr()[0])\n",
    "\n",
    "    train_loss = running_loss / len(train_loader.dataset)\n",
    "    val_loss, val_acc = evaluate(model)\n",
    "    if val_acc > best_acc:\n",
    "        best_acc = val_acc\n",
    "        torch.save(model.state_dict(), \"best_model.pt\")\n",
    "    print(f\"Epoch {epoch:02d}/{EPOCHS} | train_loss={train_loss:.4f} | \"\n",
    "          f\"val_loss={val_loss:.4f} | val_acc={val_acc*100:.2f}% | \"\n",
    "          f\"lr={scheduler.get_last_lr()[0]:.2e}\")\n",
    "\n",
    "print(f\"\\n✅  Done!  Best val_acc = {best_acc*100:.2f} %  (model saved to best_model.pt)\")\n",
    "\n",
    "# Plot One-Cycle LR schedule\n",
    "plt.figure(); plt.plot(lr_history)\n",
    "plt.yscale(\"log\"); plt.xlabel(\"training step\"); plt.ylabel(\"learning-rate\"); plt.title(\"One-Cycle LR schedule\")\n",
    "plt.show()\n"
   ]
  },
  {
   "cell_type": "code",
   "execution_count": null,
   "id": "070c1ef5-e63f-4f9c-8603-6299de816747",
   "metadata": {},
   "outputs": [],
   "source": []
  }
 ],
 "metadata": {
  "kernelspec": {
   "display_name": "My HPC Python",
   "language": "python",
   "name": "python3"
  },
  "language_info": {
   "codemirror_mode": {
    "name": "ipython",
    "version": 3
   },
   "file_extension": ".py",
   "mimetype": "text/x-python",
   "name": "python",
   "nbconvert_exporter": "python",
   "pygments_lexer": "ipython3",
   "version": "3.9.7"
  }
 },
 "nbformat": 4,
 "nbformat_minor": 5
}

{
 "cells": [
  {
   "cell_type": "code",
   "execution_count": 1,
   "id": "8bb0663f-102b-44b4-b4af-828599357971",
   "metadata": {},
   "outputs": [
    {
     "name": "stdout",
     "output_type": "stream",
     "text": [
      "{\n",
      "    \"classifier_name\": \"test_classifier2\",\n",
      "    \"NN_model\": \"ResNet50\",\n",
      "    \"NN_config\": {},\n",
      "    \"active_val_cats_live\": [\n",
      "        [\n",
      "            \"SIS_10e9_sub_test\",\n",
      "            \"NoNoiseDataset\",\n",
      "            {\n",
      "                \"grid_width_arcsec\": 6.0,\n",
      "                \"grid_pixel_side\": 100\n",
      "            }\n",
      "        ],\n",
      "        [\n",
      "            \"SIS_10e8_sub_test\",\n",
      "            \"NoNoiseDataset\",\n",
      "            {\n",
      "                \"grid_width_arcsec\": 6.0,\n",
      "                \"grid_pixel_side\": 100\n",
      "            }\n",
      "        ]\n",
      "    ]\n",
      "}\n"
     ]
    },
    {
     "ename": "FileExistsError",
     "evalue": "Classifier test already exists. Provide a different name or delete the existing classifier.",
     "output_type": "error",
     "traceback": [
      "\u001b[0;31m---------------------------------------------------------------------------\u001b[0m",
      "\u001b[0;31mFileExistsError\u001b[0m                           Traceback (most recent call last)",
      "\u001b[0;32m/tmp/ipykernel_5745/2971900596.py\u001b[0m in \u001b[0;36m<module>\u001b[0;34m\u001b[0m\n\u001b[1;32m     25\u001b[0m \u001b[0;34m\u001b[0m\u001b[0m\n\u001b[1;32m     26\u001b[0m \u001b[0;34m\u001b[0m\u001b[0m\n\u001b[0;32m---> 27\u001b[0;31m \u001b[0mmy_classifier\u001b[0m \u001b[0;34m=\u001b[0m \u001b[0mSubstructureClassifier\u001b[0m\u001b[0;34m(\u001b[0m\u001b[0;34m\"test\"\u001b[0m\u001b[0;34m,\u001b[0m \u001b[0mconfig_dict\u001b[0m\u001b[0;34m=\u001b[0m\u001b[0mexample_config\u001b[0m\u001b[0;34m)\u001b[0m\u001b[0;34m\u001b[0m\u001b[0;34m\u001b[0m\u001b[0m\n\u001b[0m",
      "\u001b[0;32m/raven/u/fcitterio/master_thesis_code/src/substructure_classifier/substructure_classifier_development.py\u001b[0m in \u001b[0;36m__init__\u001b[0;34m(self, classifier_name, config_dict)\u001b[0m\n\u001b[1;32m     61\u001b[0m             \u001b[0;31m# Check if the classifier directory already exists\u001b[0m\u001b[0;34m\u001b[0m\u001b[0;34m\u001b[0m\u001b[0m\n\u001b[1;32m     62\u001b[0m             \u001b[0;32mif\u001b[0m \u001b[0mos\u001b[0m\u001b[0;34m.\u001b[0m\u001b[0mpath\u001b[0m\u001b[0;34m.\u001b[0m\u001b[0mexists\u001b[0m\u001b[0;34m(\u001b[0m\u001b[0mself\u001b[0m\u001b[0;34m.\u001b[0m\u001b[0mclassifier_path\u001b[0m\u001b[0;34m)\u001b[0m\u001b[0;34m:\u001b[0m\u001b[0;34m\u001b[0m\u001b[0;34m\u001b[0m\u001b[0m\n\u001b[0;32m---> 63\u001b[0;31m                 \u001b[0;32mraise\u001b[0m \u001b[0mFileExistsError\u001b[0m\u001b[0;34m(\u001b[0m\u001b[0;34mf\"Classifier {classifier_name} already exists. Provide a different name or delete the existing classifier.\"\u001b[0m\u001b[0;34m)\u001b[0m\u001b[0;34m\u001b[0m\u001b[0;34m\u001b[0m\u001b[0m\n\u001b[0m\u001b[1;32m     64\u001b[0m             \u001b[0mself\u001b[0m\u001b[0;34m.\u001b[0m\u001b[0mconfig\u001b[0m \u001b[0;34m=\u001b[0m \u001b[0mconfig_dict\u001b[0m\u001b[0;34m\u001b[0m\u001b[0;34m\u001b[0m\u001b[0m\n\u001b[1;32m     65\u001b[0m             \u001b[0mself\u001b[0m\u001b[0;34m.\u001b[0m\u001b[0mconfig\u001b[0m\u001b[0;34m[\u001b[0m\u001b[0;34m\"active_stage_id\"\u001b[0m\u001b[0;34m]\u001b[0m \u001b[0;34m=\u001b[0m \u001b[0;32mNone\u001b[0m\u001b[0;34m\u001b[0m\u001b[0;34m\u001b[0m\u001b[0m\n",
      "\u001b[0;31mFileExistsError\u001b[0m: Classifier test already exists. Provide a different name or delete the existing classifier."
     ]
    }
   ],
   "source": [
    "from substructure_classifier.substructure_classifier_development import SubstructureClassifier\n",
    "import json\n",
    "example_config=SubstructureClassifier.get_example_classifier_config()\n",
    "print(json.dumps(example_config, indent=4))\n",
    "\n",
    "example_config[\"classifier_name\"]=\"test\"\n",
    "\n",
    "example_config[\"active_val_cats_live\"]=[\n",
    "    [\"SIS_10e10_sub_val\", \"SingleTelescopeNoiseDataset\", {\n",
    "        \"grid_width_arcsec\":8.0,\n",
    "        \"grid_pixel_side\":100,\n",
    "        \"broadcasting\":False,\n",
    "        \"sky_level\":0.05,\n",
    "        \"kernel_size\":5,\n",
    "        \"kernel_sigma\":1.0,\n",
    "        \"gain\":100.0,\n",
    "\n",
    "        }\n",
    "    ]\n",
    "]\n",
    "\n",
    "example_config[\"NN_config\"]={\n",
    "        \"num_classes\":2\n",
    "}\n",
    "\n",
    "\n",
    "my_classifier = SubstructureClassifier(\"test\", config_dict=example_config)"
   ]
  },
  {
   "cell_type": "code",
   "execution_count": 1,
   "id": "659616a0-c0e3-47aa-988f-101b696ed6f2",
   "metadata": {},
   "outputs": [
    {
     "name": "stdout",
     "output_type": "stream",
     "text": [
      "forcing only one entry per catalog in add activ val cat live, substructure classifier dev\n",
      "Catalog conor_similar_cat_min_10e11_val_no_shear_small_high_conc.json already exists in active validation catalogs.\n",
      "should have updated the classifier config file\n",
      "forcing only one entry per catalog in add activ val cat live, substructure classifier dev\n",
      "Catalog conor_similar_cat_min_10e11_val_no_shear_small_high_conc.json already exists in active validation catalogs.\n",
      "should have updated the classifier config file\n",
      "Implement the device compatibility check in _check_ready_to_train, util.py\n",
      "Using device: cuda\n",
      "Currently this dataloader is calculating the images in float32\n",
      "[DEBUG] parent_stage_id = 'a75d01fcc66ac59ef3663f8841a2cce0f9bea191e2d6e15d887e7f4eee4707e1'\n",
      "[DEBUG] loading checkpoint from '/raven/u/fcitterio/master_thesis_code/trained_classifiers/test/stages/a75d01fcc66ac59ef3663f8841a2cce0f9bea191e2d6e15d887e7f4eee4707e1/trained_params.pth'\n",
      "[DEBUG] before load: ‖conv1.weight‖ = 4.630945\n",
      "[DEBUG] after load:  ‖conv1.weight‖ = 12.098232\n",
      "Using device: cuda\n",
      "Currently this dataloader is calculating the images in float32\n",
      "Using device: cuda\n",
      "Currently this dataloader is calculating the images in float32\n",
      "authomatic learning rate, disregarding suggestion in the config\n",
      "authomatic learning rate, disregarding suggestion in the config\n",
      "▶️  Running LR-Finder …\n"
     ]
    },
    {
     "data": {
      "application/vnd.jupyter.widget-view+json": {
       "model_id": "2d8ea73889df425cb9c14420174dc661",
       "version_major": 2,
       "version_minor": 0
      },
      "text/plain": [
       "  0%|          | 0/4 [00:00<?, ?it/s]"
      ]
     },
     "metadata": {},
     "output_type": "display_data"
    },
    {
     "name": "stdout",
     "output_type": "stream",
     "text": [
      "Learning rate search finished. See the graph with {finder_name}.plot()\n",
      "📈  Suggested max_lr (lr_peak) ≈ 2.15e-02\n",
      "📈  Suggested max_lr (lr_peak) ≈ 2.15e-02\n",
      "authomatic learning rate, disregarding suggestion in the config\n",
      "hardcoding lr_best\n"
     ]
    },
    {
     "name": "stderr",
     "output_type": "stream",
     "text": [
      "\u001b[34m\u001b[1mwandb\u001b[0m: \u001b[32m\u001b[41mERROR\u001b[0m Failed to detect the name of this notebook. You can set it manually with the WANDB_NOTEBOOK_NAME environment variable to enable code saving.\n",
      "\u001b[34m\u001b[1mwandb\u001b[0m: Currently logged in as: \u001b[33mfrancescocitterio99\u001b[0m (\u001b[33mfrancescocitterio99-max-planck-society\u001b[0m) to \u001b[32mhttps://api.wandb.ai\u001b[0m. Use \u001b[1m`wandb login --relogin`\u001b[0m to force relogin\n"
     ]
    },
    {
     "data": {
      "text/html": [
       "Tracking run with wandb version 0.19.11"
      ],
      "text/plain": [
       "<IPython.core.display.HTML object>"
      ]
     },
     "metadata": {},
     "output_type": "display_data"
    },
    {
     "data": {
      "text/html": [
       "Run data is saved locally in <code>/raven/u/fcitterio/master_thesis_code/notebooks/training_some_classifiers/wandb/run-20250519_142959-rox7eiyl</code>"
      ],
      "text/plain": [
       "<IPython.core.display.HTML object>"
      ]
     },
     "metadata": {},
     "output_type": "display_data"
    },
    {
     "data": {
      "text/html": [
       "Syncing run <strong><a href='https://wandb.ai/francescocitterio99-max-planck-society/test/runs/rox7eiyl' target=\"_blank\">devoted-wave-17</a></strong> to <a href='https://wandb.ai/francescocitterio99-max-planck-society/test' target=\"_blank\">Weights & Biases</a> (<a href='https://wandb.me/developer-guide' target=\"_blank\">docs</a>)<br>"
      ],
      "text/plain": [
       "<IPython.core.display.HTML object>"
      ]
     },
     "metadata": {},
     "output_type": "display_data"
    },
    {
     "data": {
      "text/html": [
       " View project at <a href='https://wandb.ai/francescocitterio99-max-planck-society/test' target=\"_blank\">https://wandb.ai/francescocitterio99-max-planck-society/test</a>"
      ],
      "text/plain": [
       "<IPython.core.display.HTML object>"
      ]
     },
     "metadata": {},
     "output_type": "display_data"
    },
    {
     "data": {
      "text/html": [
       " View run at <a href='https://wandb.ai/francescocitterio99-max-planck-society/test/runs/rox7eiyl' target=\"_blank\">https://wandb.ai/francescocitterio99-max-planck-society/test/runs/rox7eiyl</a>"
      ],
      "text/plain": [
       "<IPython.core.display.HTML object>"
      ]
     },
     "metadata": {},
     "output_type": "display_data"
    },
    {
     "name": "stdout",
     "output_type": "stream",
     "text": [
      "Tracked catalogs: ['SIS_10e10_sub_val', 'conor_similar_cat_min_10e11_val_no_shear_small_high_conc.json']\n"
     ]
    },
    {
     "data": {
      "application/vnd.jupyter.widget-view+json": {
       "model_id": "bd629aba92b7439fbe7d3b135d19f4d8",
       "version_major": 2,
       "version_minor": 0
      },
      "text/plain": [
       "Epoch 1/1:   0%|          | 0/4 [00:00<?, ?batch/s]"
      ]
     },
     "metadata": {},
     "output_type": "display_data"
    },
    {
     "name": "stdout",
     "output_type": "stream",
     "text": [
      "Training_loss= 0.6235872507095337, Validation_loss=0.6931398763656617\n",
      "New best validation loss: 0.693140\n",
      "Training_loss= 0.6369391083717346, Validation_loss=0.6936125235557556\n",
      "Training_loss= 0.6288641095161438, Validation_loss=0.7005196091334025\n",
      "Training_loss= 0.6204951852560043, Validation_loss=0.7070775448481242\n"
     ]
    },
    {
     "data": {
      "image/png": "[encoded data removed]",
      "text/plain": [
       "<Figure size 432x288 with 1 Axes>"
      ]
     },
     "metadata": {
      "needs_background": "light"
     },
     "output_type": "display_data"
    },
    {
     "data": {
      "image/png": "[encoded data removed]",
      "text/plain": [
       "<Figure size 432x288 with 1 Axes>"
      ]
     },
     "metadata": {
      "needs_background": "light"
     },
     "output_type": "display_data"
    },
    {
     "data": {
      "image/png": "[encoded data removed]",
      "text/plain": [
       "<Figure size 432x288 with 1 Axes>"
      ]
     },
     "metadata": {
      "needs_background": "light"
     },
     "output_type": "display_data"
    },
    {
     "name": "stdout",
     "output_type": "stream",
     "text": [
      "Model parameters saved to /raven/u/fcitterio/master_thesis_code/trained_classifiers/test/stages/c83be2315bd1ee212134a0d1d99aecafdab2e6bf426c88b358c5c7373f606346/trained_params.pth\n"
     ]
    },
    {
     "data": {
      "text/html": [],
      "text/plain": [
       "<IPython.core.display.HTML object>"
      ]
     },
     "metadata": {},
     "output_type": "display_data"
    },
    {
     "data": {
      "text/html": [
       "<br>    <style><br>        .wandb-row {<br>            display: flex;<br>            flex-direction: row;<br>            flex-wrap: wrap;<br>            justify-content: flex-start;<br>            width: 100%;<br>        }<br>        .wandb-col {<br>            display: flex;<br>            flex-direction: column;<br>            flex-basis: 100%;<br>            flex: 1;<br>            padding: 10px;<br>        }<br>    </style><br><div class=\"wandb-row\"><div class=\"wandb-col\"><h3>Run history:</h3><br/><table class=\"wandb\"><tr><td>Validation loss</td><td>▁▁▅█</td></tr><tr><td>accuracy/SIS_10e10_sub_val</td><td>▁████</td></tr><tr><td>accuracy/conor_similar_cat_min_10e11_val_no_shear_small_high_conc.json</td><td>▁▁▁▁▁</td></tr><tr><td>f1/SIS_10e10_sub_val</td><td>█▁▁▁▁</td></tr><tr><td>f1/conor_similar_cat_min_10e11_val_no_shear_small_high_conc.json</td><td>█▁▁▁▁</td></tr><tr><td>learning_rate</td><td>█▃▁▃▃</td></tr><tr><td>loss</td><td>▅█▃▁▁</td></tr><tr><td>loss/SIS_10e10_sub_val</td><td>▁▁▄██</td></tr><tr><td>loss/conor_similar_cat_min_10e11_val_no_shear_small_high_conc.json</td><td>▁▁▅██</td></tr><tr><td>precision/SIS_10e10_sub_val</td><td>█▁▁▁▁</td></tr><tr><td>precision/conor_similar_cat_min_10e11_val_no_shear_small_high_conc.json</td><td>█▁▁▁▁</td></tr><tr><td>recall/SIS_10e10_sub_val</td><td>█▁▁▁▁</td></tr><tr><td>recall/conor_similar_cat_min_10e11_val_no_shear_small_high_conc.json</td><td>█▁▁▁▁</td></tr><tr><td>samples_seen</td><td>▁▁▁▃▃▃▆▆▆█████</td></tr><tr><td>total_norm</td><td>▁▇█▄▄</td></tr></table><br/></div><div class=\"wandb-col\"><h3>Run summary:</h3><br/><table class=\"wandb\"><tr><td>Validation loss</td><td>0.70708</td></tr><tr><td>accuracy/SIS_10e10_sub_val</td><td>0.50333</td></tr><tr><td>accuracy/conor_similar_cat_min_10e11_val_no_shear_small_high_conc.json</td><td>0.49833</td></tr><tr><td>f1/SIS_10e10_sub_val</td><td>0</td></tr><tr><td>f1/conor_similar_cat_min_10e11_val_no_shear_small_high_conc.json</td><td>0</td></tr><tr><td>learning_rate</td><td>2e-05</td></tr><tr><td>loss</td><td>0.59539</td></tr><tr><td>loss/SIS_10e10_sub_val</td><td>0.70371</td></tr><tr><td>loss/conor_similar_cat_min_10e11_val_no_shear_small_high_conc.json</td><td>0.70725</td></tr><tr><td>precision/SIS_10e10_sub_val</td><td>0</td></tr><tr><td>precision/conor_similar_cat_min_10e11_val_no_shear_small_high_conc.json</td><td>0</td></tr><tr><td>recall/SIS_10e10_sub_val</td><td>0</td></tr><tr><td>recall/conor_similar_cat_min_10e11_val_no_shear_small_high_conc.json</td><td>0</td></tr><tr><td>samples_seen</td><td>768</td></tr><tr><td>total_norm</td><td>15.9482</td></tr></table><br/></div></div>"
      ],
      "text/plain": [
       "<IPython.core.display.HTML object>"
      ]
     },
     "metadata": {},
     "output_type": "display_data"
    },
    {
     "data": {
      "text/html": [
       " View run <strong style=\"color:#cdcd00\">devoted-wave-17</strong> at: <a href='https://wandb.ai/francescocitterio99-max-planck-society/test/runs/rox7eiyl' target=\"_blank\">https://wandb.ai/francescocitterio99-max-planck-society/test/runs/rox7eiyl</a><br> View project at: <a href='https://wandb.ai/francescocitterio99-max-planck-society/test' target=\"_blank\">https://wandb.ai/francescocitterio99-max-planck-society/test</a><br>Synced 5 W&B file(s), 14 media file(s), 8 artifact file(s) and 0 other file(s)"
      ],
      "text/plain": [
       "<IPython.core.display.HTML object>"
      ]
     },
     "metadata": {},
     "output_type": "display_data"
    },
    {
     "data": {
      "text/html": [
       "Find logs at: <code>./wandb/run-20250519_142959-rox7eiyl/logs</code>"
      ],
      "text/plain": [
       "<IPython.core.display.HTML object>"
      ]
     },
     "metadata": {},
     "output_type": "display_data"
    },
    {
     "name": "stdout",
     "output_type": "stream",
     "text": [
      "should have updated the classifier config file\n",
      "Implement the device compatibility check in _check_ready_to_train, util.py\n",
      "Live metrics saved.\n",
      "Loading paramters of the current stage, not the parent. This mode is intended for using an already trained stage for some evaluations\n",
      "Training completed metrics saved to /raven/u/fcitterio/master_thesis_code/trained_classifiers/test/stages/c83be2315bd1ee212134a0d1d99aecafdab2e6bf426c88b358c5c7373f606346/training_completed_metrics.json\n"
     ]
    },
    {
     "data": {
      "text/plain": [
       "TrainingCompletedMetrics(accuracy={}, f1_score={}, precision={}, recall={})"
      ]
     },
     "execution_count": 1,
     "metadata": {},
     "output_type": "execute_result"
    }
   ],
   "source": [
    "from substructure_classifier.training_stage_development import Stage\n",
    "from substructure_classifier.substructure_classifier_development import SubstructureClassifier\n",
    "\n",
    "\n",
    "example_config=Stage.get_example_config(return_config=True)\n",
    "my_classifier=SubstructureClassifier(\"test\")\n",
    "\n",
    "example_config[\"training_catalog\"]=\"conor_similar_cat_min_10e11_val_no_shear_small_high_conc.json\"\n",
    "example_config[\"validation_like_train_catalog\"]=\"conor_similar_cat_min_10e11_val_no_shear_small_high_conc.json\"\n",
    "example_config[\"dataset_class_str\"]=\"SingleTelescopeNoiseDataset\"\n",
    "example_config[\"dataset_config\"]={\n",
    "        \"grid_width_arcsec\":8.0,\n",
    "        \"grid_pixel_side\":100,\n",
    "        \"broadcasting\":False,\n",
    "        \"sky_level\":0.05,\n",
    "        \"kernel_size\":5,\n",
    "        \"kernel_sigma\":1.0,\n",
    "        \"gain\":100.0,\n",
    "        \"final_transform\": True\n",
    "}\n",
    "\n",
    "example_config[\"samples_used_for_training\"]=1000\n",
    "example_config[\"samples_used_for_validation\"]=3000\n",
    "example_config[\"batch_size\"]=256\n",
    "example_config[\"jump_batch_val\"]=1\n",
    "example_config[\"learning_rate\"]=0.001\n",
    "example_config[\"epochs\"]=1\n",
    "my_stage=Stage(classifier_instance=my_classifier, config=example_config, device=\"cuda\")\n",
    "\n",
    "my_stage.train(train_ready=True, early_stopping=True)\n"
   ]
  },
  {
   "cell_type": "code",
   "execution_count": null,
   "id": "d52b99ef-cc16-4fd7-8cf2-51abf933d0d6",
   "metadata": {},
   "outputs": [],
   "source": []
  },
  {
   "cell_type": "code",
   "execution_count": null,
   "id": "be17876c-424f-4723-94eb-c3f434b7ee4f",
   "metadata": {},
   "outputs": [],
   "source": []
  }
 ],
 "metadata": {
  "kernelspec": {
   "display_name": "My HPC Python",
   "language": "python",
   "name": "python3"
  },
  "language_info": {
   "codemirror_mode": {
    "name": "ipython",
    "version": 3
   },
   "file_extension": ".py",
   "mimetype": "text/x-python",
   "name": "python",
   "nbconvert_exporter": "python",
   "pygments_lexer": "ipython3",
   "version": "3.9.7"
  }
 },
 "nbformat": 4,
 "nbformat_minor": 5
}

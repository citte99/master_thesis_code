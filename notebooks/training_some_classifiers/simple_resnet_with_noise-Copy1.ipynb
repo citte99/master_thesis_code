{
 "cells": [
  {
   "cell_type": "code",
   "execution_count": 1,
   "metadata": {},
   "outputs": [
    {
     "name": "stdout",
     "output_type": "stream",
     "text": [
      "{\n",
      "    \"classifier_name\": \"test_classifier2\",\n",
      "    \"NN_model\": \"ResNet50\",\n",
      "    \"NN_config\": {},\n",
      "    \"active_val_cats_live\": [\n",
      "        [\n",
      "            \"SIS_10e9_sub_test\",\n",
      "            \"NoNoiseDataset\",\n",
      "            {\n",
      "                \"grid_width_arcsec\": 6.0,\n",
      "                \"grid_pixel_side\": 100\n",
      "            }\n",
      "        ],\n",
      "        [\n",
      "            \"SIS_10e8_sub_test\",\n",
      "            \"NoNoiseDataset\",\n",
      "            {\n",
      "                \"grid_width_arcsec\": 6.0,\n",
      "                \"grid_pixel_side\": 100\n",
      "            }\n",
      "        ]\n",
      "    ]\n",
      "}\n"
     ]
    }
   ],
   "source": [
    "from substructure_classifier.substructure_classifier_development import SubstructureClassifier\n",
    "import json\n",
    "example_config=SubstructureClassifier.get_example_classifier_config()\n",
    "print(json.dumps(example_config, indent=4))\n",
    "\n",
    "example_config[\"classifier_name\"]=\"SimpleResnetWithNoiseSersic9\"\n",
    "\n",
    "example_config[\"active_val_cats_live\"]=[]\n",
    "#     [\"conor_similar_cat_min_10e11_val_no_shear_small\", \"SingleTelescopeNoiseDataset\", {\n",
    "#         \"grid_width_arcsec\":10.0,\n",
    "#         \"grid_pixel_side\":120,\n",
    "#         \"broadcasting\":False,\n",
    "#         \"sky_level\":0.01,\n",
    "#         \"kernel_size\":5,\n",
    "#         \"kernel_sigma\":1.0,\n",
    "#         \"gain\":100.0,\n",
    "\n",
    "#     }\n",
    "\n",
    "#     ],\n",
    "#      [\"conor_similar_cat_min_10e11_val_no_shear_small\", \"SingleTelescopeNoiseDataset\", {\n",
    "#         \"grid_width_arcsec\":10.0,\n",
    "#         \"grid_pixel_side\":120,\n",
    "#         \"broadcasting\":False,\n",
    "#         \"sky_level\":0.01,\n",
    "#         \"kernel_size\":5,\n",
    "#         \"kernel_sigma\":1.0,\n",
    "#         \"gain\":100.0,\n",
    "\n",
    "#     }\n",
    "\n",
    "#     ]\n",
    "# ]\n",
    "\n",
    "example_config[\"NN_config\"]={\n",
    "        \"num_classes\":2\n",
    "}\n",
    "\n",
    "\n",
    "my_classifier = SubstructureClassifier(\"SimpleResnetWithNoiseSersic9\", config_dict=example_config)"
   ]
  },
  {
   "cell_type": "code",
   "execution_count": null,
   "metadata": {},
   "outputs": [],
   "source": [
    "# from substructure_classifier.substructure_classifier_development import SubstructureClassifier\n",
    "\n",
    "# my_classifier = SubstructureClassifier(\"SimpleResnetWithNoise1\")\n",
    "\n",
    "# my_classifier._plot_concatenated_data()"
   ]
  },
  {
   "cell_type": "code",
   "execution_count": 8,
   "metadata": {},
   "outputs": [],
   "source": [
    "\n"
   ]
  },
  {
   "cell_type": "code",
   "execution_count": 1,
   "metadata": {},
   "outputs": [
    {
     "name": "stdout",
     "output_type": "stream",
     "text": [
      "forcing only one entry per catalog in add activ val cat live, substructure classifier dev\n",
      "Catalog test_multiple_sersic_sources_test2 already exists in active validation catalogs.\n",
      "should have updated the classifier config file\n",
      "forcing only one entry per catalog in add activ val cat live, substructure classifier dev\n",
      "Catalog test_multiple_sersic_sources_test2_val already exists in active validation catalogs.\n",
      "should have updated the classifier config file\n",
      "Implement the device compatibility check in _check_ready_to_train, util.py\n",
      "Using device: cuda\n",
      "Currently this dataloader is calculating the images in float32\n",
      "Model initialized with kaiming_init\n",
      "Using device: cuda\n",
      "Currently this dataloader is calculating the images in float32\n",
      "Using device: cuda\n",
      "Currently this dataloader is calculating the images in float32\n",
      "authomatic learning rate, disregarding suggestion in the config\n",
      "authomatic learning rate, disregarding suggestion in the config\n",
      "▶️  Running LR-Finder …\n"
     ]
    },
    {
     "data": {
      "application/vnd.jupyter.widget-view+json": {
       "model_id": "5f30d28f7c8249959047b3cd029fae0e",
       "version_major": 2,
       "version_minor": 0
      },
      "text/plain": [
       "  0%|          | 0/20 [00:00<?, ?it/s]"
      ]
     },
     "metadata": {},
     "output_type": "display_data"
    },
    {
     "name": "stderr",
     "output_type": "stream",
     "text": [
      "/raven/u/fcitterio/master_thesis_code/src/deep_learning/NN_datasets/custom_datasets/no_noise_dataset.py:76: UserWarning: To copy construct from a tensor, it is recommended to use sourceTensor.clone().detach() or sourceTensor.clone().detach().requires_grad_(True), rather than torch.tensor(sourceTensor).\n",
      "  label_tensor = torch.tensor((num_sub > 0)).to(device=self.device).long()\n"
     ]
    },
    {
     "name": "stdout",
     "output_type": "stream",
     "text": [
      "Currently not cropping and rotating, set final_transform in the intialization to True to use it\n",
      "Currently not cropping and rotating, set final_transform in the intialization to True to use it\n",
      "Currently not cropping and rotating, set final_transform in the intialization to True to use it\n",
      "Currently not cropping and rotating, set final_transform in the intialization to True to use it\n",
      "Currently not cropping and rotating, set final_transform in the intialization to True to use it\n",
      "Currently not cropping and rotating, set final_transform in the intialization to True to use it\n",
      "Currently not cropping and rotating, set final_transform in the intialization to True to use it\n",
      "Currently not cropping and rotating, set final_transform in the intialization to True to use it\n",
      "Currently not cropping and rotating, set final_transform in the intialization to True to use it\n",
      "Currently not cropping and rotating, set final_transform in the intialization to True to use it\n",
      "Currently not cropping and rotating, set final_transform in the intialization to True to use it\n",
      "Currently not cropping and rotating, set final_transform in the intialization to True to use it\n",
      "Currently not cropping and rotating, set final_transform in the intialization to True to use it\n",
      "Currently not cropping and rotating, set final_transform in the intialization to True to use it\n",
      "Currently not cropping and rotating, set final_transform in the intialization to True to use it\n",
      "Currently not cropping and rotating, set final_transform in the intialization to True to use it\n",
      "Currently not cropping and rotating, set final_transform in the intialization to True to use it\n",
      "Currently not cropping and rotating, set final_transform in the intialization to True to use it\n",
      "Currently not cropping and rotating, set final_transform in the intialization to True to use it\n",
      "Currently not cropping and rotating, set final_transform in the intialization to True to use it\n",
      "Learning rate search finished. See the graph with {finder_name}.plot()\n",
      "📈  Suggested max_lr (lr_peak) ≈ 1.83e-06\n",
      "📈  Suggested max_lr (lr_peak) ≈ 1.83e-06\n",
      "authomatic learning rate, disregarding suggestion in the config\n",
      "hardcoding lr_best\n"
     ]
    },
    {
     "name": "stderr",
     "output_type": "stream",
     "text": [
      "\u001b[34m\u001b[1mwandb\u001b[0m: \u001b[32m\u001b[41mERROR\u001b[0m Failed to detect the name of this notebook. You can set it manually with the WANDB_NOTEBOOK_NAME environment variable to enable code saving.\n",
      "\u001b[34m\u001b[1mwandb\u001b[0m: Currently logged in as: \u001b[33mfrancescocitterio99\u001b[0m (\u001b[33mfrancescocitterio99-max-planck-society\u001b[0m) to \u001b[32mhttps://api.wandb.ai\u001b[0m. Use \u001b[1m`wandb login --relogin`\u001b[0m to force relogin\n"
     ]
    },
    {
     "data": {
      "text/html": [
       "Waiting for wandb.init()..."
      ],
      "text/plain": [
       "<IPython.core.display.HTML object>"
      ]
     },
     "metadata": {},
     "output_type": "display_data"
    },
    {
     "data": {
      "text/html": [
       "Tracking run with wandb version 0.19.11"
      ],
      "text/plain": [
       "<IPython.core.display.HTML object>"
      ]
     },
     "metadata": {},
     "output_type": "display_data"
    },
    {
     "data": {
      "text/html": [
       "Run data is saved locally in <code>/raven/u/fcitterio/master_thesis_code/notebooks/training_some_classifiers/wandb/run-20250521_144303-dv3b1nlg</code>"
      ],
      "text/plain": [
       "<IPython.core.display.HTML object>"
      ]
     },
     "metadata": {},
     "output_type": "display_data"
    },
    {
     "data": {
      "text/html": [
       "Syncing run <strong><a href='https://wandb.ai/francescocitterio99-max-planck-society/SimpleResnetWithNoiseSersic9/runs/dv3b1nlg' target=\"_blank\">avid-microwave-1</a></strong> to <a href='https://wandb.ai/francescocitterio99-max-planck-society/SimpleResnetWithNoiseSersic9' target=\"_blank\">Weights & Biases</a> (<a href='https://wandb.me/developer-guide' target=\"_blank\">docs</a>)<br>"
      ],
      "text/plain": [
       "<IPython.core.display.HTML object>"
      ]
     },
     "metadata": {},
     "output_type": "display_data"
    },
    {
     "data": {
      "text/html": [
       " View project at <a href='https://wandb.ai/francescocitterio99-max-planck-society/SimpleResnetWithNoiseSersic9' target=\"_blank\">https://wandb.ai/francescocitterio99-max-planck-society/SimpleResnetWithNoiseSersic9</a>"
      ],
      "text/plain": [
       "<IPython.core.display.HTML object>"
      ]
     },
     "metadata": {},
     "output_type": "display_data"
    },
    {
     "data": {
      "text/html": [
       " View run at <a href='https://wandb.ai/francescocitterio99-max-planck-society/SimpleResnetWithNoiseSersic9/runs/dv3b1nlg' target=\"_blank\">https://wandb.ai/francescocitterio99-max-planck-society/SimpleResnetWithNoiseSersic9/runs/dv3b1nlg</a>"
      ],
      "text/plain": [
       "<IPython.core.display.HTML object>"
      ]
     },
     "metadata": {},
     "output_type": "display_data"
    },
    {
     "name": "stdout",
     "output_type": "stream",
     "text": [
      "Tracked catalogs: ['test_multiple_sersic_sources_test2', 'test_multiple_sersic_sources_test2_val']\n"
     ]
    },
    {
     "data": {
      "application/vnd.jupyter.widget-view+json": {
       "model_id": "316a3615f7ff4b05bbb45723bceba8a3",
       "version_major": 2,
       "version_minor": 0
      },
      "text/plain": [
       "Epoch 1/3:   0%|          | 0/98 [00:00<?, ?batch/s]"
      ]
     },
     "metadata": {},
     "output_type": "display_data"
    },
    {
     "name": "stderr",
     "output_type": "stream",
     "text": [
      "/raven/u/fcitterio/master_thesis_code/src/deep_learning/NN_datasets/custom_datasets/no_noise_dataset.py:76: UserWarning: To copy construct from a tensor, it is recommended to use sourceTensor.clone().detach() or sourceTensor.clone().detach().requires_grad_(True), rather than torch.tensor(sourceTensor).\n",
      "  label_tensor = torch.tensor((num_sub > 0)).to(device=self.device).long()\n"
     ]
    },
    {
     "name": "stdout",
     "output_type": "stream",
     "text": [
      "Currently not cropping and rotating, set final_transform in the intialization to True to use it\n",
      "🚨 Non-finite inputs in batch 0; skipping this batch.\n",
      "Currently not cropping and rotating, set final_transform in the intialization to True to use it\n",
      "Currently not cropping and rotating, set final_transform in the intialization to True to use it\n",
      "🚨 Non-finite inputs in batch 2; skipping this batch.\n",
      "Currently not cropping and rotating, set final_transform in the intialization to True to use it\n",
      "Currently not cropping and rotating, set final_transform in the intialization to True to use it\n",
      "Currently not cropping and rotating, set final_transform in the intialization to True to use it\n",
      "Currently not cropping and rotating, set final_transform in the intialization to True to use it\n",
      "Currently not cropping and rotating, set final_transform in the intialization to True to use it\n",
      "Currently not cropping and rotating, set final_transform in the intialization to True to use it\n",
      "Currently not cropping and rotating, set final_transform in the intialization to True to use it\n",
      "Currently not cropping and rotating, set final_transform in the intialization to True to use it\n",
      "Currently not cropping and rotating, set final_transform in the intialization to True to use it\n",
      "🚨 Non-finite inputs in batch 11; skipping this batch.\n",
      "Currently not cropping and rotating, set final_transform in the intialization to True to use it\n",
      "🚨 Non-finite inputs in batch 12; skipping this batch.\n",
      "Currently not cropping and rotating, set final_transform in the intialization to True to use it\n",
      "Currently not cropping and rotating, set final_transform in the intialization to True to use it\n",
      "🚨 Non-finite inputs in batch 14; skipping this batch.\n",
      "Currently not cropping and rotating, set final_transform in the intialization to True to use it\n",
      "🚨 Non-finite inputs in batch 15; skipping this batch.\n",
      "Currently not cropping and rotating, set final_transform in the intialization to True to use it\n",
      "Currently not cropping and rotating, set final_transform in the intialization to True to use it\n",
      "Currently not cropping and rotating, set final_transform in the intialization to True to use it\n",
      "Currently not cropping and rotating, set final_transform in the intialization to True to use it\n",
      "Currently not cropping and rotating, set final_transform in the intialization to True to use it\n",
      "🚨 Non-finite inputs in batch 20; skipping this batch.\n",
      "Currently not cropping and rotating, set final_transform in the intialization to True to use it\n",
      "Currently not cropping and rotating, set final_transform in the intialization to True to use it\n",
      "Currently not cropping and rotating, set final_transform in the intialization to True to use it\n",
      "🚨 Non-finite inputs in batch 23; skipping this batch.\n",
      "Currently not cropping and rotating, set final_transform in the intialization to True to use it\n",
      "Currently not cropping and rotating, set final_transform in the intialization to True to use it\n",
      "🚨 Non-finite inputs in batch 25; skipping this batch.\n",
      "Currently not cropping and rotating, set final_transform in the intialization to True to use it\n",
      "🚨 Non-finite inputs in batch 26; skipping this batch.\n",
      "Currently not cropping and rotating, set final_transform in the intialization to True to use it\n",
      "Currently not cropping and rotating, set final_transform in the intialization to True to use it\n",
      "Currently not cropping and rotating, set final_transform in the intialization to True to use it\n",
      "Currently not cropping and rotating, set final_transform in the intialization to True to use it\n",
      "🚨 Non-finite inputs in batch 30; skipping this batch.\n",
      "Currently not cropping and rotating, set final_transform in the intialization to True to use it\n",
      "Currently not cropping and rotating, set final_transform in the intialization to True to use it\n",
      "🚨 Non-finite inputs in batch 32; skipping this batch.\n",
      "Currently not cropping and rotating, set final_transform in the intialization to True to use it\n",
      "🚨 Non-finite inputs in batch 33; skipping this batch.\n",
      "Currently not cropping and rotating, set final_transform in the intialization to True to use it\n",
      "Currently not cropping and rotating, set final_transform in the intialization to True to use it\n",
      "Currently not cropping and rotating, set final_transform in the intialization to True to use it\n",
      "🚨 Non-finite inputs in batch 36; skipping this batch.\n",
      "Currently not cropping and rotating, set final_transform in the intialization to True to use it\n",
      "Currently not cropping and rotating, set final_transform in the intialization to True to use it\n",
      "Currently not cropping and rotating, set final_transform in the intialization to True to use it\n",
      "Currently not cropping and rotating, set final_transform in the intialization to True to use it\n",
      "Currently not cropping and rotating, set final_transform in the intialization to True to use it\n",
      "Currently not cropping and rotating, set final_transform in the intialization to True to use it\n"
     ]
    },
    {
     "name": "stderr",
     "output_type": "stream",
     "text": [
      "/raven/u/fcitterio/master_thesis_code/src/deep_learning/NN_datasets/custom_datasets/no_noise_dataset.py:76: UserWarning: To copy construct from a tensor, it is recommended to use sourceTensor.clone().detach() or sourceTensor.clone().detach().requires_grad_(True), rather than torch.tensor(sourceTensor).\n",
      "  label_tensor = torch.tensor((num_sub > 0)).to(device=self.device).long()\n"
     ]
    },
    {
     "name": "stdout",
     "output_type": "stream",
     "text": [
      "Currently not cropping and rotating, set final_transform in the intialization to True to use it\n",
      "Currently not cropping and rotating, set final_transform in the intialization to True to use it\n"
     ]
    },
    {
     "ename": "AssertionError",
     "evalue": "🚨 Inf or NaN in inputs!",
     "output_type": "error",
     "traceback": [
      "\u001b[0;31m---------------------------------------------------------------------------\u001b[0m",
      "\u001b[0;31mAssertionError\u001b[0m                            Traceback (most recent call last)",
      "\u001b[0;32m/tmp/ipykernel_2823/18166159.py\u001b[0m in \u001b[0;36m<module>\u001b[0;34m\u001b[0m\n\u001b[1;32m     52\u001b[0m \u001b[0mmy_stage\u001b[0m\u001b[0;34m=\u001b[0m\u001b[0mStage\u001b[0m\u001b[0;34m(\u001b[0m\u001b[0mclassifier_instance\u001b[0m\u001b[0;34m=\u001b[0m\u001b[0mmy_classifier\u001b[0m\u001b[0;34m,\u001b[0m \u001b[0mconfig\u001b[0m\u001b[0;34m=\u001b[0m\u001b[0mexample_config\u001b[0m\u001b[0;34m,\u001b[0m \u001b[0mdevice\u001b[0m\u001b[0;34m=\u001b[0m\u001b[0;34m\"cuda\"\u001b[0m\u001b[0;34m)\u001b[0m\u001b[0;34m\u001b[0m\u001b[0;34m\u001b[0m\u001b[0m\n\u001b[1;32m     53\u001b[0m \u001b[0;34m\u001b[0m\u001b[0m\n\u001b[0;32m---> 54\u001b[0;31m \u001b[0mmy_stage\u001b[0m\u001b[0;34m.\u001b[0m\u001b[0mtrain\u001b[0m\u001b[0;34m(\u001b[0m\u001b[0mtrain_ready\u001b[0m\u001b[0;34m=\u001b[0m\u001b[0;32mTrue\u001b[0m\u001b[0;34m,\u001b[0m \u001b[0mearly_stopping\u001b[0m\u001b[0;34m=\u001b[0m\u001b[0;32mFalse\u001b[0m\u001b[0;34m)\u001b[0m\u001b[0;34m\u001b[0m\u001b[0;34m\u001b[0m\u001b[0m\n\u001b[0m\u001b[1;32m     55\u001b[0m \u001b[0;34m\u001b[0m\u001b[0m\n",
      "\u001b[0;32m/raven/u/fcitterio/master_thesis_code/src/substructure_classifier/training_stage_development.py\u001b[0m in \u001b[0;36mtrain\u001b[0;34m(self, train_ready, early_stopping)\u001b[0m\n\u001b[1;32m    912\u001b[0m \u001b[0;34m\u001b[0m\u001b[0m\n\u001b[1;32m    913\u001b[0m                     \u001b[0mself\u001b[0m\u001b[0;34m.\u001b[0m\u001b[0mlive_metrics\u001b[0m\u001b[0;34m.\u001b[0m\u001b[0msample_number\u001b[0m\u001b[0;34m.\u001b[0m\u001b[0mappend\u001b[0m\u001b[0;34m(\u001b[0m\u001b[0mself\u001b[0m\u001b[0;34m.\u001b[0m\u001b[0msamples_seen\u001b[0m\u001b[0;34m)\u001b[0m\u001b[0;34m\u001b[0m\u001b[0;34m\u001b[0m\u001b[0m\n\u001b[0;32m--> 914\u001b[0;31m                     \u001b[0mval_losses\u001b[0m \u001b[0;34m=\u001b[0m \u001b[0mevaluate_model\u001b[0m\u001b[0;34m(\u001b[0m\u001b[0;34m)\u001b[0m\u001b[0;34m\u001b[0m\u001b[0;34m\u001b[0m\u001b[0m\n\u001b[0m\u001b[1;32m    915\u001b[0m                     \u001b[0;31m#re-set to train after evaluation\u001b[0m\u001b[0;34m\u001b[0m\u001b[0;34m\u001b[0m\u001b[0m\n\u001b[1;32m    916\u001b[0m                     \u001b[0mmodel\u001b[0m\u001b[0;34m.\u001b[0m\u001b[0mtrain\u001b[0m\u001b[0;34m(\u001b[0m\u001b[0;34m)\u001b[0m\u001b[0;34m\u001b[0m\u001b[0;34m\u001b[0m\u001b[0m\n",
      "\u001b[0;32m/raven/u/fcitterio/master_thesis_code/src/substructure_classifier/training_stage_development.py\u001b[0m in \u001b[0;36mevaluate_model\u001b[0;34m()\u001b[0m\n\u001b[1;32m    757\u001b[0m \u001b[0;34m\u001b[0m\u001b[0m\n\u001b[1;32m    758\u001b[0m                     \u001b[0;32mfor\u001b[0m \u001b[0minputs\u001b[0m\u001b[0;34m,\u001b[0m \u001b[0mlabels\u001b[0m \u001b[0;32min\u001b[0m \u001b[0mloader\u001b[0m\u001b[0;34m:\u001b[0m\u001b[0;34m\u001b[0m\u001b[0;34m\u001b[0m\u001b[0m\n\u001b[0;32m--> 759\u001b[0;31m                         \u001b[0;32massert\u001b[0m \u001b[0mtorch\u001b[0m\u001b[0;34m.\u001b[0m\u001b[0misfinite\u001b[0m\u001b[0;34m(\u001b[0m\u001b[0minputs\u001b[0m\u001b[0;34m)\u001b[0m\u001b[0;34m.\u001b[0m\u001b[0mall\u001b[0m\u001b[0;34m(\u001b[0m\u001b[0;34m)\u001b[0m\u001b[0;34m,\u001b[0m \u001b[0;34m\"🚨 Inf or NaN in inputs!\"\u001b[0m\u001b[0;34m\u001b[0m\u001b[0;34m\u001b[0m\u001b[0m\n\u001b[0m\u001b[1;32m    760\u001b[0m \u001b[0;34m\u001b[0m\u001b[0m\n\u001b[1;32m    761\u001b[0m                         \u001b[0minputs\u001b[0m\u001b[0;34m,\u001b[0m \u001b[0mlabels\u001b[0m \u001b[0;34m=\u001b[0m \u001b[0minputs\u001b[0m\u001b[0;34m.\u001b[0m\u001b[0mto\u001b[0m\u001b[0;34m(\u001b[0m\u001b[0mself\u001b[0m\u001b[0;34m.\u001b[0m\u001b[0mdevice\u001b[0m\u001b[0;34m)\u001b[0m\u001b[0;34m,\u001b[0m \u001b[0mlabels\u001b[0m\u001b[0;34m.\u001b[0m\u001b[0mto\u001b[0m\u001b[0;34m(\u001b[0m\u001b[0mself\u001b[0m\u001b[0;34m.\u001b[0m\u001b[0mdevice\u001b[0m\u001b[0;34m)\u001b[0m\u001b[0;34m.\u001b[0m\u001b[0mlong\u001b[0m\u001b[0;34m(\u001b[0m\u001b[0;34m)\u001b[0m\u001b[0;34m\u001b[0m\u001b[0;34m\u001b[0m\u001b[0m\n",
      "\u001b[0;31mAssertionError\u001b[0m: 🚨 Inf or NaN in inputs!"
     ]
    },
    {
     "data": {
      "image/png": "[encoded data removed]",
      "text/plain": [
       "<Figure size 432x288 with 1 Axes>"
      ]
     },
     "metadata": {
      "needs_background": "light"
     },
     "output_type": "display_data"
    }
   ],
   "source": [
    "from substructure_classifier.training_stage_development import Stage\n",
    "from substructure_classifier.substructure_classifier_development import SubstructureClassifier\n",
    "\n",
    "\n",
    "example_config=Stage.get_example_config(return_config=True)\n",
    "my_classifier=SubstructureClassifier(\"SimpleResnetWithNoiseSersic9\")\n",
    "\n",
    "# example_config[\"training_catalog\"]=\"conor_similar_cat_min_10e11_train_no_shear_small_high_conc.json\"\n",
    "# example_config[\"validation_like_train_catalog\"]=\"conor_similar_cat_min_10e11_val_no_shear_small_high_conc.json\"\n",
    "# example_config[\"dataset_class_str\"]=\"SingleTelescopeNoiseDataset\"\n",
    "# example_config[\"dataset_config\"]={\n",
    "#         \"grid_width_arcsec\":8.0,\n",
    "#         \"grid_pixel_side\":100,\n",
    "#         \"broadcasting\":False,\n",
    "#         \"sky_level\":0.05,\n",
    "#         \"kernel_size\":5,\n",
    "#         \"kernel_sigma\":1.0,\n",
    "#         \"gain\":100.0,\n",
    "#         \"final_transform\": True\n",
    "# }\n",
    "\n",
    "# example_config[\"samples_used_for_training\"]=100000\n",
    "# example_config[\"samples_used_for_validation\"]=3000\n",
    "# example_config[\"batch_size\"]=256\n",
    "# example_config[\"jump_batch_val\"]=50\n",
    "# example_config[\"learning_rate\"]=0.001\n",
    "# example_config[\"epochs\"]=1\n",
    "# my_stage=Stage(classifier_instance=my_classifier, config=example_config, device=\"cuda\")\n",
    "\n",
    "# my_stage.train(train_ready=True, early_stopping=True)\n",
    "\n",
    "example_config[\"training_catalog\"]=\"test_multiple_sersic_sources_test2\"\n",
    "example_config[\"validation_like_train_catalog\"]=\"test_multiple_sersic_sources_test2_val\"\n",
    "example_config[\"dataset_class_str\"]=\"NoNoiseDataset\"\n",
    "example_config[\"dataset_config\"]={\n",
    "            \"grid_width_arcsec\":10.0,\n",
    "            \"grid_pixel_side\":120,\n",
    "            \"broadcasting\":False,\n",
    "#         \"sky_level\":1e-8,\n",
    "#         \"kernel_size\":5,\n",
    "#         \"kernel_sigma\":0.1,\n",
    "#         \"gain\":1000.0,\n",
    "           \"final_transform\": False\n",
    "}\n",
    "\n",
    "example_config[\"samples_used_for_training\"]=100000\n",
    "example_config[\"samples_used_for_validation\"]=2000\n",
    "example_config[\"batch_size\"]=1024\n",
    "example_config[\"jump_batch_val\"]=20\n",
    "example_config[\"learning_rate\"]=0.0001\n",
    "example_config[\"epochs\"]=3\n",
    "my_stage=Stage(classifier_instance=my_classifier, config=example_config, device=\"cuda\")\n",
    "\n",
    "my_stage.train(train_ready=True, early_stopping=False)\n",
    "\n"
   ]
  },
  {
   "cell_type": "code",
   "execution_count": null,
   "metadata": {},
   "outputs": [],
   "source": [
    "#### from substructure_classifier.training_stage_development import Stage\n",
    "from substructure_classifier.substructure_classifier_development import SubstructureClassifier\n",
    "\n",
    "\n",
    "example_config=Stage.get_example_config(return_config=True)\n",
    "my_classifier=SubstructureClassifier(\"SimpleResnetWithNoise18\")\n",
    "\n",
    "# example_config[\"training_catalog\"]=\"conor_similar_cat_min_10e11_train_no_shear_small_high_conc.json\"\n",
    "# example_config[\"validation_like_train_catalog\"]=\"conor_similar_cat_min_10e11_val_no_shear_small_high_conc.json\"\n",
    "# example_config[\"dataset_class_str\"]=\"SingleTelescopeNoiseDataset\"\n",
    "# example_config[\"dataset_config\"]={\n",
    "#         \"grid_width_arcsec\":8.0,\n",
    "#         \"grid_pixel_side\":100,\n",
    "#         \"broadcasting\":False,\n",
    "#         \"sky_level\":0.05,\n",
    "#         \"kernel_size\":5,\n",
    "#         \"kernel_sigma\":1.0,\n",
    "#         \"gain\":100.0,\n",
    "#         \"final_transform\": True\n",
    "# }\n",
    "\n",
    "# example_config[\"samples_used_for_training\"]=100000\n",
    "# example_config[\"samples_used_for_validation\"]=3000\n",
    "# example_config[\"batch_size\"]=256\n",
    "# example_config[\"jump_batch_val\"]=50\n",
    "# example_config[\"learning_rate\"]=0.001\n",
    "# example_config[\"epochs\"]=1\n",
    "# my_stage=Stage(classifier_instance=my_classifier, config=example_config, device=\"cuda\")\n",
    "\n",
    "# my_stage.train(train_ready=True, early_stopping=True)\n",
    "\n",
    "example_config[\"training_catalog\"]=\"conor_similar_cat_min_10e11_train_no_shear_small_medium_conc.json\"\n",
    "example_config[\"validation_like_train_catalog\"]=\"conor_similar_cat_min_10e11_val_no_shear_small_medium_conc.json\"\n",
    "example_config[\"dataset_class_str\"]=\"SingleTelescopeNoiseDataset\"\n",
    "example_config[\"dataset_config\"]={\n",
    "        \"grid_width_arcsec\":6.0,\n",
    "        \"grid_pixel_side\":100,\n",
    "        \"broadcasting\":False,\n",
    "        \"sky_level\":0.01,\n",
    "        \"kernel_size\":5,\n",
    "        \"kernel_sigma\":1.0,\n",
    "        \"gain\":100.0,\n",
    "        \"final_transform\": True\n",
    "}\n",
    "\n",
    "example_config[\"samples_used_for_training\"]=100000\n",
    "example_config[\"samples_used_for_validation\"]=2000\n",
    "example_config[\"batch_size\"]=512\n",
    "example_config[\"jump_batch_val\"]=20\n",
    "example_config[\"learning_rate\"]=0.0001\n",
    "example_config[\"epochs\"]=4\n",
    "my_stage=Stage(classifier_instance=my_classifier, config=example_config, device=\"cuda\")\n",
    "\n",
    "my_stage.train(train_ready=True, early_stopping=False)\n"
   ]
  },
  {
   "cell_type": "code",
   "execution_count": 1,
   "metadata": {},
   "outputs": [
    {
     "name": "stdout",
     "output_type": "stream",
     "text": [
      "forcing only one entry per catalog in add activ val cat live, substructure classifier dev\n",
      "Catalog conor_similar_cat_min_10e11_train_no_shear_small_medium_less_conc.json already exists in active validation catalogs.\n",
      "should have updated the classifier config file\n",
      "forcing only one entry per catalog in add activ val cat live, substructure classifier dev\n",
      "Catalog conor_similar_cat_min_10e11_val_no_shear_small_medium_less_conc.json already exists in active validation catalogs.\n",
      "should have updated the classifier config file\n",
      "Implement the device compatibility check in _check_ready_to_train, util.py\n",
      "Using device: cuda\n",
      "Currently this dataloader is calculating the images in float32\n",
      "[DEBUG] parent_stage_id = '07f0b207bb310088911644dbdf3df678cc156581d629324585260e420f7b5acf'\n",
      "[DEBUG] loading checkpoint from '/raven/u/fcitterio/master_thesis_code/trained_classifiers/SimpleResnetWithNoise20/stages/07f0b207bb310088911644dbdf3df678cc156581d629324585260e420f7b5acf/trained_params.pth'\n",
      "[DEBUG] before load: ‖conv1.weight‖ = 4.641216\n",
      "[DEBUG] after load:  ‖conv1.weight‖ = 1.435404\n",
      "Using device: cuda\n",
      "Currently this dataloader is calculating the images in float32\n",
      "Using device: cuda\n",
      "Currently this dataloader is calculating the images in float32\n",
      "Using device: cuda\n",
      "Currently this dataloader is calculating the images in float32\n",
      "Using device: cuda\n",
      "Currently this dataloader is calculating the images in float32\n",
      "authomatic learning rate, disregarding suggestion in the config\n",
      "authomatic learning rate, disregarding suggestion in the config\n",
      "▶️  Running LR-Finder …\n"
     ]
    },
    {
     "data": {
      "application/vnd.jupyter.widget-view+json": {
       "model_id": "d416ba031dce480a857d8dd53f14532b",
       "version_major": 2,
       "version_minor": 0
      },
      "text/plain": [
       "  0%|          | 0/98 [00:00<?, ?it/s]"
      ]
     },
     "metadata": {},
     "output_type": "display_data"
    },
    {
     "name": "stdout",
     "output_type": "stream",
     "text": [
      "Stopping early, the loss has diverged\n",
      "Learning rate search finished. See the graph with {finder_name}.plot()\n",
      "📈  Suggested max_lr (lr_peak) ≈ 1.00e-07\n",
      "authomatic learning rate, disregarding suggestion in the config\n",
      "hardcoding lr_best\n"
     ]
    },
    {
     "name": "stderr",
     "output_type": "stream",
     "text": [
      "\u001b[34m\u001b[1mwandb\u001b[0m: \u001b[32m\u001b[41mERROR\u001b[0m Failed to detect the name of this notebook. You can set it manually with the WANDB_NOTEBOOK_NAME environment variable to enable code saving.\n",
      "\u001b[34m\u001b[1mwandb\u001b[0m: Currently logged in as: \u001b[33mfrancescocitterio99\u001b[0m (\u001b[33mfrancescocitterio99-max-planck-society\u001b[0m) to \u001b[32mhttps://api.wandb.ai\u001b[0m. Use \u001b[1m`wandb login --relogin`\u001b[0m to force relogin\n"
     ]
    },
    {
     "data": {
      "text/html": [
       "Tracking run with wandb version 0.19.11"
      ],
      "text/plain": [
       "<IPython.core.display.HTML object>"
      ]
     },
     "metadata": {},
     "output_type": "display_data"
    },
    {
     "data": {
      "text/html": [
       "Run data is saved locally in <code>/raven/u/fcitterio/master_thesis_code/notebooks/training_some_classifiers/wandb/run-20250518_162152-h1ptgor6</code>"
      ],
      "text/plain": [
       "<IPython.core.display.HTML object>"
      ]
     },
     "metadata": {},
     "output_type": "display_data"
    },
    {
     "data": {
      "text/html": [
       "Syncing run <strong><a href='https://wandb.ai/francescocitterio99-max-planck-society/SimpleResnetWithNoise20/runs/h1ptgor6' target=\"_blank\">peach-surf-4</a></strong> to <a href='https://wandb.ai/francescocitterio99-max-planck-society/SimpleResnetWithNoise20' target=\"_blank\">Weights & Biases</a> (<a href='https://wandb.me/developer-guide' target=\"_blank\">docs</a>)<br>"
      ],
      "text/plain": [
       "<IPython.core.display.HTML object>"
      ]
     },
     "metadata": {},
     "output_type": "display_data"
    },
    {
     "data": {
      "text/html": [
       " View project at <a href='https://wandb.ai/francescocitterio99-max-planck-society/SimpleResnetWithNoise20' target=\"_blank\">https://wandb.ai/francescocitterio99-max-planck-society/SimpleResnetWithNoise20</a>"
      ],
      "text/plain": [
       "<IPython.core.display.HTML object>"
      ]
     },
     "metadata": {},
     "output_type": "display_data"
    },
    {
     "data": {
      "text/html": [
       " View run at <a href='https://wandb.ai/francescocitterio99-max-planck-society/SimpleResnetWithNoise20/runs/h1ptgor6' target=\"_blank\">https://wandb.ai/francescocitterio99-max-planck-society/SimpleResnetWithNoise20/runs/h1ptgor6</a>"
      ],
      "text/plain": [
       "<IPython.core.display.HTML object>"
      ]
     },
     "metadata": {},
     "output_type": "display_data"
    },
    {
     "name": "stdout",
     "output_type": "stream",
     "text": [
      "Tracked catalogs: ['conor_similar_cat_min_10e11_val_no_shear_small', 'conor_similar_cat_min_10e11_val_no_shear_small', 'conor_similar_cat_min_10e11_train_no_shear_small_medium_less_conc.json', 'conor_similar_cat_min_10e11_val_no_shear_small_medium_less_conc.json']\n"
     ]
    },
    {
     "data": {
      "application/vnd.jupyter.widget-view+json": {
       "model_id": "62c3c6920ec5440e94ef1475889d846b",
       "version_major": 2,
       "version_minor": 0
      },
      "text/plain": [
       "Epoch 1/3:   0%|          | 0/98 [00:00<?, ?batch/s]"
      ]
     },
     "metadata": {},
     "output_type": "display_data"
    },
    {
     "name": "stdout",
     "output_type": "stream",
     "text": [
      "Training_loss= 0.628812313079834, Validation_loss=0.610465751171112\n",
      "New best validation loss: 0.610466\n",
      "Training_loss= 0.6095882437445901, Validation_loss=0.6162452554702759\n",
      "Training_loss= 0.6077495188940139, Validation_loss=0.609111442565918\n",
      "New best validation loss: 0.609111\n",
      "Training_loss= 0.606896859984244, Validation_loss=0.608125039100647\n",
      "New best validation loss: 0.608125\n",
      "Training_loss= 0.606974819811379, Validation_loss=0.60751455783844\n",
      "New best validation loss: 0.607515\n",
      "Training_loss= 0.6069498891923942, Validation_loss=0.6108595528602601\n",
      "Training_loss= 0.6066070453065341, Validation_loss=0.60567830991745\n",
      "New best validation loss: 0.605678\n",
      "Training_loss= 0.607101816526601, Validation_loss=0.6056671314239502\n",
      "New best validation loss: 0.605667\n",
      "Training_loss= 0.6070728787669429, Validation_loss=0.6074990949630737\n",
      "Training_loss= 0.6074384706360954, Validation_loss=0.6109346718788147\n"
     ]
    },
    {
     "data": {
      "application/vnd.jupyter.widget-view+json": {
       "model_id": "8ff906615b744c5abb939c3aa3d52938",
       "version_major": 2,
       "version_minor": 0
      },
      "text/plain": [
       "Epoch 2/3:   0%|          | 0/98 [00:00<?, ?batch/s]"
      ]
     },
     "metadata": {},
     "output_type": "display_data"
    },
    {
     "name": "stdout",
     "output_type": "stream",
     "text": [
      "Training_loss= 0.6078477050318862, Validation_loss=0.6118217973709107\n",
      "🚨 Non-finite inputs in batch 4; skipping this batch.\n",
      "Training_loss= 0.6077312391113352, Validation_loss=0.6090845732688904\n",
      "Training_loss= 0.6076985577405509, Validation_loss=0.6115071530342102\n",
      "Training_loss= 0.607531058602035, Validation_loss=0.6115873823165894\n",
      "Training_loss= 0.6071006824140963, Validation_loss=0.6081979150772094\n",
      "Training_loss= 0.606940563868832, Validation_loss=0.6090528974533082\n",
      "Training_loss= 0.6068887046620816, Validation_loss=0.6053719749450683\n",
      "New best validation loss: 0.605372\n",
      "Training_loss= 0.6065737825064432, Validation_loss=0.609148916721344\n",
      "Training_loss= 0.6067252946033906, Validation_loss=0.6049364147186279\n",
      "New best validation loss: 0.604936\n",
      "Training_loss= 0.6066385853163739, Validation_loss=0.6171027474403381\n"
     ]
    },
    {
     "data": {
      "application/vnd.jupyter.widget-view+json": {
       "model_id": "6dadb79f368844ab960cbf025d106b06",
       "version_major": 2,
       "version_minor": 0
      },
      "text/plain": [
       "Epoch 3/3:   0%|          | 0/98 [00:00<?, ?batch/s]"
      ]
     },
     "metadata": {},
     "output_type": "display_data"
    },
    {
     "name": "stdout",
     "output_type": "stream",
     "text": [
      "Training_loss= 0.6065321281856421, Validation_loss=0.605518238067627\n",
      "Training_loss= 0.6064357885718346, Validation_loss=0.6063147201538086\n",
      "Training_loss= 0.6065795108675957, Validation_loss=0.6067365107536316\n",
      "Training_loss= 0.6065832260251045, Validation_loss=0.6048049612045288\n",
      "New best validation loss: 0.604805\n",
      "Training_loss= 0.6065136685967445, Validation_loss=0.6128759412765503\n",
      "Training_loss= 0.6064439421892166, Validation_loss=0.6064822783470154\n",
      "Training_loss= 0.6066677662730217, Validation_loss=0.6080517525672913\n",
      "Training_loss= 0.6062323012948037, Validation_loss=0.6105853061676025\n",
      "Training_loss= 0.6064482322335243, Validation_loss=0.6066572761535645\n"
     ]
    },
    {
     "ename": "KeyboardInterrupt",
     "evalue": "",
     "output_type": "error",
     "traceback": [
      "\u001b[0;31m---------------------------------------------------------------------------\u001b[0m",
      "\u001b[0;31mKeyboardInterrupt\u001b[0m                         Traceback (most recent call last)",
      "\u001b[0;32m/tmp/ipykernel_26935/42358233.py\u001b[0m in \u001b[0;36m<module>\u001b[0;34m\u001b[0m\n\u001b[1;32m     52\u001b[0m \u001b[0mmy_stage\u001b[0m\u001b[0;34m=\u001b[0m\u001b[0mStage\u001b[0m\u001b[0;34m(\u001b[0m\u001b[0mclassifier_instance\u001b[0m\u001b[0;34m=\u001b[0m\u001b[0mmy_classifier\u001b[0m\u001b[0;34m,\u001b[0m \u001b[0mconfig\u001b[0m\u001b[0;34m=\u001b[0m\u001b[0mexample_config\u001b[0m\u001b[0;34m,\u001b[0m \u001b[0mdevice\u001b[0m\u001b[0;34m=\u001b[0m\u001b[0;34m\"cuda\"\u001b[0m\u001b[0;34m)\u001b[0m\u001b[0;34m\u001b[0m\u001b[0;34m\u001b[0m\u001b[0m\n\u001b[1;32m     53\u001b[0m \u001b[0;34m\u001b[0m\u001b[0m\n\u001b[0;32m---> 54\u001b[0;31m \u001b[0mmy_stage\u001b[0m\u001b[0;34m.\u001b[0m\u001b[0mtrain\u001b[0m\u001b[0;34m(\u001b[0m\u001b[0mtrain_ready\u001b[0m\u001b[0;34m=\u001b[0m\u001b[0;32mTrue\u001b[0m\u001b[0;34m,\u001b[0m \u001b[0mearly_stopping\u001b[0m\u001b[0;34m=\u001b[0m\u001b[0;32mFalse\u001b[0m\u001b[0;34m)\u001b[0m\u001b[0;34m\u001b[0m\u001b[0;34m\u001b[0m\u001b[0m\n\u001b[0m",
      "\u001b[0;32m/raven/u/fcitterio/master_thesis_code/src/substructure_classifier/training_stage_development.py\u001b[0m in \u001b[0;36mtrain\u001b[0;34m(self, train_ready, early_stopping)\u001b[0m\n\u001b[1;32m    870\u001b[0m \u001b[0;34m\u001b[0m\u001b[0m\n\u001b[1;32m    871\u001b[0m \u001b[0;34m\u001b[0m\u001b[0m\n\u001b[0;32m--> 872\u001b[0;31m                 \u001b[0mself\u001b[0m\u001b[0;34m.\u001b[0m\u001b[0mgradient_array\u001b[0m\u001b[0;34m.\u001b[0m\u001b[0mappend\u001b[0m\u001b[0;34m(\u001b[0m\u001b[0mtotal_norm\u001b[0m\u001b[0;34m.\u001b[0m\u001b[0mcpu\u001b[0m\u001b[0;34m(\u001b[0m\u001b[0;34m)\u001b[0m\u001b[0;34m.\u001b[0m\u001b[0mnumpy\u001b[0m\u001b[0;34m(\u001b[0m\u001b[0;34m)\u001b[0m\u001b[0;34m)\u001b[0m\u001b[0;34m\u001b[0m\u001b[0;34m\u001b[0m\u001b[0m\n\u001b[0m\u001b[1;32m    873\u001b[0m \u001b[0;34m\u001b[0m\u001b[0m\n\u001b[1;32m    874\u001b[0m                 \u001b[0mself\u001b[0m\u001b[0;34m.\u001b[0m\u001b[0mlive_metrics\u001b[0m\u001b[0;34m.\u001b[0m\u001b[0mrunning_loss\u001b[0m\u001b[0;34m[\u001b[0m\u001b[0mtraining_catalog\u001b[0m\u001b[0;34m]\u001b[0m\u001b[0;34m.\u001b[0m\u001b[0mappend\u001b[0m\u001b[0;34m(\u001b[0m\u001b[0mloss\u001b[0m\u001b[0;34m.\u001b[0m\u001b[0mitem\u001b[0m\u001b[0;34m(\u001b[0m\u001b[0;34m)\u001b[0m\u001b[0;34m)\u001b[0m\u001b[0;34m\u001b[0m\u001b[0;34m\u001b[0m\u001b[0m\n",
      "\u001b[0;31mKeyboardInterrupt\u001b[0m: "
     ]
    },
    {
     "data": {
      "image/png": "[encoded data removed]",
      "text/plain": [
       "<Figure size 432x288 with 1 Axes>"
      ]
     },
     "metadata": {
      "needs_background": "light"
     },
     "output_type": "display_data"
    }
   ],
   "source": [
    "\n",
    "\n",
    "\n",
    "\n",
    "\n",
    "from substructure_classifier.training_stage_development import Stage\n",
    "from substructure_classifier.substructure_classifier_development import SubstructureClassifier\n",
    "\n",
    "\n",
    "example_config=Stage.get_example_config(return_config=True)\n",
    "my_classifier=SubstructureClassifier(\"SimpleResnetWithNoise20\")\n",
    "\n",
    "# example_config[\"training_catalog\"]=\"conor_similar_cat_min_10e11_train_no_shear_small_high_conc.json\"\n",
    "# example_config[\"validation_like_train_catalog\"]=\"conor_similar_cat_min_10e11_val_no_shear_small_high_conc.json\"\n",
    "# example_config[\"dataset_class_str\"]=\"SingleTelescopeNoiseDataset\"\n",
    "# example_config[\"dataset_config\"]={\n",
    "#         \"grid_width_arcsec\":8.0,\n",
    "#         \"grid_pixel_side\":100,\n",
    "#         \"broadcasting\":False,\n",
    "#         \"sky_level\":0.05,\n",
    "#         \"kernel_size\":5,\n",
    "#         \"kernel_sigma\":1.0,\n",
    "#         \"gain\":100.0,\n",
    "#         \"final_transform\": True\n",
    "# }\n",
    "\n",
    "# example_config[\"samples_used_for_training\"]=100000\n",
    "# example_config[\"samples_used_for_validation\"]=3000\n",
    "# example_config[\"batch_size\"]=256\n",
    "# example_config[\"jump_batch_val\"]=50\n",
    "# example_config[\"learning_rate\"]=0.001\n",
    "# example_config[\"epochs\"]=1\n",
    "# my_stage=Stage(classifier_instance=my_classifier, config=example_config, device=\"cuda\")\n",
    "\n",
    "# my_stage.train(train_ready=True, early_stopping=True)\n",
    "\n",
    "example_config[\"training_catalog\"]=\"conor_similar_cat_min_10e11_train_no_shear_small_medium_less_conc.json\"\n",
    "example_config[\"validation_like_train_catalog\"]=\"conor_similar_cat_min_10e11_val_no_shear_small_medium_less_conc.json\"\n",
    "example_config[\"dataset_class_str\"]=\"SingleTelescopeNoiseDataset\"\n",
    "example_config[\"dataset_config\"]={\n",
    "        \"grid_width_arcsec\":6.0,\n",
    "        \"grid_pixel_side\":100,\n",
    "        \"broadcasting\":False,\n",
    "        \"sky_level\":0.01,\n",
    "        \"kernel_size\":5,\n",
    "        \"kernel_sigma\":1.0,\n",
    "        \"gain\":100.0,\n",
    "        \"final_transform\": True\n",
    "}\n",
    "\n",
    "example_config[\"samples_used_for_training\"]=100000\n",
    "example_config[\"samples_used_for_validation\"]=2000\n",
    "example_config[\"batch_size\"]=1024\n",
    "example_config[\"jump_batch_val\"]=10\n",
    "example_config[\"learning_rate\"]=0.0001\n",
    "example_config[\"epochs\"]=3\n",
    "my_stage=Stage(classifier_instance=my_classifier, config=example_config, device=\"cuda\")\n",
    "\n",
    "my_stage.train(train_ready=True, early_stopping=False)\n"
   ]
  },
  {
   "cell_type": "code",
   "execution_count": null,
   "metadata": {},
   "outputs": [
    {
     "name": "stdout",
     "output_type": "stream",
     "text": [
      "forcing only one entry per catalog in add activ val cat live, substructure classifier dev\n",
      "should have updated the classifier config file\n",
      "forcing only one entry per catalog in add activ val cat live, substructure classifier dev\n",
      "should have updated the classifier config file\n",
      "Implement the device compatibility check in _check_ready_to_train, util.py\n",
      "Using device: cuda\n",
      "Currently this dataloader is calculating the images in float32\n",
      "[DEBUG] parent_stage_id = '532966d87ab68d0ac37c374b103d1bdb9a487f3ca3579ee1e807de315d18b7ac'\n",
      "[DEBUG] loading checkpoint from '/raven/u/fcitterio/master_thesis_code/trained_classifiers/SimpleResnetWithNoise20/stages/532966d87ab68d0ac37c374b103d1bdb9a487f3ca3579ee1e807de315d18b7ac/trained_params.pth'\n",
      "[DEBUG] before load: ‖conv1.weight‖ = 4.636760\n",
      "[DEBUG] after load:  ‖conv1.weight‖ = 1.435435\n",
      "Using device: cuda\n",
      "Currently this dataloader is calculating the images in float32\n",
      "Using device: cuda\n",
      "Currently this dataloader is calculating the images in float32\n",
      "Using device: cuda\n",
      "Currently this dataloader is calculating the images in float32\n",
      "Using device: cuda\n",
      "Currently this dataloader is calculating the images in float32\n",
      "Using device: cuda\n",
      "Currently this dataloader is calculating the images in float32\n",
      "Using device: cuda\n",
      "Currently this dataloader is calculating the images in float32\n",
      "Using device: cuda\n",
      "Currently this dataloader is calculating the images in float32\n",
      "Using device: cuda\n",
      "Currently this dataloader is calculating the images in float32\n",
      "Using device: cuda\n",
      "Currently this dataloader is calculating the images in float32\n",
      "Using device: cuda\n",
      "Currently this dataloader is calculating the images in float32\n",
      "Using device: cuda\n",
      "Currently this dataloader is calculating the images in float32\n",
      "Using device: cuda\n",
      "Currently this dataloader is calculating the images in float32\n",
      "Using device: cuda\n",
      "Currently this dataloader is calculating the images in float32\n",
      "authomatic learning rate, disregarding suggestion in the config\n",
      "authomatic learning rate, disregarding suggestion in the config\n",
      "▶️  Running LR-Finder …\n"
     ]
    },
    {
     "data": {
      "application/vnd.jupyter.widget-view+json": {
       "model_id": "a3d0f628f6834b609be43ad71079aa76",
       "version_major": 2,
       "version_minor": 0
      },
      "text/plain": [
       "  0%|          | 0/100 [00:00<?, ?it/s]"
      ]
     },
     "metadata": {},
     "output_type": "display_data"
    },
    {
     "name": "stdout",
     "output_type": "stream",
     "text": [
      "Stopping early, the loss has diverged\n",
      "Learning rate search finished. See the graph with {finder_name}.plot()\n",
      "📈  Suggested max_lr (lr_peak) ≈ 1.83e-05\n",
      "📈  Suggested max_lr (lr_peak) ≈ 1.83e-05\n",
      "authomatic learning rate, disregarding suggestion in the config\n",
      "hardcoding lr_best\n"
     ]
    },
    {
     "name": "stderr",
     "output_type": "stream",
     "text": [
      "\u001b[34m\u001b[1mwandb\u001b[0m: \u001b[32m\u001b[41mERROR\u001b[0m Failed to detect the name of this notebook. You can set it manually with the WANDB_NOTEBOOK_NAME environment variable to enable code saving.\n",
      "\u001b[34m\u001b[1mwandb\u001b[0m: Currently logged in as: \u001b[33mfrancescocitterio99\u001b[0m (\u001b[33mfrancescocitterio99-max-planck-society\u001b[0m) to \u001b[32mhttps://api.wandb.ai\u001b[0m. Use \u001b[1m`wandb login --relogin`\u001b[0m to force relogin\n"
     ]
    },
    {
     "data": {
      "text/html": [
       "Tracking run with wandb version 0.19.11"
      ],
      "text/plain": [
       "<IPython.core.display.HTML object>"
      ]
     },
     "metadata": {},
     "output_type": "display_data"
    },
    {
     "data": {
      "text/html": [
       "Run data is saved locally in <code>/raven/u/fcitterio/master_thesis_code/notebooks/training_some_classifiers/wandb/run-20250519_000310-v8if6tec</code>"
      ],
      "text/plain": [
       "<IPython.core.display.HTML object>"
      ]
     },
     "metadata": {},
     "output_type": "display_data"
    },
    {
     "data": {
      "text/html": [
       "Syncing run <strong><a href='https://wandb.ai/francescocitterio99-max-planck-society/SimpleResnetWithNoise20/runs/v8if6tec' target=\"_blank\">classic-water-13</a></strong> to <a href='https://wandb.ai/francescocitterio99-max-planck-society/SimpleResnetWithNoise20' target=\"_blank\">Weights & Biases</a> (<a href='https://wandb.me/developer-guide' target=\"_blank\">docs</a>)<br>"
      ],
      "text/plain": [
       "<IPython.core.display.HTML object>"
      ]
     },
     "metadata": {},
     "output_type": "display_data"
    },
    {
     "data": {
      "text/html": [
       " View project at <a href='https://wandb.ai/francescocitterio99-max-planck-society/SimpleResnetWithNoise20' target=\"_blank\">https://wandb.ai/francescocitterio99-max-planck-society/SimpleResnetWithNoise20</a>"
      ],
      "text/plain": [
       "<IPython.core.display.HTML object>"
      ]
     },
     "metadata": {},
     "output_type": "display_data"
    },
    {
     "data": {
      "text/html": [
       " View run at <a href='https://wandb.ai/francescocitterio99-max-planck-society/SimpleResnetWithNoise20/runs/v8if6tec' target=\"_blank\">https://wandb.ai/francescocitterio99-max-planck-society/SimpleResnetWithNoise20/runs/v8if6tec</a>"
      ],
      "text/plain": [
       "<IPython.core.display.HTML object>"
      ]
     },
     "metadata": {},
     "output_type": "display_data"
    },
    {
     "name": "stdout",
     "output_type": "stream",
     "text": [
      "Tracked catalogs: ['conor_similar_cat_min_10e11_val_no_shear_small', 'conor_similar_cat_min_10e11_val_no_shear_small', 'conor_similar_cat_min_10e11_train_no_shear_small_medium_less_conc.json', 'conor_similar_cat_min_10e11_val_no_shear_small_medium_less_conc.json', 'conor_similar_cat_min_10e11_train_small.json', 'conor_similar_cat_min_10e11_val.json', 'conor_similar_cat_min_10e11_train_no_shear_big.json', 'conor_similar_cat_min_10e11_val_no_shear_small.json', 'conor_similar_cat_min_10e11_train_cornor_like_rigorous_small', 'conor_similar_cat_min_10e11_val_cornor_like_rigorous', 'conor_similar_cat_min_10e11_train_cornor_like_rigorous_big', 'conor_similar_cat_min_10e10_train_cornor_like_rigorous_big', 'conor_similar_cat_min_10e10_val_cornor_like_rigorous']\n"
     ]
    },
    {
     "data": {
      "application/vnd.jupyter.widget-view+json": {
       "model_id": "347424847b52454a94cea02d712e7762",
       "version_major": 2,
       "version_minor": 0
      },
      "text/plain": [
       "Epoch 1/2:   0%|          | 0/977 [00:00<?, ?batch/s]"
      ]
     },
     "metadata": {},
     "output_type": "display_data"
    },
    {
     "name": "stdout",
     "output_type": "stream",
     "text": [
      "Training_loss= 0.6918388605117798, Validation_loss=0.6894545822143555\n",
      "New best validation loss: 0.689455\n",
      "Training_loss= 0.6873763915896416, Validation_loss=0.7685686445236206\n",
      "Training_loss= 0.6829586452245713, Validation_loss=0.6819338474273682\n",
      "New best validation loss: 0.681934\n",
      "Training_loss= 0.681816673874855, Validation_loss=0.7217601881027221\n",
      "Training_loss= 0.6806550624966622, Validation_loss=0.6783746500015259\n",
      "New best validation loss: 0.678375\n"
     ]
    },
    {
     "data": {
      "application/vnd.jupyter.widget-view+json": {
       "model_id": "104766fd14944475b565507db797dba3",
       "version_major": 2,
       "version_minor": 0
      },
      "text/plain": [
       "Epoch 2/2:   0%|          | 0/977 [00:00<?, ?batch/s]"
      ]
     },
     "metadata": {},
     "output_type": "display_data"
    },
    {
     "name": "stdout",
     "output_type": "stream",
     "text": [
      "Training_loss= 0.6807526734471321, Validation_loss=0.7516312446594239\n",
      "Training_loss= 0.6806187614798546, Validation_loss=0.698197765827179\n",
      "Training_loss= 0.6806246066093444, Validation_loss=0.6818804836273193\n",
      "Training_loss= 0.6811575305461883, Validation_loss=0.6813880128860473\n",
      "Training_loss= 0.6805205792188644, Validation_loss=0.6807586574554443\n"
     ]
    }
   ],
   "source": [
    "from substructure_classifier.training_stage_development import Stage\n",
    "from substructure_classifier.substructure_classifier_development import SubstructureClassifier\n",
    "\n",
    "\n",
    "example_config=Stage.get_example_config(return_config=True)\n",
    "my_classifier=SubstructureClassifier(\"SimpleResnetWithNoise20\")\n",
    "\n",
    "example_config[\"training_catalog\"]=\"conor_similar_cat_min_10e10_train_cornor_like_rigorous_big\"\n",
    "example_config[\"validation_like_train_catalog\"]=\"conor_similar_cat_min_10e10_val_cornor_like_rigorous\"\n",
    "example_config[\"dataset_class_str\"]=\"SingleTelescopeNoiseDataset\"\n",
    "example_config[\"dataset_config\"]={\n",
    "        \"grid_width_arcsec\":6.0,\n",
    "        \"grid_pixel_side\":100,\n",
    "        \"broadcasting\":True,\n",
    "        \"sky_level\":0.01,\n",
    "        \"kernel_size\":5,\n",
    "        \"kernel_sigma\":1.0,\n",
    "        \"gain\":100.0,\n",
    "        \"final_transform\": True\n",
    "}\n",
    "\n",
    "\n",
    "example_config[\"samples_used_for_training\"]=1000000\n",
    "example_config[\"samples_used_for_validation\"]=2000\n",
    "example_config[\"batch_size\"]=1024\n",
    "example_config[\"jump_batch_val\"]=200\n",
    "example_config[\"learning_rate\"]=0.001\n",
    "example_config[\"epochs\"]=2\n",
    "my_stage=Stage(classifier_instance=my_classifier, config=example_config, device=\"cuda\")\n",
    "\n",
    "my_stage.train(train_ready=True, early_stopping=False)"
   ]
  },
  {
   "cell_type": "code",
   "execution_count": null,
   "metadata": {},
   "outputs": [],
   "source": [
    "example_config=Stage.get_example_config(return_config=True)\n",
    "my_classifier=SubstructureClassifier(\"SimpleResnetWithNoise1\")\n",
    "\n",
    "example_config[\"training_catalog\"]=\"conor_similar_cat_min_10e10_train_small.json\"\n",
    "example_config[\"validation_like_train_catalog\"]=\"conor_similar_cat_min_10e10_val.json\"\n",
    "example_config[\"dataset_class_str\"]=\"SingleTelescopeNoiseDataset\"\n",
    "example_config[\"dataset_config\"]={\n",
    "        \"grid_width_arcsec\":8.0,\n",
    "        \"grid_pixel_side\":100,\n",
    "        \"broadcasting\":False,\n",
    "        \"sky_level\":0.05,\n",
    "        \"kernel_size\":5,\n",
    "        \"kernel_sigma\":1.0,\n",
    "        \"gain\":100.0,\n",
    "        \"final_transform\": True\n",
    "}\n",
    "\n",
    "\n",
    "example_config[\"samples_used_for_training\"]=100000\n",
    "example_config[\"samples_used_for_validation\"]=3000\n",
    "example_config[\"batch_size\"]=1024\n",
    "example_config[\"jump_batch_val\"]=50\n",
    "example_config[\"learning_rate\"]=0.00001\n",
    "example_config[\"epochs\"]=5\n",
    "my_stage=Stage(classifier_instance=my_classifier, config=example_config, device=\"cuda\")\n",
    "\n",
    "my_stage.train(train_ready=True, early_stopping=True)"
   ]
  },
  {
   "cell_type": "code",
   "execution_count": null,
   "metadata": {},
   "outputs": [],
   "source": [
    "example_config=Stage.get_example_config(return_config=True)\n",
    "my_classifier=SubstructureClassifier(\"SimpleResnetWithNoise1\")\n",
    "\n",
    "example_config[\"training_catalog\"]=\"conor_similar_cat_min_10e10_train_small.json\"\n",
    "example_config[\"validation_like_train_catalog\"]=\"conor_similar_cat_min_10e10_val.json\"\n",
    "example_config[\"dataset_class_str\"]=\"SingleTelescopeNoiseDataset\"\n",
    "example_config[\"dataset_config\"]={\n",
    "        \"grid_width_arcsec\":8.0,\n",
    "        \"grid_pixel_side\":100,\n",
    "        \"broadcasting\":False,\n",
    "        \"sky_level\":0.05,\n",
    "        \"kernel_size\":5,\n",
    "        \"kernel_sigma\":1.0,\n",
    "        \"gain\":100.0,\n",
    "        \"final_transform\": True\n",
    "}\n",
    "\n",
    "\n",
    "example_config[\"samples_used_for_training\"]=100000\n",
    "example_config[\"samples_used_for_validation\"]=3000\n",
    "example_config[\"batch_size\"]=1024\n",
    "example_config[\"jump_batch_val\"]=50\n",
    "example_config[\"learning_rate\"]=0.000001\n",
    "example_config[\"epochs\"]=5\n",
    "my_stage=Stage(classifier_instance=my_classifier, config=example_config, device=\"cuda\")\n",
    "\n",
    "my_stage.train(train_ready=True, early_stopping=True)"
   ]
  },
  {
   "cell_type": "code",
   "execution_count": null,
   "metadata": {},
   "outputs": [],
   "source": [
    "example_config=Stage.get_example_config(return_config=True)\n",
    "my_classifier=SubstructureClassifier(\"SimpleResnetWithNoise1\")\n",
    "\n",
    "example_config[\"training_catalog\"]=\"conor_similar_cat_min_10e9_train_small.json\"\n",
    "example_config[\"validation_like_train_catalog\"]=\"conor_similar_cat_min_10e9_val.json\"\n",
    "example_config[\"dataset_class_str\"]=\"SingleTelescopeNoiseDataset\"\n",
    "example_config[\"dataset_config\"]={\n",
    "        \"grid_width_arcsec\":8.0,\n",
    "        \"grid_pixel_side\":100,\n",
    "        \"broadcasting\":False,\n",
    "        \"sky_level\":0.05,\n",
    "        \"kernel_size\":5,\n",
    "        \"kernel_sigma\":1.0,\n",
    "        \"gain\":100.0,\n",
    "        \"final_transform\": True\n",
    "}\n",
    "\n",
    "\n",
    "example_config[\"samples_used_for_training\"]=100000\n",
    "example_config[\"samples_used_for_validation\"]=3000\n",
    "example_config[\"batch_size\"]=1024\n",
    "example_config[\"jump_batch_val\"]=50\n",
    "example_config[\"learning_rate\"]=0.0001\n",
    "example_config[\"epochs\"]=5\n",
    "my_stage=Stage(classifier_instance=my_classifier, config=example_config, device=\"cuda\")\n",
    "\n",
    "my_stage.train(train_ready=True, early_stopping=True)\n",
    "\n",
    "example_config=Stage.get_example_config(return_config=True)\n",
    "\n",
    "my_classifier=SubstructureClassifier(\"SimpleResnetWithNoise1\")\n",
    "\n",
    "example_config[\"training_catalog\"]=\"conor_similar_cat_min_10e9_train_small.json\"\n",
    "example_config[\"validation_like_train_catalog\"]=\"conor_similar_cat_min_10e9_val.json\"\n",
    "example_config[\"dataset_class_str\"]=\"SingleTelescopeNoiseDataset\"\n",
    "example_config[\"dataset_config\"]={\n",
    "        \"grid_width_arcsec\":8.0,\n",
    "        \"grid_pixel_side\":100,\n",
    "        \"broadcasting\":False,\n",
    "        \"sky_level\":0.05,\n",
    "        \"kernel_size\":5,\n",
    "        \"kernel_sigma\":1.0,\n",
    "        \"gain\":100.0,\n",
    "        \"final_transform\": True\n",
    "}\n",
    "\n",
    "\n",
    "example_config[\"samples_used_for_training\"]=100000\n",
    "example_config[\"samples_used_for_validation\"]=1000\n",
    "example_config[\"batch_size\"]=1024\n",
    "example_config[\"jump_batch_val\"]=50\n",
    "example_config[\"learning_rate\"]=0.00001\n",
    "example_config[\"epochs\"]=5\n",
    "my_stage=Stage(classifier_instance=my_classifier, config=example_config, device=\"cuda\")\n",
    "\n",
    "my_stage.train(train_ready=True, early_stopping=True)"
   ]
  },
  {
   "cell_type": "code",
   "execution_count": null,
   "metadata": {},
   "outputs": [],
   "source": [
    "example_config=Stage.get_example_config(return_config=True)\n",
    "my_classifier=SubstructureClassifier(\"SimpleResnetWithNoise1\")\n",
    "\n",
    "example_config[\"training_catalog\"]=\"conor_similar_cat_train_small\"\n",
    "example_config[\"validation_like_train_catalog\"]=\"conor_similar_cat_val\"\n",
    "example_config[\"dataset_class_str\"]=\"SingleTelescopeNoiseDataset\"\n",
    "example_config[\"dataset_config\"]={\n",
    "        \"grid_width_arcsec\":8.0,\n",
    "        \"grid_pixel_side\":100,\n",
    "        \"broadcasting\":False,\n",
    "        \"sky_level\":0.05,\n",
    "        \"kernel_size\":5,\n",
    "        \"kernel_sigma\":1.0,\n",
    "        \"gain\":100.0,\n",
    "        \"final_transform\": True\n",
    "}\n",
    "\n",
    "\n",
    "example_config[\"samples_used_for_training\"]=100000\n",
    "example_config[\"samples_used_for_validation\"]=3000\n",
    "example_config[\"batch_size\"]=1024\n",
    "example_config[\"jump_batch_val\"]=50\n",
    "example_config[\"learning_rate\"]=0.0001\n",
    "example_config[\"epochs\"]=5\n",
    "my_stage=Stage(classifier_instance=my_classifier, config=example_config, device=\"cuda\")\n",
    "\n",
    "my_stage.train(train_ready=True, early_stopping=True)"
   ]
  },
  {
   "cell_type": "code",
   "execution_count": null,
   "metadata": {},
   "outputs": [],
   "source": [
    "from substructure_classifier.training_stage_development import Stage\n",
    "from substructure_classifier.substructure_classifier_development import SubstructureClassifier\n",
    "\n",
    "example_config=Stage.get_example_config(return_config=True)\n",
    "\n",
    "my_classifier=SubstructureClassifier(\"SimpleResnetWithNoise1\")\n",
    "\n",
    "example_config[\"training_catalog\"]=\"conor_similar_cat_min_10e9_train_small.json\"\n",
    "example_config[\"validation_like_train_catalog\"]=\"conor_similar_cat_min_10e9_val.json\"\n",
    "example_config[\"dataset_class_str\"]=\"SingleTelescopeNoiseDataset\"\n",
    "example_config[\"dataset_config\"]={\n",
    "        \"grid_width_arcsec\":8.0,\n",
    "        \"grid_pixel_side\":100,\n",
    "        \"broadcasting\":False,\n",
    "        \"sky_level\":0.01,\n",
    "        \"kernel_size\":5,\n",
    "        \"kernel_sigma\":0.8,\n",
    "        \"gain\":1000.0,\n",
    "        \"final_transform\": True,\n",
    "        \"broadcasting\":True\n",
    "}\n",
    "\n",
    "\n",
    "example_config[\"samples_used_for_training\"]=100000\n",
    "example_config[\"samples_used_for_validation\"]=2000\n",
    "example_config[\"batch_size\"]=1024\n",
    "example_config[\"jump_batch_val\"]=10\n",
    "example_config[\"learning_rate\"]=0.000001\n",
    "example_config[\"epochs\"]=5\n",
    "my_stage=Stage(classifier_instance=my_classifier, config=example_config, device=\"cuda\")\n",
    "\n",
    "my_stage.train(train_ready=True, early_stopping=True)"
   ]
  },
  {
   "cell_type": "code",
   "execution_count": null,
   "metadata": {},
   "outputs": [],
   "source": []
  },
  {
   "cell_type": "code",
   "execution_count": null,
   "metadata": {},
   "outputs": [],
   "source": []
  }
 ],
 "metadata": {
  "kernelspec": {
   "display_name": "My HPC Python",
   "language": "python",
   "name": "python3"
  },
  "language_info": {
   "codemirror_mode": {
    "name": "ipython",
    "version": 3
   },
   "file_extension": ".py",
   "mimetype": "text/x-python",
   "name": "python",
   "nbconvert_exporter": "python",
   "pygments_lexer": "ipython3",
   "version": "3.9.7"
  }
 },
 "nbformat": 4,
 "nbformat_minor": 4
}

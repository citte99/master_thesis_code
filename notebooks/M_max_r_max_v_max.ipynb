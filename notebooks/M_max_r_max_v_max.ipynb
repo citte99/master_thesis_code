{
 "cells": [
  {
   "cell_type": "code",
   "execution_count": 3,
   "id": "6e0b130c-fbd2-4587-a21a-bcf25116a6d8",
   "metadata": {},
   "outputs": [],
   "source": [
    "import numpy as np\n",
    "from astropy import units as u\n",
    "\n"
   ]
  },
  {
   "cell_type": "markdown",
   "id": "912a94ad-f6b8-4f85-a9a3-eec11b6fa7cb",
   "metadata": {},
   "source": [
    "$$ \\rho_s= \\left( \\frac{10 \\mathrm{kms^{-1}}}   {1.64 \\sqrt{G}} \\left( r_s^{1-B}\\frac{2.164}{A}\\right)^{1/B}  \\right)^2 $$"
   ]
  },
  {
   "cell_type": "code",
   "execution_count": 4,
   "id": "93eeeca8-6322-44f4-b29d-07c59e2522b3",
   "metadata": {},
   "outputs": [],
   "source": [
    "\n",
    "\n",
    "#r_s=g(rho_s)\n",
    "# def g(rho_s):\n",
    "#     A=0.344*u.kpc #kpc\n",
    "#     B=1.607\n",
    "    \n",
    "#     rho_s=rho_s.to(u.M_sun/u.kpc**3)\n",
    "    \n",
    "#     from astropy.constants import G\n",
    "\n",
    "#     G=G.to(u.kpc**3/u.M_sun*u.s**(-2))\n",
    "#     \"\"\"\n",
    "#     taking G in same units of rho, we get \n",
    "#     1.64*smth*s^{-1}/10*km*s^{-1}\n",
    "    \n",
    "#     so \n",
    "#     1.64*smth /10*km\n",
    "    \n",
    "#     need to convert them to kpc\n",
    "    \n",
    "#     10 km= 3.2408e-16 kpc\n",
    "\n",
    "#     \"\"\"\n",
    "    \n",
    "    \n",
    "    \n",
    "    \n",
    "#     r_s=((A/2.164)*(1.64*np.sqrt(G*rho_s)/(3.2408e-16*u.kpc*u.s**(-1)))**B)**(1/(1-B)) #in kpc\n",
    "#     return(r_s)\n",
    "\n",
    "\n",
    "\n",
    "#M_max=f(r_s, rho_s)\n",
    "def f(r_s, rho_s):\n",
    "    r_max=2.163*r_s\n",
    "   \n",
    "    result=4*np.pi*rho_s*r_s**3*(np.log(r_max/r_s+1)+1/(r_max/r_s+1)-1)\n",
    "    return result\n",
    "\n",
    "\n",
    "\n",
    "def get_rho_s(r_s):\n",
    "    A=0.344*u.kpc #kpc\n",
    "    B=1.607\n",
    "    \n",
    "    from astropy.constants import G\n",
    "\n",
    "    G=G.to(u.kpc**3/u.M_sun*u.s**(-2))\n",
    "\n",
    "    rho_s=(10* u.km/u.s/1.64/np.sqrt(G)   *(r_s**(1-B)*2.163/A)**(1/B))**2\n",
    "    return rho_s\n",
    "\n",
    "def get_M_max(r_max):\n",
    "    r_s=r_max/2.163\n",
    "    rho_s=get_rho_s(r_s)\n",
    "        \n",
    "    return f(r_s, rho_s).to(u.M_sun)\n",
    "\n",
    "\n",
    "\n",
    "    "
   ]
  },
  {
   "cell_type": "code",
   "execution_count": 10,
   "id": "b710f14d-00ec-4a7d-9490-a97cc211c5e4",
   "metadata": {},
   "outputs": [
    {
     "name": "stdout",
     "output_type": "stream",
     "text": [
      "10^8.583513851241303 solMass\n"
     ]
    }
   ],
   "source": [
    "r_max=1.92*u.kpc\n",
    "\n",
    "M_max=get_M_max(r_max)\n",
    "\n",
    "print(f\"10^{np.log10(M_max.value)} {M_max.unit}\")"
   ]
  },
  {
   "cell_type": "code",
   "execution_count": 6,
   "id": "067df95e-65f7-4d29-ac0d-70aa0cecfbf5",
   "metadata": {},
   "outputs": [],
   "source": [
    "# I want r_max of M_max\n",
    "\n",
    "\n",
    "def get_r_max(M_max):\n",
    "    A=0.344*u.kpc #kpc\n",
    "    B=1.607\n",
    "    \n",
    "    const_1=(np.log(2.163+1.)+1/(2.163+1)-1)*4*np.pi\n",
    "    \n",
    "    print(const_1)\n",
    "    \n",
    "    from astropy.constants import G\n",
    "    G=G.to(u.kpc**3/u.M_sun*u.s**(-2))\n",
    "    \n",
    "    const_2=(    10* u.km/u.s     /1.64/np.sqrt(G)   *(2.163/A)**(1/B)    )**2\n",
    "    print(const_2)\n",
    "    \n",
    "    \n",
    "    r_s=((M_max/const_1/const_2).to(u.kpc**(1 + 2/B)))**(B/(B+2))\n",
    "    \n",
    "    r_max=2.163*r_s\n",
    "    \n",
    "    return r_max.to(u.kpc)\n"
   ]
  },
  {
   "cell_type": "code",
   "execution_count": 12,
   "id": "9abd451d-fa98-4f4f-af36-91218c5929dc",
   "metadata": {},
   "outputs": [
    {
     "name": "stdout",
     "output_type": "stream",
     "text": [
      "5.876996136819376\n",
      "8.113853027931325e+40 km2 solMass / kpc(4.2445550715619165)\n"
     ]
    }
   ],
   "source": [
    "r_max_1=get_r_max(M_max=10**7.4*u.M_sun)"
   ]
  },
  {
   "cell_type": "code",
   "execution_count": 13,
   "id": "a48b3aa8-ef1d-4ce4-97d6-950775e3e8d6",
   "metadata": {},
   "outputs": [
    {
     "name": "stdout",
     "output_type": "stream",
     "text": [
      "0.5701893043631179 kpc\n"
     ]
    }
   ],
   "source": [
    "print(r_max_1)"
   ]
  },
  {
   "cell_type": "code",
   "execution_count": 7,
   "id": "b9e5850a-b5c0-4b82-9c70-cdffc133753a",
   "metadata": {},
   "outputs": [],
   "source": [
    "from shared_utils import units\n",
    "def get_r_max_from_M_max(M_max):\n",
    "            const=2.16258\n",
    "            A=0.344 #kpc\n",
    "            B=1.607\n",
    "            v_max=((1/const)*units.G/A*10**B*M_max)**(1/(B+2))#in km/s\n",
    "            r_max=A*(v_max/10)**B #in kpc\n",
    "            return r_max\n"
   ]
  },
  {
   "cell_type": "code",
   "execution_count": 8,
   "id": "0873f30e-c76d-4877-8119-6e0f80743f0e",
   "metadata": {},
   "outputs": [
    {
     "name": "stdout",
     "output_type": "stream",
     "text": [
      "0.40620631929470236\n"
     ]
    }
   ],
   "source": [
    "r_max=get_r_max_from_M_max(10**7.4)\n",
    "print(r_max)"
   ]
  },
  {
   "cell_type": "code",
   "execution_count": null,
   "id": "7951c996-fa07-438f-b2ef-82f59cf5e233",
   "metadata": {},
   "outputs": [],
   "source": []
  }
 ],
 "metadata": {
  "kernelspec": {
   "display_name": "My HPC Python",
   "language": "python",
   "name": "python3"
  },
  "language_info": {
   "codemirror_mode": {
    "name": "ipython",
    "version": 3
   },
   "file_extension": ".py",
   "mimetype": "text/x-python",
   "name": "python",
   "nbconvert_exporter": "python",
   "pygments_lexer": "ipython3",
   "version": "3.10.9"
  }
 },
 "nbformat": 4,
 "nbformat_minor": 5
}

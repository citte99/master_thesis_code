{
 "cells": [
  {
   "cell_type": "code",
   "execution_count": 4,
   "id": "bd6c9fff-3089-4469-9df8-d25e9f04fe93",
   "metadata": {},
   "outputs": [],
   "source": [
    "import json\n",
    "import torch\n",
    "from collections import defaultdict\n",
    "from pathlib import Path\n",
    "\n",
    "def build_flat_catalog(json_path: str, output_path: str):\n",
    "    \"\"\"\n",
    "    Read a JSON catalog of lensing systems and write out a \"flat\" binary file\n",
    "    with pre-stacked tensors for:\n",
    "     - precomputed quantities (one row per system)\n",
    "     - each mass-component type (rows of [sys_idx, *params]\n",
    "     - each source-model type (rows of [sys_idx, *params])\n",
    "    Also emits a small `param_map` per component/source type to decode columns.\n",
    "\n",
    "    Args:\n",
    "        json_path: path to the input JSON file (dict with key \"SL_systems\")\n",
    "        output_path: path where to save the flat catalog (.pt)\n",
    "    \"\"\"\n",
    "    # Load JSON\n",
    "    with open(json_path, 'r') as f:\n",
    "        catalog = json.load(f)\n",
    "    systems = catalog.get(\"SL_systems\", [])\n",
    "\n",
    "    # Containers\n",
    "    \n",
    "    #For this one, differently form the following ones, there are not multiple tipes: we do not need default dict.\n",
    "    #Also, here one row corresponds to one index, but for uniformity with following structures we write it like this.\n",
    "    precomp_rows = {'sys_idxs': [], 'param_rows': []}\n",
    "    \n",
    "    #default dict: mass_data[\"type\"] does not exist beforehand, but this way it gets created authomatically when called\n",
    "    mass_data = defaultdict(lambda: {'sys_idxs': [], 'param_rows': []})\n",
    "    \n",
    "    \n",
    "    #This way we are able to deal eventually with multiple sources\n",
    "    source_data = defaultdict(lambda: {'sys_idxs': [], 'param_rows': []})\n",
    "\n",
    "    # Define param order maps\n",
    "    \n",
    "    \n",
    "    precomp_map = ['D_l', 'D_s', 'D_ls', 'Theta_E']\n",
    "    \n",
    "#NOTE: These should be externalized.\n",
    "    mass_param_map = {\n",
    "        'SIS': ['pos_x','pos_y','redshift','vel_disp'],\n",
    "        'NFW': ['pos_x', 'pos_y','mass_max','r_max_kpc','redshift'],\n",
    "        'ExternalPotential': ['shear_x','shear_y','shear_strength','shear_angle_arcsec'],\n",
    "        'PEMD': ['pos_x', 'pos_y', 'redshift', 'vel_disp', 'slope', 'orient', 'q']\n",
    "\n",
    "    }\n",
    "    \n",
    "    \n",
    "    \n",
    "    source_param_map = {\n",
    "        'Gaussian_blob': ['I','position_rad_x', 'position_rad_y' ,'orient_rad','q','std_kpc','redshift'],\n",
    "        # add other source types here\n",
    "    }\n",
    "\n",
    "    # Loop systems\n",
    "    for sys in systems:\n",
    "        i = sys['system_index']\n",
    "        # precomputed\n",
    "        pre = sys['precomputed']\n",
    "        precomp_rows[\"sys_idxs\"].append(i)\n",
    "        \n",
    "        row=[]\n",
    "        for precomp_quant in precomp_map:\n",
    "            row.append(pre[precomp_quant])\n",
    "        precomp_rows[\"param_rows\"].append(row)\n",
    "\n",
    "        \n",
    "\n",
    "         # mass components\n",
    "        for mc in sys['lens_model'].get('mass_components', []):\n",
    "            mtype  = mc['type']\n",
    "            params = mc['params']\n",
    "\n",
    "            # 1) pull out all non-position params in order\n",
    "            nonpos = []\n",
    "            for key in mass_param_map[mtype]:\n",
    "                if key not in ('pos_x', 'pos_y', 'shear_x', 'shear_y'):\n",
    "                    nonpos.append(params[key][0] if isinstance(params[key], (list, tuple)) and len(params[key]) == 1 else params[key])\n",
    "\n",
    "\n",
    "\n",
    "            # 2) build your final row as [pos_x, pos_y, *nonpos]\n",
    "            # check if the key pos exists in the params dictionary\n",
    "            if 'pos' in params:\n",
    "                row = [params['pos'][0], params['pos'][1], *nonpos]\n",
    "\n",
    "            elif 'shear_center' in params:\n",
    "                row = [params['shear_center'][0], params['shear_center'][1], *nonpos]\n",
    "            # store it\n",
    "            mass_data[mtype]['sys_idxs'].append(i)\n",
    "            mass_data[mtype]['param_rows'].append(row)\n",
    "\n",
    "        # source models\n",
    "        sm = sys['source_model']\n",
    "        source_type = sm['type']\n",
    "        params = sm['params']\n",
    "       \n",
    "            \n",
    "        nonpos = []\n",
    "        for key in source_param_map[source_type]:\n",
    "            if key not in ('position_rad_x', 'position_rad_y'):\n",
    "                nonpos.append(params[key][0] if isinstance(params[key], (list, tuple)) and len(params[key]) == 1 else params[key])\n",
    "\n",
    "        # 2) build your final row as [pos_x, pos_y, *nonpos]\n",
    "            \n",
    "        row = [params['position_rad'][0], params['position_rad'][0], *nonpos]\n",
    "            \n",
    "        source_data[source_type]['sys_idxs'].append(i)\n",
    "        source_data[source_type]['param_rows'].append(row)\n",
    "\n",
    "    \n",
    "    \n",
    "    # Convert to tensors\n",
    "    flat = {\n",
    "        'precomputed': {},\n",
    "        'mass_components': {},\n",
    "        'source_models': {}\n",
    "    }\n",
    "\n",
    "    # Precomputed quantities — mirror the mass/source pattern\n",
    "    pc_idxs = torch.tensor(precomp_rows['sys_idxs'], dtype=torch.long)\n",
    "    pc_vals = torch.tensor(precomp_rows['param_rows'], dtype=torch.float32)\n",
    "    flat['precomputed'] = {\n",
    "        'sys_idx':   pc_idxs,\n",
    "        'params':    pc_vals,\n",
    "        'param_map': precomp_map\n",
    "    }\n",
    "\n",
    "    # Mass components\n",
    "    for mtype, dat in mass_data.items():\n",
    "        idxs = torch.tensor(dat['sys_idxs'], dtype=torch.long)\n",
    "        rows = torch.tensor(dat['param_rows'], dtype=torch.float32)\n",
    "        flat['mass_components'][mtype] = {\n",
    "            'sys_idx':   idxs,\n",
    "            'params':    rows,\n",
    "            'param_map': mass_param_map[mtype]\n",
    "        }\n",
    "\n",
    "    # Source models\n",
    "    for stype, dat in source_data.items():\n",
    "        idxs = torch.tensor(dat['sys_idxs'], dtype=torch.long)\n",
    "        rows = torch.tensor(dat['param_rows'], dtype=torch.float32)\n",
    "        flat['source_models'][stype] = {\n",
    "            'sys_idx':   idxs,\n",
    "            'params':    rows,\n",
    "            'param_map': source_param_map[stype]\n",
    "        }\n",
    "\n",
    "    # Save\n",
    "    torch.save(flat, Path(output_path))\n",
    "    print(f\"Flat catalog written to {output_path}\")\n",
    "\n",
    "\n"
   ]
  },
  {
   "cell_type": "code",
   "execution_count": 5,
   "id": "eb4fcb05-e013-42ad-b1f1-e4946ad55822",
   "metadata": {},
   "outputs": [
    {
     "name": "stdout",
     "output_type": "stream",
     "text": [
      "Flat catalog written to ../../catalogs/test4_pemd.pth\n"
     ]
    }
   ],
   "source": [
    "\n",
    "json_path2=\"../../catalogs/test4_pemd.json\"\n",
    "output_path2=\"../../catalogs/test4_pemd.pth\"\n",
    "\n",
    "build_flat_catalog(json_path2, output_path2)\n",
    "\n"
   ]
  },
  {
   "cell_type": "code",
   "execution_count": 15,
   "id": "f2a880b7-9050-42a3-8aa3-25d6c898d2a2",
   "metadata": {},
   "outputs": [],
   "source": [
    "\n",
    "# Cell 1: imports & load\n",
    "import torch\n",
    "import pandas as pd\n",
    "import matplotlib.pyplot as plt\n",
    "\n",
    "# adjust this path as needed\n",
    "catalog_path = \"../../catalogs/something_with_shear.pth\"\n",
    "flat = torch.load(catalog_path)\n"
   ]
  },
  {
   "cell_type": "code",
   "execution_count": 16,
   "id": "27c2fbe6-9760-493e-963f-bf3f8aa092c7",
   "metadata": {},
   "outputs": [],
   "source": [
    "# Cell 2: build precomputed DataFrame\n",
    "pre = flat['precomputed']\n",
    "# params is a [N, K] tensor and param_map lists column names\n",
    "params = pre['params'].numpy()\n",
    "columns = pre['param_map']\n",
    "df_pre = pd.DataFrame(params, columns=columns)\n",
    "df_pre['sys_idx'] = pre['sys_idx'].numpy()\n",
    "\n"
   ]
  },
  {
   "cell_type": "code",
   "execution_count": 17,
   "id": "2f7c9be4-7779-4860-8c96-18556969d8ed",
   "metadata": {},
   "outputs": [],
   "source": [
    "# Cell 3: build one DataFrame per mass‐component type\n",
    "df_mass = {}\n",
    "for mtype, dat in flat['mass_components'].items():\n",
    "    cols = dat['param_map']\n",
    "    arr  = dat['params'].numpy()\n",
    "    df    = pd.DataFrame(arr, columns=cols)\n",
    "    df['sys_idx'] = dat['sys_idx'].numpy()\n",
    "    df_mass[mtype] = df\n"
   ]
  },
  {
   "cell_type": "code",
   "execution_count": 18,
   "id": "0aab2ba8-9c5f-4a39-ba77-edacdd58ef56",
   "metadata": {},
   "outputs": [],
   "source": [
    "# Cell 4: build one DataFrame per source‐model type\n",
    "df_src = {}\n",
    "for stype, dat in flat['source_models'].items():\n",
    "    cols = dat['param_map']\n",
    "    arr  = dat['params'].numpy()\n",
    "    df    = pd.DataFrame(arr, columns=cols)\n",
    "    df['sys_idx'] = dat['sys_idx'].numpy()\n",
    "    df_src[stype] = df\n"
   ]
  },
  {
   "cell_type": "code",
   "execution_count": 19,
   "id": "72477971-7d17-4d7d-9ef5-8303b02885c1",
   "metadata": {},
   "outputs": [
    {
     "name": "stdout",
     "output_type": "stream",
     "text": [
      "Precomputed:\n"
     ]
    },
    {
     "data": {
      "text/html": [
       "<div>\n",
       "<style scoped>\n",
       "    .dataframe tbody tr th:only-of-type {\n",
       "        vertical-align: middle;\n",
       "    }\n",
       "\n",
       "    .dataframe tbody tr th {\n",
       "        vertical-align: top;\n",
       "    }\n",
       "\n",
       "    .dataframe thead th {\n",
       "        text-align: right;\n",
       "    }\n",
       "</style>\n",
       "<table border=\"1\" class=\"dataframe\">\n",
       "  <thead>\n",
       "    <tr style=\"text-align: right;\">\n",
       "      <th></th>\n",
       "      <th>D_l</th>\n",
       "      <th>D_s</th>\n",
       "      <th>D_ls</th>\n",
       "      <th>Theta_E</th>\n",
       "      <th>sys_idx</th>\n",
       "    </tr>\n",
       "  </thead>\n",
       "  <tbody>\n",
       "    <tr>\n",
       "      <th>0</th>\n",
       "      <td>1725.993042</td>\n",
       "      <td>1491.569580</td>\n",
       "      <td>749.155457</td>\n",
       "      <td>0.000010</td>\n",
       "      <td>0</td>\n",
       "    </tr>\n",
       "    <tr>\n",
       "      <th>1</th>\n",
       "      <td>1522.398926</td>\n",
       "      <td>1546.743530</td>\n",
       "      <td>967.987793</td>\n",
       "      <td>0.000011</td>\n",
       "      <td>1</td>\n",
       "    </tr>\n",
       "    <tr>\n",
       "      <th>2</th>\n",
       "      <td>1783.760376</td>\n",
       "      <td>1211.701416</td>\n",
       "      <td>482.794739</td>\n",
       "      <td>0.000004</td>\n",
       "      <td>2</td>\n",
       "    </tr>\n",
       "    <tr>\n",
       "      <th>3</th>\n",
       "      <td>1751.351562</td>\n",
       "      <td>1507.346802</td>\n",
       "      <td>702.932068</td>\n",
       "      <td>0.000009</td>\n",
       "      <td>3</td>\n",
       "    </tr>\n",
       "    <tr>\n",
       "      <th>4</th>\n",
       "      <td>1652.031982</td>\n",
       "      <td>1280.655884</td>\n",
       "      <td>280.772156</td>\n",
       "      <td>0.000005</td>\n",
       "      <td>4</td>\n",
       "    </tr>\n",
       "  </tbody>\n",
       "</table>\n",
       "</div>"
      ],
      "text/plain": [
       "           D_l          D_s        D_ls   Theta_E  sys_idx\n",
       "0  1725.993042  1491.569580  749.155457  0.000010        0\n",
       "1  1522.398926  1546.743530  967.987793  0.000011        1\n",
       "2  1783.760376  1211.701416  482.794739  0.000004        2\n",
       "3  1751.351562  1507.346802  702.932068  0.000009        3\n",
       "4  1652.031982  1280.655884  280.772156  0.000005        4"
      ]
     },
     "metadata": {},
     "output_type": "display_data"
    },
    {
     "name": "stdout",
     "output_type": "stream",
     "text": [
      "Mass types: ['PEMD', 'ExternalPotential', 'NFW']\n",
      "\n",
      "PEMD\n"
     ]
    },
    {
     "data": {
      "text/html": [
       "<div>\n",
       "<style scoped>\n",
       "    .dataframe tbody tr th:only-of-type {\n",
       "        vertical-align: middle;\n",
       "    }\n",
       "\n",
       "    .dataframe tbody tr th {\n",
       "        vertical-align: top;\n",
       "    }\n",
       "\n",
       "    .dataframe thead th {\n",
       "        text-align: right;\n",
       "    }\n",
       "</style>\n",
       "<table border=\"1\" class=\"dataframe\">\n",
       "  <thead>\n",
       "    <tr style=\"text-align: right;\">\n",
       "      <th></th>\n",
       "      <th>pos_x</th>\n",
       "      <th>pos_y</th>\n",
       "      <th>redshift</th>\n",
       "      <th>vel_disp</th>\n",
       "      <th>slope</th>\n",
       "      <th>orient</th>\n",
       "      <th>q</th>\n",
       "      <th>sys_idx</th>\n",
       "    </tr>\n",
       "  </thead>\n",
       "  <tbody>\n",
       "    <tr>\n",
       "      <th>0</th>\n",
       "      <td>0.0</td>\n",
       "      <td>0.0</td>\n",
       "      <td>1.080299</td>\n",
       "      <td>386.123322</td>\n",
       "      <td>1.000590</td>\n",
       "      <td>1.426060</td>\n",
       "      <td>0.845345</td>\n",
       "      <td>0</td>\n",
       "    </tr>\n",
       "    <tr>\n",
       "      <th>1</th>\n",
       "      <td>0.0</td>\n",
       "      <td>0.0</td>\n",
       "      <td>0.706136</td>\n",
       "      <td>353.338928</td>\n",
       "      <td>0.938577</td>\n",
       "      <td>0.047169</td>\n",
       "      <td>0.877640</td>\n",
       "      <td>1</td>\n",
       "    </tr>\n",
       "    <tr>\n",
       "      <th>2</th>\n",
       "      <td>0.0</td>\n",
       "      <td>0.0</td>\n",
       "      <td>1.830726</td>\n",
       "      <td>275.745209</td>\n",
       "      <td>0.936613</td>\n",
       "      <td>1.080825</td>\n",
       "      <td>0.837146</td>\n",
       "      <td>2</td>\n",
       "    </tr>\n",
       "    <tr>\n",
       "      <th>3</th>\n",
       "      <td>0.0</td>\n",
       "      <td>0.0</td>\n",
       "      <td>1.175066</td>\n",
       "      <td>378.687347</td>\n",
       "      <td>0.977938</td>\n",
       "      <td>0.468363</td>\n",
       "      <td>0.807400</td>\n",
       "      <td>3</td>\n",
       "    </tr>\n",
       "    <tr>\n",
       "      <th>4</th>\n",
       "      <td>0.0</td>\n",
       "      <td>0.0</td>\n",
       "      <td>2.839020</td>\n",
       "      <td>391.334045</td>\n",
       "      <td>1.079194</td>\n",
       "      <td>2.895834</td>\n",
       "      <td>0.853780</td>\n",
       "      <td>4</td>\n",
       "    </tr>\n",
       "  </tbody>\n",
       "</table>\n",
       "</div>"
      ],
      "text/plain": [
       "   pos_x  pos_y  redshift    vel_disp     slope    orient         q  sys_idx\n",
       "0    0.0    0.0  1.080299  386.123322  1.000590  1.426060  0.845345        0\n",
       "1    0.0    0.0  0.706136  353.338928  0.938577  0.047169  0.877640        1\n",
       "2    0.0    0.0  1.830726  275.745209  0.936613  1.080825  0.837146        2\n",
       "3    0.0    0.0  1.175066  378.687347  0.977938  0.468363  0.807400        3\n",
       "4    0.0    0.0  2.839020  391.334045  1.079194  2.895834  0.853780        4"
      ]
     },
     "metadata": {},
     "output_type": "display_data"
    },
    {
     "name": "stdout",
     "output_type": "stream",
     "text": [
      "\n",
      "ExternalPotential\n"
     ]
    },
    {
     "data": {
      "text/html": [
       "<div>\n",
       "<style scoped>\n",
       "    .dataframe tbody tr th:only-of-type {\n",
       "        vertical-align: middle;\n",
       "    }\n",
       "\n",
       "    .dataframe tbody tr th {\n",
       "        vertical-align: top;\n",
       "    }\n",
       "\n",
       "    .dataframe thead th {\n",
       "        text-align: right;\n",
       "    }\n",
       "</style>\n",
       "<table border=\"1\" class=\"dataframe\">\n",
       "  <thead>\n",
       "    <tr style=\"text-align: right;\">\n",
       "      <th></th>\n",
       "      <th>shear_x</th>\n",
       "      <th>shear_y</th>\n",
       "      <th>shear_strength</th>\n",
       "      <th>shear_angle_arcsec</th>\n",
       "      <th>sys_idx</th>\n",
       "    </tr>\n",
       "  </thead>\n",
       "  <tbody>\n",
       "    <tr>\n",
       "      <th>0</th>\n",
       "      <td>0.0</td>\n",
       "      <td>0.0</td>\n",
       "      <td>0.055165</td>\n",
       "      <td>3.124254</td>\n",
       "      <td>0</td>\n",
       "    </tr>\n",
       "    <tr>\n",
       "      <th>1</th>\n",
       "      <td>0.0</td>\n",
       "      <td>0.0</td>\n",
       "      <td>0.038536</td>\n",
       "      <td>1.326891</td>\n",
       "      <td>1</td>\n",
       "    </tr>\n",
       "    <tr>\n",
       "      <th>2</th>\n",
       "      <td>0.0</td>\n",
       "      <td>0.0</td>\n",
       "      <td>0.071367</td>\n",
       "      <td>4.942794</td>\n",
       "      <td>2</td>\n",
       "    </tr>\n",
       "    <tr>\n",
       "      <th>3</th>\n",
       "      <td>0.0</td>\n",
       "      <td>0.0</td>\n",
       "      <td>0.000637</td>\n",
       "      <td>6.268994</td>\n",
       "      <td>3</td>\n",
       "    </tr>\n",
       "    <tr>\n",
       "      <th>4</th>\n",
       "      <td>0.0</td>\n",
       "      <td>0.0</td>\n",
       "      <td>0.040448</td>\n",
       "      <td>5.030596</td>\n",
       "      <td>4</td>\n",
       "    </tr>\n",
       "  </tbody>\n",
       "</table>\n",
       "</div>"
      ],
      "text/plain": [
       "   shear_x  shear_y  shear_strength  shear_angle_arcsec  sys_idx\n",
       "0      0.0      0.0        0.055165            3.124254        0\n",
       "1      0.0      0.0        0.038536            1.326891        1\n",
       "2      0.0      0.0        0.071367            4.942794        2\n",
       "3      0.0      0.0        0.000637            6.268994        3\n",
       "4      0.0      0.0        0.040448            5.030596        4"
      ]
     },
     "metadata": {},
     "output_type": "display_data"
    },
    {
     "name": "stdout",
     "output_type": "stream",
     "text": [
      "\n",
      "NFW\n"
     ]
    },
    {
     "data": {
      "text/html": [
       "<div>\n",
       "<style scoped>\n",
       "    .dataframe tbody tr th:only-of-type {\n",
       "        vertical-align: middle;\n",
       "    }\n",
       "\n",
       "    .dataframe tbody tr th {\n",
       "        vertical-align: top;\n",
       "    }\n",
       "\n",
       "    .dataframe thead th {\n",
       "        text-align: right;\n",
       "    }\n",
       "</style>\n",
       "<table border=\"1\" class=\"dataframe\">\n",
       "  <thead>\n",
       "    <tr style=\"text-align: right;\">\n",
       "      <th></th>\n",
       "      <th>pos_x</th>\n",
       "      <th>pos_y</th>\n",
       "      <th>mass_max</th>\n",
       "      <th>r_max_kpc</th>\n",
       "      <th>redshift</th>\n",
       "      <th>sys_idx</th>\n",
       "    </tr>\n",
       "  </thead>\n",
       "  <tbody>\n",
       "    <tr>\n",
       "      <th>0</th>\n",
       "      <td>-1.425843e-06</td>\n",
       "      <td>4.524517e-07</td>\n",
       "      <td>1.000000e+11</td>\n",
       "      <td>3.576866</td>\n",
       "      <td>1.080299</td>\n",
       "      <td>0</td>\n",
       "    </tr>\n",
       "    <tr>\n",
       "      <th>1</th>\n",
       "      <td>9.472093e-07</td>\n",
       "      <td>-6.397777e-06</td>\n",
       "      <td>1.000000e+11</td>\n",
       "      <td>10.148184</td>\n",
       "      <td>0.706136</td>\n",
       "      <td>1</td>\n",
       "    </tr>\n",
       "    <tr>\n",
       "      <th>2</th>\n",
       "      <td>1.012840e-05</td>\n",
       "      <td>-6.789826e-06</td>\n",
       "      <td>1.000000e+11</td>\n",
       "      <td>15.593445</td>\n",
       "      <td>2.839020</td>\n",
       "      <td>4</td>\n",
       "    </tr>\n",
       "    <tr>\n",
       "      <th>3</th>\n",
       "      <td>1.394118e-05</td>\n",
       "      <td>-1.440833e-05</td>\n",
       "      <td>1.000000e+11</td>\n",
       "      <td>6.765317</td>\n",
       "      <td>0.936808</td>\n",
       "      <td>6</td>\n",
       "    </tr>\n",
       "    <tr>\n",
       "      <th>4</th>\n",
       "      <td>8.764418e-06</td>\n",
       "      <td>1.171582e-05</td>\n",
       "      <td>1.000000e+11</td>\n",
       "      <td>2.481410</td>\n",
       "      <td>0.249630</td>\n",
       "      <td>7</td>\n",
       "    </tr>\n",
       "  </tbody>\n",
       "</table>\n",
       "</div>"
      ],
      "text/plain": [
       "          pos_x         pos_y      mass_max  r_max_kpc  redshift  sys_idx\n",
       "0 -1.425843e-06  4.524517e-07  1.000000e+11   3.576866  1.080299        0\n",
       "1  9.472093e-07 -6.397777e-06  1.000000e+11  10.148184  0.706136        1\n",
       "2  1.012840e-05 -6.789826e-06  1.000000e+11  15.593445  2.839020        4\n",
       "3  1.394118e-05 -1.440833e-05  1.000000e+11   6.765317  0.936808        6\n",
       "4  8.764418e-06  1.171582e-05  1.000000e+11   2.481410  0.249630        7"
      ]
     },
     "metadata": {},
     "output_type": "display_data"
    },
    {
     "name": "stdout",
     "output_type": "stream",
     "text": [
      "Source types: ['Gaussian_blob']\n",
      "\n",
      "Gaussian_blob\n"
     ]
    },
    {
     "data": {
      "text/html": [
       "<div>\n",
       "<style scoped>\n",
       "    .dataframe tbody tr th:only-of-type {\n",
       "        vertical-align: middle;\n",
       "    }\n",
       "\n",
       "    .dataframe tbody tr th {\n",
       "        vertical-align: top;\n",
       "    }\n",
       "\n",
       "    .dataframe thead th {\n",
       "        text-align: right;\n",
       "    }\n",
       "</style>\n",
       "<table border=\"1\" class=\"dataframe\">\n",
       "  <thead>\n",
       "    <tr style=\"text-align: right;\">\n",
       "      <th></th>\n",
       "      <th>I</th>\n",
       "      <th>position_rad_x</th>\n",
       "      <th>position_rad_y</th>\n",
       "      <th>orient_rad</th>\n",
       "      <th>q</th>\n",
       "      <th>std_kpc</th>\n",
       "      <th>redshift</th>\n",
       "      <th>sys_idx</th>\n",
       "    </tr>\n",
       "  </thead>\n",
       "  <tbody>\n",
       "    <tr>\n",
       "      <th>0</th>\n",
       "      <td>-2.927999e-07</td>\n",
       "      <td>-2.927999e-07</td>\n",
       "      <td>1.0</td>\n",
       "      <td>0.0</td>\n",
       "      <td>0.8</td>\n",
       "      <td>0.8</td>\n",
       "      <td>3.836359</td>\n",
       "      <td>0</td>\n",
       "    </tr>\n",
       "    <tr>\n",
       "      <th>1</th>\n",
       "      <td>9.463927e-07</td>\n",
       "      <td>9.463927e-07</td>\n",
       "      <td>1.0</td>\n",
       "      <td>0.0</td>\n",
       "      <td>0.8</td>\n",
       "      <td>0.8</td>\n",
       "      <td>3.487938</td>\n",
       "      <td>1</td>\n",
       "    </tr>\n",
       "    <tr>\n",
       "      <th>2</th>\n",
       "      <td>-1.143620e-07</td>\n",
       "      <td>-1.143620e-07</td>\n",
       "      <td>1.0</td>\n",
       "      <td>0.0</td>\n",
       "      <td>0.8</td>\n",
       "      <td>0.8</td>\n",
       "      <td>5.927276</td>\n",
       "      <td>2</td>\n",
       "    </tr>\n",
       "    <tr>\n",
       "      <th>3</th>\n",
       "      <td>2.187581e-06</td>\n",
       "      <td>2.187581e-06</td>\n",
       "      <td>1.0</td>\n",
       "      <td>0.0</td>\n",
       "      <td>0.8</td>\n",
       "      <td>0.8</td>\n",
       "      <td>3.735499</td>\n",
       "      <td>3</td>\n",
       "    </tr>\n",
       "    <tr>\n",
       "      <th>4</th>\n",
       "      <td>1.962735e-07</td>\n",
       "      <td>1.962735e-07</td>\n",
       "      <td>1.0</td>\n",
       "      <td>0.0</td>\n",
       "      <td>0.8</td>\n",
       "      <td>0.8</td>\n",
       "      <td>5.342922</td>\n",
       "      <td>4</td>\n",
       "    </tr>\n",
       "  </tbody>\n",
       "</table>\n",
       "</div>"
      ],
      "text/plain": [
       "              I  position_rad_x  position_rad_y  orient_rad    q  std_kpc  \\\n",
       "0 -2.927999e-07   -2.927999e-07             1.0         0.0  0.8      0.8   \n",
       "1  9.463927e-07    9.463927e-07             1.0         0.0  0.8      0.8   \n",
       "2 -1.143620e-07   -1.143620e-07             1.0         0.0  0.8      0.8   \n",
       "3  2.187581e-06    2.187581e-06             1.0         0.0  0.8      0.8   \n",
       "4  1.962735e-07    1.962735e-07             1.0         0.0  0.8      0.8   \n",
       "\n",
       "   redshift  sys_idx  \n",
       "0  3.836359        0  \n",
       "1  3.487938        1  \n",
       "2  5.927276        2  \n",
       "3  3.735499        3  \n",
       "4  5.342922        4  "
      ]
     },
     "metadata": {},
     "output_type": "display_data"
    }
   ],
   "source": [
    "# Cell 5: quick look at the tables\n",
    "print(\"Precomputed:\")\n",
    "display(df_pre.head())\n",
    "\n",
    "print(\"Mass types:\", list(df_mass.keys()))\n",
    "for mtype, df in df_mass.items():\n",
    "    print(f\"\\n{mtype}\")\n",
    "    display(df.head())\n",
    "\n",
    "print(\"Source types:\", list(df_src.keys()))\n",
    "for stype, df in df_src.items():\n",
    "    print(f\"\\n{stype}\")\n",
    "    display(df.head())\n"
   ]
  },
  {
   "cell_type": "code",
   "execution_count": 28,
   "id": "42adb90e-f1ff-403d-a323-964969a07aa4",
   "metadata": {},
   "outputs": [
    {
     "data": {
      "image/png": "[encoded data removed]",
      "text/plain": [
       "<Figure size 640x480 with 1 Axes>"
      ]
     },
     "metadata": {},
     "output_type": "display_data"
    },
    {
     "data": {
      "image/png": "[encoded data removed]",
      "text/plain": [
       "<Figure size 640x480 with 1 Axes>"
      ]
     },
     "metadata": {},
     "output_type": "display_data"
    },
    {
     "data": {
      "image/png": "[encoded data removed]",
      "text/plain": [
       "<Figure size 640x480 with 1 Axes>"
      ]
     },
     "metadata": {},
     "output_type": "display_data"
    }
   ],
   "source": [
    "# Cell 6: simple plots\n",
    "# 1) D_l vs Theta_E\n",
    "ax = df_pre.plot.scatter(x='D_l', y='Theta_E', title='D_l vs Θ_E', alpha=0.7)\n",
    "ax.grid(True)\n",
    "\n",
    "# 2) histogram of D_s\n",
    "plt.figure()\n",
    "df_pre['D_s'].plot.hist(bins=20, title='Distribution of D_s')\n",
    "plt.tight_layout()\n",
    "\n",
    "# 3) if NFW present, r_max_kpc vs mass_max\n",
    "if 'NFW' in df_mass:\n",
    "    ax2 = df_mass['NFW'].plot.scatter(\n",
    "        x='r_max_kpc', y='mass_max',\n",
    "        title='NFW: r_max_kpc vs mass_max', alpha=0.7\n",
    "    )\n",
    "    ax2.grid(True)\n",
    "\n",
    "plt.show()\n"
   ]
  },
  {
   "cell_type": "code",
   "execution_count": 3,
   "id": "c054b924-5a69-4808-b222-30718ba121d7",
   "metadata": {},
   "outputs": [
    {
     "name": "stdout",
     "output_type": "stream",
     "text": [
      "'precomputed': dict\n",
      "  'sys_idx': Tensor  shape=(100,)\n",
      "  'params': Tensor  shape=(100, 4)\n",
      "  'param_map': list\n",
      "    [0]: str\n",
      "    [1]: str\n",
      "    [2]: str\n",
      "    [3]: str\n",
      "'mass_components': dict\n",
      "  'PEMD': dict\n",
      "    'sys_idx': Tensor  shape=(100,)\n",
      "    'params': Tensor  shape=(100, 7)\n",
      "    'param_map': list\n",
      "      [0]: str\n",
      "      [1]: str\n",
      "      [2]: str\n",
      "      [3]: str\n",
      "      [4]: str\n",
      "      [5]: str\n",
      "      [6]: str\n",
      "  'NFW': dict\n",
      "    'sys_idx': Tensor  shape=(52,)\n",
      "    'params': Tensor  shape=(52, 5)\n",
      "    'param_map': list\n",
      "      [0]: str\n",
      "      [1]: str\n",
      "      [2]: str\n",
      "      [3]: str\n",
      "      [4]: str\n",
      "'source_models': dict\n",
      "  'Gaussian_blob': dict\n",
      "    'sys_idx': Tensor  shape=(100,)\n",
      "    'params': Tensor  shape=(100, 7)\n",
      "    'param_map': list\n",
      "      [0]: str\n",
      "      [1]: str\n",
      "      [2]: str\n",
      "      [3]: str\n",
      "      [4]: str\n",
      "      [5]: str\n",
      "      [6]: str\n"
     ]
    }
   ],
   "source": [
    "import torch\n",
    "\n",
    "def pprint_structure(obj, indent=0):\n",
    "    pad = '  ' * indent\n",
    "    if isinstance(obj, dict):\n",
    "        for k, v in obj.items():\n",
    "            print(f\"{pad}{k!r}: {type(v).__name__}\", end='')\n",
    "            if hasattr(v, 'shape'):\n",
    "                print(f\"  shape={tuple(v.shape)}\")\n",
    "            else:\n",
    "                print()\n",
    "            pprint_structure(v, indent+1)\n",
    "    elif isinstance(obj, (list, tuple)):\n",
    "        for i, v in enumerate(obj):\n",
    "            print(f\"{pad}[{i}]: {type(v).__name__}\", end='')\n",
    "            if hasattr(v, 'shape'):\n",
    "                print(f\"  shape={tuple(v.shape)}\")\n",
    "            else:\n",
    "                print()\n",
    "            pprint_structure(v, indent+1)\n",
    "\n",
    "# Usage:\n",
    "catalog_path = \"../../catalogs/small_example_catalog.pth\"\n",
    "\n",
    "flat = torch.load(catalog_path)\n",
    "pprint_structure(flat)\n"
   ]
  },
  {
   "cell_type": "code",
   "execution_count": 2,
   "id": "ea634db0-2c26-47b5-ba40-eb2dfc6b17a0",
   "metadata": {},
   "outputs": [
    {
     "name": "stdout",
     "output_type": "stream",
     "text": [
      "cuda\n"
     ]
    }
   ],
   "source": [
    "from lensing_system_broadcasting import LensingSystem\n",
    "import torch\n",
    "\n",
    "catalog_path = \"../../catalogs/test4_pemd.pth\"\n",
    "flat= torch.load(catalog_path)\n",
    "\n",
    "\n",
    "\n",
    "masses_data = flat['mass_components']\n",
    "for mtype, data in masses_data.items():\n",
    "    # Convert to CUDA tensors\n",
    "    masses_data[mtype]['params'] = data['params'].to(device='cuda:0')\n",
    "    masses_data[mtype]['sys_idx'] = data['sys_idx'].to(device='cuda:0')\n",
    "\n",
    "\n",
    "precomputed_data = flat['precomputed']\n",
    "\n",
    "precomputed_data['params'] = precomputed_data['params'].to(device='cuda:0')\n",
    "precomputed_data['sys_idx'] = precomputed_data['sys_idx'].to(device='cuda:0')\n",
    "\n",
    "source_data = flat['source_models']\n",
    "for mtype, data in source_data.items():\n",
    "    # Convert to CUDA tensors\n",
    "    source_data[mtype]['params'] = data['params'].to(device='cuda:0')\n",
    "    source_data[mtype]['sys_idx'] = data['sys_idx'].to(device='cuda:0')\n",
    "\n",
    "\n",
    "precomputed_data = flat['precomputed']\n",
    "\n",
    "precomputed_data['params'] = precomputed_data['params'].to(device='cuda:0')\n",
    "precomputed_data['sys_idx'] = precomputed_data['sys_idx'].to(device='cuda:0')\n",
    "\n",
    "\n",
    "lensing_system = LensingSystem(\n",
    "    num_samples=1,\n",
    "    masses_data=masses_data,\n",
    "    precomputed_data=precomputed_data,\n",
    "    source_data=source_data,\n",
    "    device=torch.device('cuda' if torch.cuda.is_available() else 'cpu'),\n",
    ")"
   ]
  },
  {
   "cell_type": "code",
   "execution_count": 3,
   "id": "f19d0d70",
   "metadata": {},
   "outputs": [
    {
     "name": "stdout",
     "output_type": "stream",
     "text": [
      "lens_grid torch.Size([100, 100, 2])\n",
      "Warning: some q < 0.8 in this _hyp2f1_series implementation may not converge\n"
     ]
    },
    {
     "data": {
      "image/png": "[encoded data removed]",
      "text/plain": [
       "<Figure size 640x480 with 1 Axes>"
      ]
     },
     "metadata": {},
     "output_type": "display_data"
    },
    {
     "name": "stdout",
     "output_type": "stream",
     "text": [
      "tensor([[[[-3.5226e-06, -4.0563e-06],\n",
      "          [-3.4832e-06, -4.0994e-06],\n",
      "          [-3.4426e-06, -4.1429e-06],\n",
      "          ...,\n",
      "          [ 3.5954e-06, -4.2437e-06],\n",
      "          [ 3.6316e-06, -4.2043e-06],\n",
      "          [ 3.6668e-06, -4.1652e-06]],\n",
      "\n",
      "         [[-3.5658e-06, -4.0174e-06],\n",
      "          [-3.5268e-06, -4.0611e-06],\n",
      "          [-3.4866e-06, -4.1052e-06],\n",
      "          ...,\n",
      "          [ 3.6352e-06, -4.2101e-06],\n",
      "          [ 3.6712e-06, -4.1702e-06],\n",
      "          [ 3.7060e-06, -4.1306e-06]],\n",
      "\n",
      "         [[-3.6096e-06, -3.9772e-06],\n",
      "          [-3.5710e-06, -4.0214e-06],\n",
      "          [-3.5311e-06, -4.0661e-06],\n",
      "          ...,\n",
      "          [ 3.6757e-06, -4.1753e-06],\n",
      "          [ 3.7112e-06, -4.1348e-06],\n",
      "          [ 3.7456e-06, -4.0947e-06]],\n",
      "\n",
      "         ...,\n",
      "\n",
      "         [[-3.7456e-06,  4.0947e-06],\n",
      "          [-3.7112e-06,  4.1348e-06],\n",
      "          [-3.6757e-06,  4.1753e-06],\n",
      "          ...,\n",
      "          [ 3.5311e-06,  4.0661e-06],\n",
      "          [ 3.5710e-06,  4.0214e-06],\n",
      "          [ 3.6096e-06,  3.9772e-06]],\n",
      "\n",
      "         [[-3.7060e-06,  4.1306e-06],\n",
      "          [-3.6712e-06,  4.1702e-06],\n",
      "          [-3.6352e-06,  4.2101e-06],\n",
      "          ...,\n",
      "          [ 3.4866e-06,  4.1052e-06],\n",
      "          [ 3.5268e-06,  4.0611e-06],\n",
      "          [ 3.5658e-06,  4.0174e-06]],\n",
      "\n",
      "         [[-3.6668e-06,  4.1652e-06],\n",
      "          [-3.6316e-06,  4.2043e-06],\n",
      "          [-3.5954e-06,  4.2437e-06],\n",
      "          ...,\n",
      "          [ 3.4426e-06,  4.1429e-06],\n",
      "          [ 3.4832e-06,  4.0994e-06],\n",
      "          [ 3.5226e-06,  4.0563e-06]]]], device='cuda:0')\n",
      "source_grid torch.Size([1, 100, 100, 2])\n"
     ]
    },
    {
     "data": {
      "image/png": "[encoded data removed]",
      "text/plain": [
       "<Figure size 640x480 with 1 Axes>"
      ]
     },
     "metadata": {},
     "output_type": "display_data"
    }
   ],
   "source": [
    "from shared_utils import _grid_lens\n",
    "my_grid= _grid_lens(6, 100, device=\"cuda\")\n",
    "\n",
    "images, source_grid=lensing_system.forward(my_grid)\n"
   ]
  },
  {
   "cell_type": "code",
   "execution_count": 4,
   "id": "7ad97a10",
   "metadata": {},
   "outputs": [
    {
     "name": "stdout",
     "output_type": "stream",
     "text": [
      "torch.Size([1, 100, 100, 2])\n"
     ]
    }
   ],
   "source": [
    "print(source_grid.shape)"
   ]
  },
  {
   "cell_type": "code",
   "execution_count": 16,
   "id": "1137cd6c",
   "metadata": {},
   "outputs": [
    {
     "name": "stdout",
     "output_type": "stream",
     "text": [
      "torch.Size([100, 100, 2])\n",
      "source grid is complex: False\n",
      "Shape of tensor_source_grid2: torch.Size([100, 100, 2])\n",
      "Shape of my_source_grid: torch.Size([100, 100, 2])\n",
      "Are the two grids approximately equal? True\n",
      "Max difference: tensor(2.2737e-12, device='cuda:0')\n",
      "Mean difference: tensor(2.9366e-13, device='cuda:0')\n"
     ]
    },
    {
     "data": {
      "image/png": "[encoded data removed]",
      "text/plain": [
       "<Figure size 1000x500 with 2 Axes>"
      ]
     },
     "metadata": {},
     "output_type": "display_data"
    },
    {
     "ename": "TypeError",
     "evalue": "Invalid shape (100,) for image data",
     "output_type": "error",
     "traceback": [
      "\u001b[0;31m---------------------------------------------------------------------------\u001b[0m",
      "\u001b[0;31mTypeError\u001b[0m                                 Traceback (most recent call last)",
      "Cell \u001b[0;32mIn[16], line 73\u001b[0m\n\u001b[1;32m     69\u001b[0m img\u001b[38;5;241m=\u001b[39m source\u001b[38;5;241m.\u001b[39mforward(my_source_grid2)\n\u001b[1;32m     71\u001b[0m \u001b[38;5;28;01mimport\u001b[39;00m\u001b[38;5;250m \u001b[39m\u001b[38;5;21;01mmatplotlib\u001b[39;00m\u001b[38;5;21;01m.\u001b[39;00m\u001b[38;5;21;01mpyplot\u001b[39;00m\u001b[38;5;250m \u001b[39m\u001b[38;5;28;01mas\u001b[39;00m\u001b[38;5;250m \u001b[39m\u001b[38;5;21;01mplt\u001b[39;00m\n\u001b[0;32m---> 73\u001b[0m \u001b[43mplt\u001b[49m\u001b[38;5;241;43m.\u001b[39;49m\u001b[43mimshow\u001b[49m\u001b[43m(\u001b[49m\u001b[43mimg\u001b[49m\u001b[43m[\u001b[49m\u001b[38;5;241;43m0\u001b[39;49m\u001b[43m]\u001b[49m\u001b[38;5;241;43m.\u001b[39;49m\u001b[43mcpu\u001b[49m\u001b[43m(\u001b[49m\u001b[43m)\u001b[49m\u001b[38;5;241;43m.\u001b[39;49m\u001b[43mdetach\u001b[49m\u001b[43m(\u001b[49m\u001b[43m)\u001b[49m\u001b[38;5;241;43m.\u001b[39;49m\u001b[43mnumpy\u001b[49m\u001b[43m(\u001b[49m\u001b[43m)\u001b[49m\u001b[43m,\u001b[49m\u001b[43m \u001b[49m\u001b[43mcmap\u001b[49m\u001b[38;5;241;43m=\u001b[39;49m\u001b[38;5;124;43m'\u001b[39;49m\u001b[38;5;124;43mgray\u001b[39;49m\u001b[38;5;124;43m'\u001b[39;49m\u001b[43m)\u001b[49m\n",
      "File \u001b[0;32m/usr/lib/python3/dist-packages/matplotlib/_api/deprecation.py:456\u001b[0m, in \u001b[0;36mmake_keyword_only.<locals>.wrapper\u001b[0;34m(*args, **kwargs)\u001b[0m\n\u001b[1;32m    450\u001b[0m \u001b[38;5;28;01mif\u001b[39;00m \u001b[38;5;28mlen\u001b[39m(args) \u001b[38;5;241m>\u001b[39m name_idx:\n\u001b[1;32m    451\u001b[0m     warn_deprecated(\n\u001b[1;32m    452\u001b[0m         since, message\u001b[38;5;241m=\u001b[39m\u001b[38;5;124m\"\u001b[39m\u001b[38;5;124mPassing the \u001b[39m\u001b[38;5;132;01m%(name)s\u001b[39;00m\u001b[38;5;124m \u001b[39m\u001b[38;5;132;01m%(obj_type)s\u001b[39;00m\u001b[38;5;124m \u001b[39m\u001b[38;5;124m\"\u001b[39m\n\u001b[1;32m    453\u001b[0m         \u001b[38;5;124m\"\u001b[39m\u001b[38;5;124mpositionally is deprecated since Matplotlib \u001b[39m\u001b[38;5;132;01m%(since)s\u001b[39;00m\u001b[38;5;124m; the \u001b[39m\u001b[38;5;124m\"\u001b[39m\n\u001b[1;32m    454\u001b[0m         \u001b[38;5;124m\"\u001b[39m\u001b[38;5;124mparameter will become keyword-only \u001b[39m\u001b[38;5;132;01m%(removal)s\u001b[39;00m\u001b[38;5;124m.\u001b[39m\u001b[38;5;124m\"\u001b[39m,\n\u001b[1;32m    455\u001b[0m         name\u001b[38;5;241m=\u001b[39mname, obj_type\u001b[38;5;241m=\u001b[39m\u001b[38;5;124mf\u001b[39m\u001b[38;5;124m\"\u001b[39m\u001b[38;5;124mparameter of \u001b[39m\u001b[38;5;132;01m{\u001b[39;00mfunc\u001b[38;5;241m.\u001b[39m\u001b[38;5;18m__name__\u001b[39m\u001b[38;5;132;01m}\u001b[39;00m\u001b[38;5;124m()\u001b[39m\u001b[38;5;124m\"\u001b[39m)\n\u001b[0;32m--> 456\u001b[0m \u001b[38;5;28;01mreturn\u001b[39;00m \u001b[43mfunc\u001b[49m\u001b[43m(\u001b[49m\u001b[38;5;241;43m*\u001b[39;49m\u001b[43margs\u001b[49m\u001b[43m,\u001b[49m\u001b[43m \u001b[49m\u001b[38;5;241;43m*\u001b[39;49m\u001b[38;5;241;43m*\u001b[39;49m\u001b[43mkwargs\u001b[49m\u001b[43m)\u001b[49m\n",
      "File \u001b[0;32m/usr/lib/python3/dist-packages/matplotlib/pyplot.py:2640\u001b[0m, in \u001b[0;36mimshow\u001b[0;34m(X, cmap, norm, aspect, interpolation, alpha, vmin, vmax, origin, extent, interpolation_stage, filternorm, filterrad, resample, url, data, **kwargs)\u001b[0m\n\u001b[1;32m   2634\u001b[0m \u001b[38;5;129m@_copy_docstring_and_deprecators\u001b[39m(Axes\u001b[38;5;241m.\u001b[39mimshow)\n\u001b[1;32m   2635\u001b[0m \u001b[38;5;28;01mdef\u001b[39;00m\u001b[38;5;250m \u001b[39m\u001b[38;5;21mimshow\u001b[39m(\n\u001b[1;32m   2636\u001b[0m         X, cmap\u001b[38;5;241m=\u001b[39m\u001b[38;5;28;01mNone\u001b[39;00m, norm\u001b[38;5;241m=\u001b[39m\u001b[38;5;28;01mNone\u001b[39;00m, aspect\u001b[38;5;241m=\u001b[39m\u001b[38;5;28;01mNone\u001b[39;00m, interpolation\u001b[38;5;241m=\u001b[39m\u001b[38;5;28;01mNone\u001b[39;00m,\n\u001b[1;32m   2637\u001b[0m         alpha\u001b[38;5;241m=\u001b[39m\u001b[38;5;28;01mNone\u001b[39;00m, vmin\u001b[38;5;241m=\u001b[39m\u001b[38;5;28;01mNone\u001b[39;00m, vmax\u001b[38;5;241m=\u001b[39m\u001b[38;5;28;01mNone\u001b[39;00m, origin\u001b[38;5;241m=\u001b[39m\u001b[38;5;28;01mNone\u001b[39;00m, extent\u001b[38;5;241m=\u001b[39m\u001b[38;5;28;01mNone\u001b[39;00m, \u001b[38;5;241m*\u001b[39m,\n\u001b[1;32m   2638\u001b[0m         interpolation_stage\u001b[38;5;241m=\u001b[39m\u001b[38;5;28;01mNone\u001b[39;00m, filternorm\u001b[38;5;241m=\u001b[39m\u001b[38;5;28;01mTrue\u001b[39;00m, filterrad\u001b[38;5;241m=\u001b[39m\u001b[38;5;241m4.0\u001b[39m,\n\u001b[1;32m   2639\u001b[0m         resample\u001b[38;5;241m=\u001b[39m\u001b[38;5;28;01mNone\u001b[39;00m, url\u001b[38;5;241m=\u001b[39m\u001b[38;5;28;01mNone\u001b[39;00m, data\u001b[38;5;241m=\u001b[39m\u001b[38;5;28;01mNone\u001b[39;00m, \u001b[38;5;241m*\u001b[39m\u001b[38;5;241m*\u001b[39mkwargs):\n\u001b[0;32m-> 2640\u001b[0m     __ret \u001b[38;5;241m=\u001b[39m \u001b[43mgca\u001b[49m\u001b[43m(\u001b[49m\u001b[43m)\u001b[49m\u001b[38;5;241;43m.\u001b[39;49m\u001b[43mimshow\u001b[49m\u001b[43m(\u001b[49m\n\u001b[1;32m   2641\u001b[0m \u001b[43m        \u001b[49m\u001b[43mX\u001b[49m\u001b[43m,\u001b[49m\u001b[43m \u001b[49m\u001b[43mcmap\u001b[49m\u001b[38;5;241;43m=\u001b[39;49m\u001b[43mcmap\u001b[49m\u001b[43m,\u001b[49m\u001b[43m \u001b[49m\u001b[43mnorm\u001b[49m\u001b[38;5;241;43m=\u001b[39;49m\u001b[43mnorm\u001b[49m\u001b[43m,\u001b[49m\u001b[43m \u001b[49m\u001b[43maspect\u001b[49m\u001b[38;5;241;43m=\u001b[39;49m\u001b[43maspect\u001b[49m\u001b[43m,\u001b[49m\n\u001b[1;32m   2642\u001b[0m \u001b[43m        \u001b[49m\u001b[43minterpolation\u001b[49m\u001b[38;5;241;43m=\u001b[39;49m\u001b[43minterpolation\u001b[49m\u001b[43m,\u001b[49m\u001b[43m \u001b[49m\u001b[43malpha\u001b[49m\u001b[38;5;241;43m=\u001b[39;49m\u001b[43malpha\u001b[49m\u001b[43m,\u001b[49m\u001b[43m \u001b[49m\u001b[43mvmin\u001b[49m\u001b[38;5;241;43m=\u001b[39;49m\u001b[43mvmin\u001b[49m\u001b[43m,\u001b[49m\n\u001b[1;32m   2643\u001b[0m \u001b[43m        \u001b[49m\u001b[43mvmax\u001b[49m\u001b[38;5;241;43m=\u001b[39;49m\u001b[43mvmax\u001b[49m\u001b[43m,\u001b[49m\u001b[43m \u001b[49m\u001b[43morigin\u001b[49m\u001b[38;5;241;43m=\u001b[39;49m\u001b[43morigin\u001b[49m\u001b[43m,\u001b[49m\u001b[43m \u001b[49m\u001b[43mextent\u001b[49m\u001b[38;5;241;43m=\u001b[39;49m\u001b[43mextent\u001b[49m\u001b[43m,\u001b[49m\n\u001b[1;32m   2644\u001b[0m \u001b[43m        \u001b[49m\u001b[43minterpolation_stage\u001b[49m\u001b[38;5;241;43m=\u001b[39;49m\u001b[43minterpolation_stage\u001b[49m\u001b[43m,\u001b[49m\n\u001b[1;32m   2645\u001b[0m \u001b[43m        \u001b[49m\u001b[43mfilternorm\u001b[49m\u001b[38;5;241;43m=\u001b[39;49m\u001b[43mfilternorm\u001b[49m\u001b[43m,\u001b[49m\u001b[43m \u001b[49m\u001b[43mfilterrad\u001b[49m\u001b[38;5;241;43m=\u001b[39;49m\u001b[43mfilterrad\u001b[49m\u001b[43m,\u001b[49m\u001b[43m \u001b[49m\u001b[43mresample\u001b[49m\u001b[38;5;241;43m=\u001b[39;49m\u001b[43mresample\u001b[49m\u001b[43m,\u001b[49m\n\u001b[1;32m   2646\u001b[0m \u001b[43m        \u001b[49m\u001b[43murl\u001b[49m\u001b[38;5;241;43m=\u001b[39;49m\u001b[43murl\u001b[49m\u001b[43m,\u001b[49m\u001b[43m \u001b[49m\u001b[38;5;241;43m*\u001b[39;49m\u001b[38;5;241;43m*\u001b[39;49m\u001b[43m(\u001b[49m\u001b[43m{\u001b[49m\u001b[38;5;124;43m\"\u001b[39;49m\u001b[38;5;124;43mdata\u001b[39;49m\u001b[38;5;124;43m\"\u001b[39;49m\u001b[43m:\u001b[49m\u001b[43m \u001b[49m\u001b[43mdata\u001b[49m\u001b[43m}\u001b[49m\u001b[43m \u001b[49m\u001b[38;5;28;43;01mif\u001b[39;49;00m\u001b[43m \u001b[49m\u001b[43mdata\u001b[49m\u001b[43m \u001b[49m\u001b[38;5;129;43;01mis\u001b[39;49;00m\u001b[43m \u001b[49m\u001b[38;5;129;43;01mnot\u001b[39;49;00m\u001b[43m \u001b[49m\u001b[38;5;28;43;01mNone\u001b[39;49;00m\u001b[43m \u001b[49m\u001b[38;5;28;43;01melse\u001b[39;49;00m\u001b[43m \u001b[49m\u001b[43m{\u001b[49m\u001b[43m}\u001b[49m\u001b[43m)\u001b[49m\u001b[43m,\u001b[49m\n\u001b[1;32m   2647\u001b[0m \u001b[43m        \u001b[49m\u001b[38;5;241;43m*\u001b[39;49m\u001b[38;5;241;43m*\u001b[39;49m\u001b[43mkwargs\u001b[49m\u001b[43m)\u001b[49m\n\u001b[1;32m   2648\u001b[0m     sci(__ret)\n\u001b[1;32m   2649\u001b[0m     \u001b[38;5;28;01mreturn\u001b[39;00m __ret\n",
      "File \u001b[0;32m/usr/lib/python3/dist-packages/matplotlib/_api/deprecation.py:456\u001b[0m, in \u001b[0;36mmake_keyword_only.<locals>.wrapper\u001b[0;34m(*args, **kwargs)\u001b[0m\n\u001b[1;32m    450\u001b[0m \u001b[38;5;28;01mif\u001b[39;00m \u001b[38;5;28mlen\u001b[39m(args) \u001b[38;5;241m>\u001b[39m name_idx:\n\u001b[1;32m    451\u001b[0m     warn_deprecated(\n\u001b[1;32m    452\u001b[0m         since, message\u001b[38;5;241m=\u001b[39m\u001b[38;5;124m\"\u001b[39m\u001b[38;5;124mPassing the \u001b[39m\u001b[38;5;132;01m%(name)s\u001b[39;00m\u001b[38;5;124m \u001b[39m\u001b[38;5;132;01m%(obj_type)s\u001b[39;00m\u001b[38;5;124m \u001b[39m\u001b[38;5;124m\"\u001b[39m\n\u001b[1;32m    453\u001b[0m         \u001b[38;5;124m\"\u001b[39m\u001b[38;5;124mpositionally is deprecated since Matplotlib \u001b[39m\u001b[38;5;132;01m%(since)s\u001b[39;00m\u001b[38;5;124m; the \u001b[39m\u001b[38;5;124m\"\u001b[39m\n\u001b[1;32m    454\u001b[0m         \u001b[38;5;124m\"\u001b[39m\u001b[38;5;124mparameter will become keyword-only \u001b[39m\u001b[38;5;132;01m%(removal)s\u001b[39;00m\u001b[38;5;124m.\u001b[39m\u001b[38;5;124m\"\u001b[39m,\n\u001b[1;32m    455\u001b[0m         name\u001b[38;5;241m=\u001b[39mname, obj_type\u001b[38;5;241m=\u001b[39m\u001b[38;5;124mf\u001b[39m\u001b[38;5;124m\"\u001b[39m\u001b[38;5;124mparameter of \u001b[39m\u001b[38;5;132;01m{\u001b[39;00mfunc\u001b[38;5;241m.\u001b[39m\u001b[38;5;18m__name__\u001b[39m\u001b[38;5;132;01m}\u001b[39;00m\u001b[38;5;124m()\u001b[39m\u001b[38;5;124m\"\u001b[39m)\n\u001b[0;32m--> 456\u001b[0m \u001b[38;5;28;01mreturn\u001b[39;00m \u001b[43mfunc\u001b[49m\u001b[43m(\u001b[49m\u001b[38;5;241;43m*\u001b[39;49m\u001b[43margs\u001b[49m\u001b[43m,\u001b[49m\u001b[43m \u001b[49m\u001b[38;5;241;43m*\u001b[39;49m\u001b[38;5;241;43m*\u001b[39;49m\u001b[43mkwargs\u001b[49m\u001b[43m)\u001b[49m\n",
      "File \u001b[0;32m/usr/lib/python3/dist-packages/matplotlib/__init__.py:1416\u001b[0m, in \u001b[0;36m_preprocess_data.<locals>.inner\u001b[0;34m(ax, data, *args, **kwargs)\u001b[0m\n\u001b[1;32m   1413\u001b[0m \u001b[38;5;129m@functools\u001b[39m\u001b[38;5;241m.\u001b[39mwraps(func)\n\u001b[1;32m   1414\u001b[0m \u001b[38;5;28;01mdef\u001b[39;00m\u001b[38;5;250m \u001b[39m\u001b[38;5;21minner\u001b[39m(ax, \u001b[38;5;241m*\u001b[39margs, data\u001b[38;5;241m=\u001b[39m\u001b[38;5;28;01mNone\u001b[39;00m, \u001b[38;5;241m*\u001b[39m\u001b[38;5;241m*\u001b[39mkwargs):\n\u001b[1;32m   1415\u001b[0m     \u001b[38;5;28;01mif\u001b[39;00m data \u001b[38;5;129;01mis\u001b[39;00m \u001b[38;5;28;01mNone\u001b[39;00m:\n\u001b[0;32m-> 1416\u001b[0m         \u001b[38;5;28;01mreturn\u001b[39;00m \u001b[43mfunc\u001b[49m\u001b[43m(\u001b[49m\u001b[43max\u001b[49m\u001b[43m,\u001b[49m\u001b[43m \u001b[49m\u001b[38;5;241;43m*\u001b[39;49m\u001b[38;5;28;43mmap\u001b[39;49m\u001b[43m(\u001b[49m\u001b[43msanitize_sequence\u001b[49m\u001b[43m,\u001b[49m\u001b[43m \u001b[49m\u001b[43margs\u001b[49m\u001b[43m)\u001b[49m\u001b[43m,\u001b[49m\u001b[43m \u001b[49m\u001b[38;5;241;43m*\u001b[39;49m\u001b[38;5;241;43m*\u001b[39;49m\u001b[43mkwargs\u001b[49m\u001b[43m)\u001b[49m\n\u001b[1;32m   1418\u001b[0m     bound \u001b[38;5;241m=\u001b[39m new_sig\u001b[38;5;241m.\u001b[39mbind(ax, \u001b[38;5;241m*\u001b[39margs, \u001b[38;5;241m*\u001b[39m\u001b[38;5;241m*\u001b[39mkwargs)\n\u001b[1;32m   1419\u001b[0m     auto_label \u001b[38;5;241m=\u001b[39m (bound\u001b[38;5;241m.\u001b[39marguments\u001b[38;5;241m.\u001b[39mget(label_namer)\n\u001b[1;32m   1420\u001b[0m                   \u001b[38;5;129;01mor\u001b[39;00m bound\u001b[38;5;241m.\u001b[39mkwargs\u001b[38;5;241m.\u001b[39mget(label_namer))\n",
      "File \u001b[0;32m/usr/lib/python3/dist-packages/matplotlib/axes/_axes.py:5488\u001b[0m, in \u001b[0;36mAxes.imshow\u001b[0;34m(self, X, cmap, norm, aspect, interpolation, alpha, vmin, vmax, origin, extent, interpolation_stage, filternorm, filterrad, resample, url, **kwargs)\u001b[0m\n\u001b[1;32m   5481\u001b[0m \u001b[38;5;28mself\u001b[39m\u001b[38;5;241m.\u001b[39mset_aspect(aspect)\n\u001b[1;32m   5482\u001b[0m im \u001b[38;5;241m=\u001b[39m mimage\u001b[38;5;241m.\u001b[39mAxesImage(\u001b[38;5;28mself\u001b[39m, cmap, norm, interpolation,\n\u001b[1;32m   5483\u001b[0m                       origin, extent, filternorm\u001b[38;5;241m=\u001b[39mfilternorm,\n\u001b[1;32m   5484\u001b[0m                       filterrad\u001b[38;5;241m=\u001b[39mfilterrad, resample\u001b[38;5;241m=\u001b[39mresample,\n\u001b[1;32m   5485\u001b[0m                       interpolation_stage\u001b[38;5;241m=\u001b[39minterpolation_stage,\n\u001b[1;32m   5486\u001b[0m                       \u001b[38;5;241m*\u001b[39m\u001b[38;5;241m*\u001b[39mkwargs)\n\u001b[0;32m-> 5488\u001b[0m \u001b[43mim\u001b[49m\u001b[38;5;241;43m.\u001b[39;49m\u001b[43mset_data\u001b[49m\u001b[43m(\u001b[49m\u001b[43mX\u001b[49m\u001b[43m)\u001b[49m\n\u001b[1;32m   5489\u001b[0m im\u001b[38;5;241m.\u001b[39mset_alpha(alpha)\n\u001b[1;32m   5490\u001b[0m \u001b[38;5;28;01mif\u001b[39;00m im\u001b[38;5;241m.\u001b[39mget_clip_path() \u001b[38;5;129;01mis\u001b[39;00m \u001b[38;5;28;01mNone\u001b[39;00m:\n\u001b[1;32m   5491\u001b[0m     \u001b[38;5;66;03m# image does not already have clipping set, clip to axes patch\u001b[39;00m\n",
      "File \u001b[0;32m/usr/lib/python3/dist-packages/matplotlib/image.py:715\u001b[0m, in \u001b[0;36m_ImageBase.set_data\u001b[0;34m(self, A)\u001b[0m\n\u001b[1;32m    711\u001b[0m     \u001b[38;5;28mself\u001b[39m\u001b[38;5;241m.\u001b[39m_A \u001b[38;5;241m=\u001b[39m \u001b[38;5;28mself\u001b[39m\u001b[38;5;241m.\u001b[39m_A[:, :, \u001b[38;5;241m0\u001b[39m]\n\u001b[1;32m    713\u001b[0m \u001b[38;5;28;01mif\u001b[39;00m \u001b[38;5;129;01mnot\u001b[39;00m (\u001b[38;5;28mself\u001b[39m\u001b[38;5;241m.\u001b[39m_A\u001b[38;5;241m.\u001b[39mndim \u001b[38;5;241m==\u001b[39m \u001b[38;5;241m2\u001b[39m\n\u001b[1;32m    714\u001b[0m         \u001b[38;5;129;01mor\u001b[39;00m \u001b[38;5;28mself\u001b[39m\u001b[38;5;241m.\u001b[39m_A\u001b[38;5;241m.\u001b[39mndim \u001b[38;5;241m==\u001b[39m \u001b[38;5;241m3\u001b[39m \u001b[38;5;129;01mand\u001b[39;00m \u001b[38;5;28mself\u001b[39m\u001b[38;5;241m.\u001b[39m_A\u001b[38;5;241m.\u001b[39mshape[\u001b[38;5;241m-\u001b[39m\u001b[38;5;241m1\u001b[39m] \u001b[38;5;129;01min\u001b[39;00m [\u001b[38;5;241m3\u001b[39m, \u001b[38;5;241m4\u001b[39m]):\n\u001b[0;32m--> 715\u001b[0m     \u001b[38;5;28;01mraise\u001b[39;00m \u001b[38;5;167;01mTypeError\u001b[39;00m(\u001b[38;5;124m\"\u001b[39m\u001b[38;5;124mInvalid shape \u001b[39m\u001b[38;5;132;01m{}\u001b[39;00m\u001b[38;5;124m for image data\u001b[39m\u001b[38;5;124m\"\u001b[39m\n\u001b[1;32m    716\u001b[0m                     \u001b[38;5;241m.\u001b[39mformat(\u001b[38;5;28mself\u001b[39m\u001b[38;5;241m.\u001b[39m_A\u001b[38;5;241m.\u001b[39mshape))\n\u001b[1;32m    718\u001b[0m \u001b[38;5;28;01mif\u001b[39;00m \u001b[38;5;28mself\u001b[39m\u001b[38;5;241m.\u001b[39m_A\u001b[38;5;241m.\u001b[39mndim \u001b[38;5;241m==\u001b[39m \u001b[38;5;241m3\u001b[39m:\n\u001b[1;32m    719\u001b[0m     \u001b[38;5;66;03m# If the input data has values outside the valid range (after\u001b[39;00m\n\u001b[1;32m    720\u001b[0m     \u001b[38;5;66;03m# normalisation), we issue a warning and then clip X to the bounds\u001b[39;00m\n\u001b[1;32m    721\u001b[0m     \u001b[38;5;66;03m# - otherwise casting wraps extreme values, hiding outliers and\u001b[39;00m\n\u001b[1;32m    722\u001b[0m     \u001b[38;5;66;03m# making reliable interpretation impossible.\u001b[39;00m\n\u001b[1;32m    723\u001b[0m     high \u001b[38;5;241m=\u001b[39m \u001b[38;5;241m255\u001b[39m \u001b[38;5;28;01mif\u001b[39;00m np\u001b[38;5;241m.\u001b[39missubdtype(\u001b[38;5;28mself\u001b[39m\u001b[38;5;241m.\u001b[39m_A\u001b[38;5;241m.\u001b[39mdtype, np\u001b[38;5;241m.\u001b[39minteger) \u001b[38;5;28;01melse\u001b[39;00m \u001b[38;5;241m1\u001b[39m\n",
      "\u001b[0;31mTypeError\u001b[0m: Invalid shape (100,) for image data"
     ]
    },
    {
     "data": {
      "image/png": "[encoded data removed]",
      "text/plain": [
       "<Figure size 640x480 with 1 Axes>"
      ]
     },
     "metadata": {},
     "output_type": "display_data"
    }
   ],
   "source": [
    "from lensing_system.sources import GaussianBlob\n",
    "\n",
    "\n",
    "# Create a GaussianBlob source\n",
    "source = GaussianBlob(\n",
    "{\n",
    "    \"I\": torch.tensor(1.0, device=\"cuda\"),\n",
    "    \"position_rad\": torch.tensor([\n",
    "        8.816750512285077e-07,\n",
    "        -6.083888355237159e-07\n",
    "    ], device=\"cuda\"),\n",
    "    \"orient_rad\": torch.tensor(0.0, device=\"cuda\"),\n",
    "    \"q\": torch.tensor(0.8, device=\"cuda\"),\n",
    "    \"std_kpc\": torch.tensor(0.8, device=\"cuda\"),\n",
    "    \"redshift\": torch.tensor(4.796155058524947, device=\"cuda\")\n",
    "},\n",
    "{\n",
    "    \"D_l\": torch.tensor(1745.9939572172996, device=\"cuda\"),\n",
    "    \"D_s\": torch.tensor(1351.5695644910784, device=\"cuda\"),\n",
    "    \"D_ls\": torch.tensor(386.2062944671769, device=\"cuda\"),\n",
    "    \"Theta_E\": torch.tensor(5.881749693351248e-06, device=\"cuda\")\n",
    "}, device=\"cuda\")\n",
    "\n",
    "my_source_grid= source_grid[0]\n",
    "\n",
    "print(my_source_grid.shape)\n",
    "# check if the source grid is all real or also complex\n",
    "print(\"source grid is complex:\", torch.is_complex(my_source_grid))\n",
    "\n",
    "#load the other source grid from the ../../notebooks/source_grid.npy\n",
    "import numpy as np\n",
    "my_source_grid2= np.load(\"../../notebooks/source_grid.npy\")\n",
    "tensor_source_grid2 = torch.tensor(my_source_grid2, device=\"cuda\")\n",
    "# Compare the two grids\n",
    "print(\"Shape of tensor_source_grid2:\", tensor_source_grid2.shape)\n",
    "print(\"Shape of my_source_grid:\", my_source_grid.shape)\n",
    "\n",
    "# Check if the two grids are equal\n",
    "are_equal = torch.allclose(my_source_grid, tensor_source_grid2, atol=1e-6)\n",
    "print(\"Are the two grids approximately equal?\", are_equal)\n",
    "\n",
    "# Compute the difference\n",
    "difference = my_source_grid - tensor_source_grid2\n",
    "print(\"Max difference:\", torch.max(torch.abs(difference)))\n",
    "print(\"Mean difference:\", torch.mean(torch.abs(difference)))\n",
    "\n",
    "# Visualize the difference\n",
    "import matplotlib.pyplot as plt\n",
    "\n",
    "plt.figure(figsize=(10, 5))\n",
    "plt.subplot(1, 2, 1)\n",
    "plt.title(\"My Source Grid\")\n",
    "plt.scatter(my_source_grid[:, 0].cpu(), my_source_grid[:, 1].cpu(), s=1, label=\"My Source Grid\")\n",
    "plt.legend()\n",
    "\n",
    "plt.subplot(1, 2, 2)\n",
    "plt.title(\"Tensor Source Grid 2\")\n",
    "plt.scatter(tensor_source_grid2[:, 0].cpu(), tensor_source_grid2[:, 1].cpu(), s=1, label=\"Tensor Source Grid 2\")\n",
    "plt.legend()\n",
    "\n",
    "plt.tight_layout()\n",
    "plt.show()\n",
    "\n",
    "my_source_grid2=torch.tensor(my_source_grid2, device=\"cuda\")\n",
    "if my_source_grid2.dtype != torch.float32:\n",
    "            my_source_grid2= my_source_grid2.to(dtype=torch.float32)\n",
    "            #\\  print(\"converting lens grid to dtype\", lens_grid.dtype)\n",
    "\n",
    "img= source.forward(my_source_grid2)\n",
    "\n",
    "import matplotlib.pyplot as plt\n",
    "\n",
    "plt.imshow(img[0].cpu().detach().numpy(), cmap='gray')"
   ]
  },
  {
   "cell_type": "code",
   "execution_count": 3,
   "id": "dbfc4f00",
   "metadata": {},
   "outputs": [
    {
     "name": "stdout",
     "output_type": "stream",
     "text": [
      "torch.Size([1, 100, 100, 2])\n",
      "tensor([[[[-1.1022e-05, -1.0488e-05],\n",
      "          [-1.0767e-05, -1.0445e-05],\n",
      "          [-1.0514e-05, -1.0402e-05],\n",
      "          ...,\n",
      "          [ 1.0361e-05, -1.0301e-05],\n",
      "          [ 1.0619e-05, -1.0340e-05],\n",
      "          [ 1.0878e-05, -1.0379e-05]],\n",
      "\n",
      "         [[-1.0979e-05, -1.0233e-05],\n",
      "          [-1.0724e-05, -1.0189e-05],\n",
      "          [-1.0470e-05, -1.0145e-05],\n",
      "          ...,\n",
      "          [ 1.0322e-05, -1.0040e-05],\n",
      "          [ 1.0579e-05, -1.0080e-05],\n",
      "          [ 1.0838e-05, -1.0120e-05]],\n",
      "\n",
      "         [[-1.0935e-05, -9.9796e-06],\n",
      "          [-1.0680e-05, -9.9353e-06],\n",
      "          [-1.0426e-05, -9.8907e-06],\n",
      "          ...,\n",
      "          [ 1.0281e-05, -9.7815e-06],\n",
      "          [ 1.0539e-05, -9.8220e-06],\n",
      "          [ 1.0799e-05, -9.8621e-06]],\n",
      "\n",
      "         ...,\n",
      "\n",
      "         [[-1.0799e-05,  9.8621e-06],\n",
      "          [-1.0539e-05,  9.8220e-06],\n",
      "          [-1.0281e-05,  9.7815e-06],\n",
      "          ...,\n",
      "          [ 1.0426e-05,  9.8907e-06],\n",
      "          [ 1.0680e-05,  9.9353e-06],\n",
      "          [ 1.0935e-05,  9.9796e-06]],\n",
      "\n",
      "         [[-1.0838e-05,  1.0120e-05],\n",
      "          [-1.0579e-05,  1.0080e-05],\n",
      "          [-1.0322e-05,  1.0040e-05],\n",
      "          ...,\n",
      "          [ 1.0470e-05,  1.0145e-05],\n",
      "          [ 1.0724e-05,  1.0189e-05],\n",
      "          [ 1.0979e-05,  1.0233e-05]],\n",
      "\n",
      "         [[-1.0878e-05,  1.0379e-05],\n",
      "          [-1.0619e-05,  1.0340e-05],\n",
      "          [-1.0361e-05,  1.0301e-05],\n",
      "          ...,\n",
      "          [ 1.0514e-05,  1.0402e-05],\n",
      "          [ 1.0767e-05,  1.0445e-05],\n",
      "          [ 1.1022e-05,  1.0488e-05]]]], device='cuda:0')\n"
     ]
    },
    {
     "data": {
      "image/png": "[encoded data removed]",
      "text/plain": [
       "<Figure size 640x480 with 1 Axes>"
      ]
     },
     "metadata": {},
     "output_type": "display_data"
    },
    {
     "name": "stdout",
     "output_type": "stream",
     "text": [
      "tensor([[[4.0365e-07, 4.0365e-07, 4.0365e-07,  ..., 4.0365e-07,\n",
      "          4.0365e-07, 4.0365e-07],\n",
      "         [4.0365e-07, 4.0365e-07, 4.0365e-07,  ..., 4.0365e-07,\n",
      "          4.0365e-07, 4.0365e-07],\n",
      "         [4.0365e-07, 4.0365e-07, 4.0365e-07,  ..., 4.0365e-07,\n",
      "          4.0365e-07, 4.0365e-07],\n",
      "         ...,\n",
      "         [4.0367e-07, 4.0367e-07, 4.0367e-07,  ..., 4.0367e-07,\n",
      "          4.0367e-07, 4.0367e-07],\n",
      "         [4.0367e-07, 4.0367e-07, 4.0367e-07,  ..., 4.0367e-07,\n",
      "          4.0367e-07, 4.0367e-07],\n",
      "         [4.0367e-07, 4.0367e-07, 4.0367e-07,  ..., 4.0367e-07,\n",
      "          4.0367e-07, 4.0367e-07]]], device='cuda:0')\n"
     ]
    }
   ],
   "source": [
    "print(source_grid.shape)\n",
    "print(source_grid)\n",
    "\n",
    "# scatter plot the first sorce grid\n",
    "import matplotlib.pyplot as plt\n",
    "plt.scatter(source_grid[0, :, 0].cpu(), source_grid[0, :, 1].cpu(), s=1)\n",
    "plt.title(\"Source grid\")\n",
    "plt.xlabel(\"x\")\n",
    "plt.ylabel(\"y\")\n",
    "\n",
    "zoom=1e4\n",
    "\n",
    "lim=1/zoom\n",
    "\n",
    "plt.xlim(-lim, lim)\n",
    "plt.ylim(-lim, lim)\n",
    "plt.show()\n",
    "\n",
    "print(images)"
   ]
  },
  {
   "cell_type": "code",
   "execution_count": 4,
   "id": "4876ea5b",
   "metadata": {},
   "outputs": [
    {
     "name": "stdout",
     "output_type": "stream",
     "text": [
      "torch.Size([1, 100, 100])\n"
     ]
    },
    {
     "data": {
      "image/png": "[encoded data removed]",
      "text/plain": [
       "<Figure size 640x480 with 1 Axes>"
      ]
     },
     "metadata": {},
     "output_type": "display_data"
    }
   ],
   "source": [
    "print(images.shape)\n",
    "\n",
    "import matplotlib.pyplot as plt\n",
    "import numpy as np\n",
    "import matplotlib.cm as cm\n",
    "for i in range(1):\n",
    "    first_image = images[i]\n",
    "\n",
    "    # Convert the first image to a numpy array\n",
    "    first_image_np = first_image.cpu().numpy()\n",
    "\n",
    "    plt.imshow(first_image_np, cmap='viridis')\n",
    "    plt.show()\n"
   ]
  },
  {
   "cell_type": "code",
   "execution_count": 2,
   "id": "52691a5d",
   "metadata": {},
   "outputs": [],
   "source": [
    "\n",
    "# Cell 1: imports & load\n",
    "import torch\n",
    "\n",
    "# adjust this path as needed\n",
    "catalog_path = \"../../catalogs/small_example_catalog.pth\"\n",
    "flat = torch.load(catalog_path)"
   ]
  },
  {
   "cell_type": "code",
   "execution_count": 3,
   "id": "6faac8db",
   "metadata": {},
   "outputs": [
    {
     "name": "stdout",
     "output_type": "stream",
     "text": [
      "dict_keys(['sys_idx', 'params', 'param_map'])\n"
     ]
    }
   ],
   "source": [
    "Pemd_tensor_init=flat[\"mass_components\"][\"PEMD\"]\n",
    "print(Pemd_tensor_init.keys())\n",
    "\n"
   ]
  },
  {
   "cell_type": "code",
   "execution_count": 4,
   "id": "3a749db2",
   "metadata": {},
   "outputs": [
    {
     "name": "stdout",
     "output_type": "stream",
     "text": [
      "cpu\n",
      "dict_keys(['sys_idx', 'params', 'param_map'])\n"
     ]
    }
   ],
   "source": [
    "Pemd_tensor_init=flat[\"mass_components\"][\"PEMD\"]['params']\n",
    "\n",
    "precomputed_tensor_init=flat[\"precomputed\"]\n",
    "print(precomputed_tensor_init[\"params\"].device)\n",
    "precomputed_tensor_init[\"params\"] = precomputed_tensor_init[\"params\"].to(\"cuda\")\n",
    "\n",
    "print(precomputed_tensor_init.keys())\n"
   ]
  },
  {
   "cell_type": "code",
   "execution_count": 5,
   "id": "dbe4449a",
   "metadata": {},
   "outputs": [],
   "source": [
    "my_pemd=PEMD(Pemd_tensor_init.to(\"cuda:0\"),\n",
    "            precomputed_tensor_init)"
   ]
  },
  {
   "cell_type": "code",
   "execution_count": null,
   "id": "17acfd9c",
   "metadata": {},
   "outputs": [],
   "source": []
  },
  {
   "cell_type": "code",
   "execution_count": 1,
   "id": "7f29ddc0",
   "metadata": {},
   "outputs": [
    {
     "ename": "NameError",
     "evalue": "name 'flat' is not defined",
     "output_type": "error",
     "traceback": [
      "\u001b[0;31m---------------------------------------------------------------------------\u001b[0m",
      "\u001b[0;31mNameError\u001b[0m                                 Traceback (most recent call last)",
      "Cell \u001b[0;32mIn[1], line 1\u001b[0m\n\u001b[0;32m----> 1\u001b[0m Nfw_tensor_init\u001b[38;5;241m=\u001b[39m\u001b[43mflat\u001b[49m[\u001b[38;5;124m\"\u001b[39m\u001b[38;5;124mmass_components\u001b[39m\u001b[38;5;124m\"\u001b[39m][\u001b[38;5;124m\"\u001b[39m\u001b[38;5;124mNFW\u001b[39m\u001b[38;5;124m\"\u001b[39m][\u001b[38;5;124m'\u001b[39m\u001b[38;5;124mparams\u001b[39m\u001b[38;5;124m'\u001b[39m]\n\u001b[1;32m      3\u001b[0m \u001b[38;5;66;03m#now the initialization of the precomputed quantities is more tricky\u001b[39;00m\n\u001b[1;32m      4\u001b[0m Nfw_indexes\u001b[38;5;241m=\u001b[39mflat[\u001b[38;5;124m\"\u001b[39m\u001b[38;5;124mmass_components\u001b[39m\u001b[38;5;124m\"\u001b[39m][\u001b[38;5;124m\"\u001b[39m\u001b[38;5;124mNFW\u001b[39m\u001b[38;5;124m\"\u001b[39m][\u001b[38;5;124m'\u001b[39m\u001b[38;5;124msys_idx\u001b[39m\u001b[38;5;124m'\u001b[39m]\n",
      "\u001b[0;31mNameError\u001b[0m: name 'flat' is not defined"
     ]
    }
   ],
   "source": [
    "Nfw_tensor_init=flat[\"mass_components\"][\"NFW\"]['params']\n",
    "\n",
    "#now the initialization of the precomputed quantities is more tricky\n",
    "Nfw_indexes=flat[\"mass_components\"][\"NFW\"]['sys_idx']\n",
    "\n",
    "\n",
    "\n",
    "print(torch.max(Nfw_indexes))\n",
    "\n",
    "print(len(Nfw_tensor_init))\n",
    "\n",
    "\n",
    "\n",
    "#now we slice up the nfw tensor to get the pre\n",
    "precomputed_nfw_params=flat[\"precomputed\"][\"params\"][Nfw_indexes]\n",
    "precomputed_nfw_map=flat[\"precomputed\"][\"param_map\"]\n",
    "\n",
    "precomputed_init_nfw={\n",
    "    \"params\":precomputed_nfw_params.to(\"cuda:0\"),\n",
    "    \"param_map\":precomputed_nfw_map\n",
    "}\n",
    "print(Nfw_tensor_init.type())"
   ]
  },
  {
   "cell_type": "code",
   "execution_count": 9,
   "id": "5314fc55",
   "metadata": {},
   "outputs": [],
   "source": [
    "device = \"cuda:0\"\n",
    "dtype  = torch.float32\n",
    "\n",
    "# assume `Nfw_tensor_init` is already your [B,7] tensor including the D_l, D_s, D_ls columns\n",
    "#param_tensor = Nfw_tensor_init.to(device=device, dtype=dtype)\n",
    "\n",
    "my_nfw = NFW(Nfw_tensor_init.to(device=device, dtype=dtype),\n",
    "             precomputed_init_nfw,\n",
    "             device=device, dtype=dtype)\n"
   ]
  },
  {
   "cell_type": "code",
   "execution_count": 4,
   "id": "94da4114",
   "metadata": {},
   "outputs": [],
   "source": [
    "from lensing_system_broadcasting import LensModel\n",
    "# Cell 1: imports & load\n",
    "import torch\n",
    "\n",
    "# adjust this path as needed\n",
    "catalog_path = \"../../catalogs/SIS_10e11_sub_small_test.pth\"\n",
    "flat = torch.load(catalog_path)\n"
   ]
  },
  {
   "cell_type": "code",
   "execution_count": 5,
   "id": "8904278b",
   "metadata": {},
   "outputs": [],
   "source": [
    "masses_data = flat['mass_components']\n",
    "for mtype, data in masses_data.items():\n",
    "    # Convert to CUDA tensors\n",
    "    masses_data[mtype]['params'] = data['params'].to(device='cuda:0')\n",
    "    masses_data[mtype]['sys_idx'] = data['sys_idx'].to(device='cuda:0')\n",
    "\n",
    "\n",
    "precomputed_data = flat['precomputed']\n",
    "\n",
    "precomputed_data['params'] = precomputed_data['params'].to(device='cuda:0')\n",
    "precomputed_data['sys_idx'] = precomputed_data['sys_idx'].to(device='cuda:0')\n",
    "\n",
    "my_lens_model = LensModel(\n",
    "    number_of_systems=100,\n",
    "    masses_data=masses_data,\n",
    "    precomputed=precomputed_data,\n",
    ")"
   ]
  },
  {
   "cell_type": "markdown",
   "id": "9956103b",
   "metadata": {},
   "source": [
    "# Lets try a forward pass"
   ]
  },
  {
   "cell_type": "code",
   "execution_count": null,
   "id": "b2720156",
   "metadata": {},
   "outputs": [],
   "source": []
  },
  {
   "cell_type": "code",
   "execution_count": null,
   "id": "9764a6f4",
   "metadata": {},
   "outputs": [],
   "source": []
  },
  {
   "cell_type": "code",
   "execution_count": null,
   "id": "b18855ed",
   "metadata": {},
   "outputs": [],
   "source": []
  },
  {
   "cell_type": "code",
   "execution_count": 6,
   "id": "0097696d",
   "metadata": {},
   "outputs": [],
   "source": [
    "from shared_utils import _grid_lens\n",
    "\n",
    "my_grid= _grid_lens(3, 100, device=\"cuda:0\")"
   ]
  },
  {
   "cell_type": "code",
   "execution_count": 8,
   "id": "27d83800",
   "metadata": {},
   "outputs": [
    {
     "name": "stdout",
     "output_type": "stream",
     "text": [
      "lens_grid torch.Size([100, 100, 2])\n"
     ]
    }
   ],
   "source": [
    "deflectedPoints=my_lens_model(my_grid)"
   ]
  },
  {
   "cell_type": "code",
   "execution_count": 9,
   "id": "c37f67b8",
   "metadata": {},
   "outputs": [
    {
     "name": "stdout",
     "output_type": "stream",
     "text": [
      "torch.Size([100, 100, 100, 2])\n"
     ]
    }
   ],
   "source": [
    "print(deflectedPoints.shape)"
   ]
  },
  {
   "cell_type": "code",
   "execution_count": 10,
   "id": "6fc3ec70",
   "metadata": {},
   "outputs": [
    {
     "name": "stdout",
     "output_type": "stream",
     "text": [
      "tensor([[[-2.3960e-06, -2.4727e-06],\n",
      "         [-2.2985e-06, -2.4226e-06],\n",
      "         [-2.2025e-06, -2.3720e-06],\n",
      "         ...,\n",
      "         [ 2.1432e-06, -2.3149e-06],\n",
      "         [ 2.2410e-06, -2.3638e-06],\n",
      "         [ 2.3403e-06, -2.4122e-06]],\n",
      "\n",
      "        [[-2.3459e-06, -2.3783e-06],\n",
      "         [-2.2478e-06, -2.3277e-06],\n",
      "         [-2.1513e-06, -2.2765e-06],\n",
      "         ...,\n",
      "         [ 2.0938e-06, -2.2177e-06],\n",
      "         [ 2.1921e-06, -2.2671e-06],\n",
      "         [ 2.2920e-06, -2.3159e-06]],\n",
      "\n",
      "        [[-2.2954e-06, -2.2853e-06],\n",
      "         [-2.1967e-06, -2.2343e-06],\n",
      "         [-2.0996e-06, -2.1826e-06],\n",
      "         ...,\n",
      "         [ 2.0440e-06, -2.1220e-06],\n",
      "         [ 2.1428e-06, -2.1719e-06],\n",
      "         [ 2.2432e-06, -2.2211e-06]],\n",
      "\n",
      "        ...,\n",
      "\n",
      "        [[-2.2432e-06,  2.2211e-06],\n",
      "         [-2.1428e-06,  2.1719e-06],\n",
      "         [-2.0440e-06,  2.1220e-06],\n",
      "         ...,\n",
      "         [ 2.0996e-06,  2.1826e-06],\n",
      "         [ 2.1967e-06,  2.2343e-06],\n",
      "         [ 2.2954e-06,  2.2853e-06]],\n",
      "\n",
      "        [[-2.2920e-06,  2.3159e-06],\n",
      "         [-2.1921e-06,  2.2671e-06],\n",
      "         [-2.0938e-06,  2.2177e-06],\n",
      "         ...,\n",
      "         [ 2.1513e-06,  2.2765e-06],\n",
      "         [ 2.2478e-06,  2.3277e-06],\n",
      "         [ 2.3459e-06,  2.3783e-06]],\n",
      "\n",
      "        [[-2.3403e-06,  2.4122e-06],\n",
      "         [-2.2410e-06,  2.3638e-06],\n",
      "         [-2.1432e-06,  2.3149e-06],\n",
      "         ...,\n",
      "         [ 2.2025e-06,  2.3720e-06],\n",
      "         [ 2.2985e-06,  2.4226e-06],\n",
      "         [ 2.3960e-06,  2.4727e-06]]], device='cuda:0')\n"
     ]
    }
   ],
   "source": [
    "first_field=deflectedPoints[5]\n",
    "\n",
    "\n",
    "print(first_field)"
   ]
  },
  {
   "cell_type": "code",
   "execution_count": 11,
   "id": "81bb1657",
   "metadata": {},
   "outputs": [
    {
     "name": "stdout",
     "output_type": "stream",
     "text": [
      "dict_keys(['precomputed', 'mass_components', 'source_models'])\n"
     ]
    }
   ],
   "source": [
    "from lensing_system_broadcasting import SourceModel\n",
    "# Cell 1: imports & load\n",
    "import torch\n",
    "\n",
    "# adjust this path as needed\n",
    "catalog_path = \"../../catalogs/SIS_10e11_sub_small_test.pth\"\n",
    "flat = torch.load(catalog_path)\n",
    "print(flat.keys())"
   ]
  },
  {
   "cell_type": "code",
   "execution_count": 14,
   "id": "add13afb",
   "metadata": {},
   "outputs": [],
   "source": [
    "source_data = flat['source_models']\n",
    "for mtype, data in source_data.items():\n",
    "    # Convert to CUDA tensors\n",
    "    source_data[mtype]['params'] = data['params'].to(device='cuda:0')\n",
    "    source_data[mtype]['sys_idx'] = data['sys_idx'].to(device='cuda:0')\n",
    "\n",
    "\n",
    "precomputed_data = flat['precomputed']\n",
    "\n",
    "precomputed_data['params'] = precomputed_data['params'].to(device='cuda:0')\n",
    "precomputed_data['sys_idx'] = precomputed_data['sys_idx'].to(device='cuda:0')\n",
    "\n",
    "my_source_model = SourceModel(\n",
    "    source_data=source_data,\n",
    "    precomputed=precomputed_data,\n",
    ")"
   ]
  },
  {
   "cell_type": "code",
   "execution_count": 16,
   "id": "a822a0f8",
   "metadata": {},
   "outputs": [],
   "source": [
    "# now lets try calling the forward pass\n",
    "\n",
    "source_eval=my_source_model(deflectedPoints)\n"
   ]
  },
  {
   "cell_type": "code",
   "execution_count": 17,
   "id": "2356b2c6",
   "metadata": {},
   "outputs": [
    {
     "name": "stdout",
     "output_type": "stream",
     "text": [
      "torch.Size([100, 100, 100])\n"
     ]
    }
   ],
   "source": [
    "print(source_eval.shape)"
   ]
  },
  {
   "cell_type": "code",
   "execution_count": null,
   "id": "5fcc9c7c",
   "metadata": {},
   "outputs": [],
   "source": []
  }
 ],
 "metadata": {
  "kernelspec": {
   "display_name": "Python 3",
   "language": "python",
   "name": "python3"
  },
  "language_info": {
   "codemirror_mode": {
    "name": "ipython",
    "version": 3
   },
   "file_extension": ".py",
   "mimetype": "text/x-python",
   "name": "python",
   "nbconvert_exporter": "python",
   "pygments_lexer": "ipython3",
   "version": "3.10.12"
  }
 },
 "nbformat": 4,
 "nbformat_minor": 5
}
